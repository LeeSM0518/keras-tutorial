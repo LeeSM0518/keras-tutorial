{
 "cells": [
  {
   "cell_type": "markdown",
   "metadata": {},
   "source": [
    "# CHAPTER 08. 문장(시계열수치)입력 이진분류 모델 레시피\n",
    "\n",
    "* 모델을 입력하기 위해서 문장을 시계열수치로 인코딩하는 방법과 여러 가지 이진분류모델을 구성해 보고, 학습 결과를 살펴보자.\n",
    "* 이 모델은 문장 혹은 시계열수치로 양성/음성을 분류하거나 이벤트 발생 유무를 감지하는 문제를 풀 수 있다."
   ]
  },
  {
   "cell_type": "code",
   "execution_count": 40,
   "metadata": {},
   "outputs": [],
   "source": [
    "# 사용할 패키지 불러오기\n",
    "from keras.datasets import imdb\n",
    "from keras.preprocessing import sequence\n",
    "from keras.models import Sequential\n",
    "from keras.layers import Dense, Embedding, LSTM, Flatten, Dropout, \\\n",
    "                         Conv1D, GlobalMaxPooling1D, MaxPooling1D\n",
    "\n",
    "%matplotlib inline\n",
    "import matplotlib.pyplot as plt"
   ]
  },
  {
   "cell_type": "markdown",
   "metadata": {},
   "source": [
    "## 데이터셋 설명\n",
    "* IMDB에서 제공하는 영화 리뷰 데이터셋을 이용할 것이다. 이 데이터셋은 훈련셋 25,000개, 시험셋 25,000개의 샘플을 제공한다.\n",
    "* 라벨은 1과 0으로 좋아요/싫어요로 구성된다."
   ]
  },
  {
   "cell_type": "code",
   "execution_count": 7,
   "metadata": {},
   "outputs": [],
   "source": [
    "# 데이터셋 생성하기\n",
    "(x_train, y_train), (x_test, y_test) = imdb.load_data(num_words=20000)"
   ]
  },
  {
   "cell_type": "code",
   "execution_count": 3,
   "metadata": {},
   "outputs": [
    {
     "name": "stdout",
     "output_type": "stream",
     "text": [
      "[1, 14, 22, 16, 43, 530, 973, 1622, 1385, 65, 458, 4468, 66, 3941, 4, 173, 36, 256, 5, 25, 100, 43, 838, 112, 50, 670, 2, 9, 35, 480, 284, 5, 150, 4, 172, 112, 167, 2, 336, 385, 39, 4, 172, 4536, 1111, 17, 546, 38, 13, 447, 4, 192, 50, 16, 6, 147, 2025, 19, 14, 22, 4, 1920, 4613, 469, 4, 22, 71, 87, 12, 16, 43, 530, 38, 76, 15, 13, 1247, 4, 22, 17, 515, 17, 12, 16, 626, 18, 19193, 5, 62, 386, 12, 8, 316, 8, 106, 5, 4, 2223, 5244, 16, 480, 66, 3785, 33, 4, 130, 12, 16, 38, 619, 5, 25, 124, 51, 36, 135, 48, 25, 1415, 33, 6, 22, 12, 215, 28, 77, 52, 5, 14, 407, 16, 82, 10311, 8, 4, 107, 117, 5952, 15, 256, 4, 2, 7, 3766, 5, 723, 36, 71, 43, 530, 476, 26, 400, 317, 46, 7, 4, 12118, 1029, 13, 104, 88, 4, 381, 15, 297, 98, 32, 2071, 56, 26, 141, 6, 194, 7486, 18, 4, 226, 22, 21, 134, 476, 26, 480, 5, 144, 30, 5535, 18, 51, 36, 28, 224, 92, 25, 104, 4, 226, 65, 16, 38, 1334, 88, 12, 16, 283, 5, 16, 4472, 113, 103, 32, 15, 16, 5345, 19, 178, 32]\n"
     ]
    }
   ],
   "source": [
    "# 훈련셋의 데이터가 어떻게 구성되는지 확인\n",
    "print(x_train[0])"
   ]
  },
  {
   "cell_type": "markdown",
   "metadata": {},
   "source": [
    "* x_train은 이미 사전에 처리된 데이터를 저장하고 있다.\n",
    "* 각 단어는 빈도수로 표현된다. (ex. 가장 빈도수가 높은 \"the\"에 인덱스 1이 대응됨)\n",
    "* 예를 들어 \"To be or not to be\" 라는 문장\n",
    "    * \"to\" : 5\n",
    "    * \"be\" : 8\n",
    "    * \"or\" : 21\n",
    "    * \"not\" : 3\n",
    "* 위의 문장을 벡터로 인코딩하면 \\[5, 8, 21, 3, 5, 8\\] 로 된다."
   ]
  },
  {
   "cell_type": "code",
   "execution_count": 4,
   "metadata": {},
   "outputs": [],
   "source": [
    "# 훈련셋 25,000개를 훈련셋 20,000개와 검증셋 5,000개로 분리한다.\n",
    "x_val = x_train[20000:]\n",
    "y_val = y_train[20000:]\n",
    "x_train = x_train[:20000]\n",
    "y_train = y_train[:20000]"
   ]
  },
  {
   "cell_type": "code",
   "execution_count": 9,
   "metadata": {},
   "outputs": [
    {
     "name": "stdout",
     "output_type": "stream",
     "text": [
      "218\n",
      "189\n"
     ]
    }
   ],
   "source": [
    "print(len(x_train[0]))\n",
    "print(len(x_train[1]))"
   ]
  },
  {
   "cell_type": "markdown",
   "metadata": {},
   "source": [
    "모델의 입력으로 사용하려면 데이터를 고정된 길이로 만들어야 하므로 케라스에서 제공되는 전처리 함수인 **sequence의 pad_sequences() 함수를** 사용한다."
   ]
  },
  {
   "cell_type": "code",
   "execution_count": 10,
   "metadata": {},
   "outputs": [],
   "source": [
    "x_train = sequence.pad_sequences(x_train, maxlen=200)\n",
    "x_val = sequence.pad_sequences(x_val, maxlen=200)\n",
    "x_test = sequence.pad_sequences(x_test, maxlen=200)"
   ]
  },
  {
   "cell_type": "markdown",
   "metadata": {},
   "source": [
    "* **pad_sequences() 함수 역할**\n",
    "    * 문장의 길이를 maxlen 인자로 맞춰준다.\n",
    "    * (num_samples, num_timesteps) 으로 2차원의 numpy 배열로 만들어준다.\n",
    "        * maxlen을 200으로 지정하면 num_timesteps도 200이 된다."
   ]
  },
  {
   "cell_type": "code",
   "execution_count": 11,
   "metadata": {},
   "outputs": [
    {
     "name": "stdout",
     "output_type": "stream",
     "text": [
      "200\n",
      "200\n"
     ]
    }
   ],
   "source": [
    "print(len(x_train[0]))\n",
    "print(len(x_train[1]))"
   ]
  },
  {
   "cell_type": "markdown",
   "metadata": {},
   "source": [
    "<br>\n",
    "\n",
    "---\n",
    "\n",
    "<br>\n",
    "\n",
    "# 모델 준비\n",
    "## 다층퍼셉트론 모델\n",
    "\n",
    "<img src=\"http://tykimos.github.io/warehouse/2017-8-17-Text_Input_Binary_Classification_Model_Recipe_1m.png\">\n",
    "\n",
    "* 임베딩 레이어로 인코딩한 후 Dense 레이어를 통해 분류하는 다층퍼셉트론 신경망 모델"
   ]
  },
  {
   "cell_type": "code",
   "execution_count": 24,
   "metadata": {},
   "outputs": [],
   "source": [
    "# 모델 구성하기\n",
    "model = Sequential()\n",
    "model.add(Embedding(20000, 128, input_length=200))\n",
    "model.add(Flatten())\n",
    "model.add(Dense(256, activation='relu'))\n",
    "model.add(Dense(1, activation='sigmoid'))"
   ]
  },
  {
   "cell_type": "markdown",
   "metadata": {},
   "source": [
    "* **임베딩 레이어의 인자**\n",
    "    * 첫 번째 인자(input_dim): 단어의 종류의 크기를 의미한다. 예시에서는 총 20,000개의 단어 종류가 있다는 것을 의미\n",
    "    * 두 번째 인자(output_dim): 단어를 인코딩한 후 나오는 벡터 크기이다. 이 값이 128이라면 한 단어의 의미를 128의 공간으로 나타내는 것이다.\n",
    "    * input_length: 단어의 수, 즉 문자의 길이를 나타낸다."
   ]
  },
  {
   "cell_type": "code",
   "execution_count": 21,
   "metadata": {},
   "outputs": [],
   "source": [
    "def learning(model):\n",
    "    # 모델 학습과정 설정하기\n",
    "    model.compile(loss='binary_crossentropy', optimizer='adam', metrics=['accuracy'])\n",
    "    \n",
    "    # 모델 학습시키기\n",
    "    hist = model.fit(x_train, y_train, epochs=2, batch_size=64, validation_data=(x_val, y_val))\n",
    "    return hist\n",
    "\n",
    "def review(model, hist):\n",
    "    # 학습과정 살펴보기\n",
    "    fig, loss_ax = plt.subplots()\n",
    "\n",
    "    acc_ax = loss_ax.twinx()\n",
    "\n",
    "    loss_ax.plot(hist.history['loss'], 'y', label='train loss')\n",
    "    loss_ax.plot(hist.history['val_loss'], 'r', label='val loss')\n",
    "    loss_ax.set_ylim([-0.2, 1.2])\n",
    "\n",
    "    acc_ax.plot(hist.history['accuracy'], 'b', label='train acc')\n",
    "    acc_ax.plot(hist.history['val_accuracy'], 'g', label='val acc')\n",
    "    acc_ax.set_ylim([-0.2, 1.2])\n",
    "\n",
    "    loss_ax.set_xlabel('epoch')\n",
    "    loss_ax.set_ylabel('loss')\n",
    "    acc_ax.set_ylabel('accuracy')\n",
    "\n",
    "    loss_ax.legend(loc='upper left')\n",
    "    acc_ax.legend(loc='lower left')\n",
    "\n",
    "    plt.show()\n",
    "\n",
    "    # 모델 평가하기\n",
    "    loss_and_metrics = model.evaluate(x_test, y_test, batch_size=64)\n",
    "    print('## evaluation loss and metrics ##')\n",
    "    print(loss_and_metrics)"
   ]
  },
  {
   "cell_type": "code",
   "execution_count": 25,
   "metadata": {},
   "outputs": [
    {
     "name": "stdout",
     "output_type": "stream",
     "text": [
      "Train on 25000 samples, validate on 5000 samples\n",
      "Epoch 1/2\n",
      "25000/25000 [==============================] - 43s 2ms/step - loss: 0.3907 - accuracy: 0.8079 - val_loss: 0.0832 - val_accuracy: 0.9830\n",
      "Epoch 2/2\n",
      "25000/25000 [==============================] - 42s 2ms/step - loss: 0.0528 - accuracy: 0.9839 - val_loss: 0.0072 - val_accuracy: 0.9992\n"
     ]
    }
   ],
   "source": [
    "hist = learning(model)"
   ]
  },
  {
   "cell_type": "code",
   "execution_count": 29,
   "metadata": {},
   "outputs": [
    {
     "data": {
      "image/png": "[encoded data removed]",
      "text/plain": [
       "<Figure size 432x288 with 2 Axes>"
      ]
     },
     "metadata": {
      "needs_background": "light"
     },
     "output_type": "display_data"
    },
    {
     "name": "stdout",
     "output_type": "stream",
     "text": [
      "25000/25000 [==============================] - 2s 79us/step\n",
      "## evaluation loss and metrics ##\n",
      "[0.4753664931488037, 0.8439199924468994]\n"
     ]
    }
   ],
   "source": [
    "review(model, hist)"
   ]
  },
  {
   "cell_type": "markdown",
   "metadata": {},
   "source": [
    "<br>\n",
    "\n",
    "---\n",
    "\n",
    "<br>\n",
    "\n",
    "# 모델 준비\n",
    "## 순환 신경망 모델\n",
    "\n",
    "<img src=\"http://tykimos.github.io/warehouse/2017-8-17-Text_Input_Binary_Classification_Model_Recipe_2m.png\">\n",
    "\n",
    "* 문장을 단어들의 시퀀스로 간주하고 순환(LSTM) 레이어의 입력으로 구성한 모델이다."
   ]
  },
  {
   "cell_type": "code",
   "execution_count": 30,
   "metadata": {},
   "outputs": [],
   "source": [
    "cycleModel = Sequential()\n",
    "cycleModel.add(Embedding(20000, 128, input_length=200))\n",
    "cycleModel.add(Dropout(0.2))\n",
    "cycleModel.add(Conv1D(256, 3, padding='valid', activation='relu', strides=1))\n",
    "cycleModel.add(GlobalMaxPooling1D())\n",
    "cycleModel.add(Dense(128, activation='relu'))\n",
    "cycleModel.add(Dropout(0.2))\n",
    "cycleModel.add(Dense(1, activation='sigmoid'))"
   ]
  },
  {
   "cell_type": "code",
   "execution_count": 31,
   "metadata": {},
   "outputs": [
    {
     "name": "stdout",
     "output_type": "stream",
     "text": [
      "Train on 25000 samples, validate on 5000 samples\n",
      "Epoch 1/2\n",
      "25000/25000 [==============================] - 33s 1ms/step - loss: 0.4260 - accuracy: 0.7918 - val_loss: 0.2089 - val_accuracy: 0.9240\n",
      "Epoch 2/2\n",
      "25000/25000 [==============================] - 32s 1ms/step - loss: 0.2063 - accuracy: 0.9204 - val_loss: 0.0896 - val_accuracy: 0.9748\n"
     ]
    }
   ],
   "source": [
    "cycleHist = learning(cycleModel)"
   ]
  },
  {
   "cell_type": "code",
   "execution_count": 32,
   "metadata": {},
   "outputs": [
    {
     "data": {
      "image/png": "[encoded data removed]",
      "text/plain": [
       "<Figure size 432x288 with 2 Axes>"
      ]
     },
     "metadata": {
      "needs_background": "light"
     },
     "output_type": "display_data"
    },
    {
     "name": "stdout",
     "output_type": "stream",
     "text": [
      "25000/25000 [==============================] - 5s 217us/step\n",
      "## evaluation loss and metrics ##\n",
      "[0.2774335992479324, 0.8832399845123291]\n"
     ]
    }
   ],
   "source": [
    "review(cycleModel, cycleHist)"
   ]
  },
  {
   "cell_type": "markdown",
   "metadata": {},
   "source": [
    "<br>\n",
    "\n",
    "---\n",
    "\n",
    "<br>\n",
    "\n",
    "# 모델 준비\n",
    "## 컨볼루션 신경망 모델\n",
    "\n",
    "<img src=\"http://tykimos.github.io/warehouse/2017-8-17-Text_Input_Binary_Classification_Model_Recipe_3m.png\">\n",
    "\n",
    "* 문장 해석에 컨볼루션(Conv1D) 레이어를 이용한 모델이다.\n",
    "* 글로벌 맥스풀링(GlobalMaxPooling1D) 레이어는 컨볼루션 레이어가 문장을 훑어가면서 나온 특징벡터들 중 가장 큰 벡터를 골라준다.\n",
    "* 즉, 문맥을 보면서 주요 특징을 뽑아내고, 그 중 가장 두드러지는 특징을 고르는 것이다."
   ]
  },
  {
   "cell_type": "code",
   "execution_count": 35,
   "metadata": {},
   "outputs": [],
   "source": [
    "convModel = Sequential()\n",
    "convModel.add(Embedding(20000, 128, input_length=200))\n",
    "convModel.add(Dropout(0.2))\n",
    "convModel.add(Conv1D(256, 3, padding='valid', activation='relu', strides=1))\n",
    "convModel.add(GlobalMaxPooling1D())\n",
    "convModel.add(Dense(128, activation='relu'))\n",
    "convModel.add(Dropout(0.2))\n",
    "convModel.add(Dense(1, activation='sigmoid'))"
   ]
  },
  {
   "cell_type": "code",
   "execution_count": 36,
   "metadata": {},
   "outputs": [
    {
     "name": "stdout",
     "output_type": "stream",
     "text": [
      "Train on 25000 samples, validate on 5000 samples\n",
      "Epoch 1/2\n",
      "25000/25000 [==============================] - 33s 1ms/step - loss: 0.4271 - accuracy: 0.7868 - val_loss: 0.1987 - val_accuracy: 0.9322\n",
      "Epoch 2/2\n",
      "25000/25000 [==============================] - 32s 1ms/step - loss: 0.2037 - accuracy: 0.9216 - val_loss: 0.0767 - val_accuracy: 0.9822\n"
     ]
    }
   ],
   "source": [
    "convHist = learning(convModel)"
   ]
  },
  {
   "cell_type": "code",
   "execution_count": 37,
   "metadata": {},
   "outputs": [
    {
     "data": {
      "image/png": "[encoded data removed]",
      "text/plain": [
       "<Figure size 432x288 with 2 Axes>"
      ]
     },
     "metadata": {
      "needs_background": "light"
     },
     "output_type": "display_data"
    },
    {
     "name": "stdout",
     "output_type": "stream",
     "text": [
      "25000/25000 [==============================] - 6s 223us/step\n",
      "## evaluation loss and metrics ##\n",
      "[0.2626026689577103, 0.8917999863624573]\n"
     ]
    }
   ],
   "source": [
    "review(convModel, convHist)"
   ]
  },
  {
   "cell_type": "markdown",
   "metadata": {},
   "source": [
    "<br>\n",
    "\n",
    "---\n",
    "\n",
    "<br>\n",
    "\n",
    "# 모델 준비\n",
    "## 순환 컨볼루션 신경망 모델\n",
    "\n",
    "<img src=\"http://tykimos.github.io/warehouse/2017-8-17-Text_Input_Binary_Classification_Model_Recipe_4m.png\">\n",
    "\n",
    "* 컨볼루션 레이어에서 나온 특징벡터들을 맥스풀링(MaxPooling1D)를 통해 1/4로 줄여준 다음 LSTM의 입력으로 넣어주는 모델이다."
   ]
  },
  {
   "cell_type": "code",
   "execution_count": 41,
   "metadata": {},
   "outputs": [],
   "source": [
    "cycleConvModel = Sequential()\n",
    "cycleConvModel.add(Embedding(20000, 128, input_length=200))\n",
    "cycleConvModel.add(Dropout(0.2))\n",
    "cycleConvModel.add(Conv1D(256, 3, padding='valid', activation='relu', strides=1))\n",
    "cycleConvModel.add(MaxPooling1D(pool_size=4))\n",
    "cycleConvModel.add(LSTM(128))\n",
    "cycleConvModel.add(Dense(1, activation='sigmoid'))"
   ]
  },
  {
   "cell_type": "code",
   "execution_count": 44,
   "metadata": {},
   "outputs": [
    {
     "name": "stdout",
     "output_type": "stream",
     "text": [
      "Train on 25000 samples, validate on 5000 samples\n",
      "Epoch 1/2\n",
      "25000/25000 [==============================] - 61s 2ms/step - loss: 0.1065 - accuracy: 0.9639 - val_loss: 0.0495 - val_accuracy: 0.9846\n",
      "Epoch 2/2\n",
      "25000/25000 [==============================] - 64s 3ms/step - loss: 0.0510 - accuracy: 0.9850 - val_loss: 0.0283 - val_accuracy: 0.9934\n"
     ]
    }
   ],
   "source": [
    "cycleConvHist = learning(cycleConvModel)"
   ]
  },
  {
   "cell_type": "code",
   "execution_count": 45,
   "metadata": {},
   "outputs": [
    {
     "data": {
      "image/png": "[encoded data removed]",
      "text/plain": [
       "<Figure size 432x288 with 2 Axes>"
      ]
     },
     "metadata": {
      "needs_background": "light"
     },
     "output_type": "display_data"
    },
    {
     "name": "stdout",
     "output_type": "stream",
     "text": [
      "25000/25000 [==============================] - 17s 686us/step\n",
      "## evaluation loss and metrics ##\n",
      "[0.5471147270965576, 0.8401200175285339]\n"
     ]
    }
   ],
   "source": [
    "review(cycleConvModel, cycleConvHist)"
   ]
  },
  {
   "cell_type": "markdown",
   "metadata": {},
   "source": [
    "<br>\n",
    "\n",
    "---\n",
    "\n",
    "<br>\n",
    "\n",
    "# 학습결과 비교"
   ]
  },
  {
   "cell_type": "code",
   "execution_count": 46,
   "metadata": {},
   "outputs": [
    {
     "data": {
      "image/png": "[encoded data removed]",
      "text/plain": [
       "<Figure size 432x288 with 2 Axes>"
      ]
     },
     "metadata": {
      "needs_background": "light"
     },
     "output_type": "display_data"
    },
    {
     "name": "stdout",
     "output_type": "stream",
     "text": [
      "25000/25000 [==============================] - 2s 85us/step\n",
      "## evaluation loss and metrics ##\n",
      "[0.4753664931488037, 0.8439199924468994]\n"
     ]
    }
   ],
   "source": [
    "review(model, hist)"
   ]
  },
  {
   "cell_type": "code",
   "execution_count": 47,
   "metadata": {},
   "outputs": [
    {
     "data": {
      "image/png": "[encoded data removed]",
      "text/plain": [
       "<Figure size 432x288 with 2 Axes>"
      ]
     },
     "metadata": {
      "needs_background": "light"
     },
     "output_type": "display_data"
    },
    {
     "name": "stdout",
     "output_type": "stream",
     "text": [
      "25000/25000 [==============================] - 5s 212us/step\n",
      "## evaluation loss and metrics ##\n",
      "[0.2774335992479324, 0.8832399845123291]\n"
     ]
    }
   ],
   "source": [
    "review(cycleModel, cycleHist)"
   ]
  },
  {
   "cell_type": "code",
   "execution_count": 48,
   "metadata": {},
   "outputs": [
    {
     "data": {
      "image/png": "[encoded data removed]",
      "text/plain": [
       "<Figure size 432x288 with 2 Axes>"
      ]
     },
     "metadata": {
      "needs_background": "light"
     },
     "output_type": "display_data"
    },
    {
     "name": "stdout",
     "output_type": "stream",
     "text": [
      "25000/25000 [==============================] - 5s 215us/step\n",
      "## evaluation loss and metrics ##\n",
      "[0.2626026689577103, 0.8917999863624573]\n"
     ]
    }
   ],
   "source": [
    "review(convModel, convHist)"
   ]
  },
  {
   "cell_type": "code",
   "execution_count": 49,
   "metadata": {},
   "outputs": [
    {
     "data": {
      "image/png": "[encoded data removed]",
      "text/plain": [
       "<Figure size 432x288 with 2 Axes>"
      ]
     },
     "metadata": {
      "needs_background": "light"
     },
     "output_type": "display_data"
    },
    {
     "name": "stdout",
     "output_type": "stream",
     "text": [
      "25000/25000 [==============================] - 15s 587us/step\n",
      "## evaluation loss and metrics ##\n",
      "[0.5471147270965576, 0.8401200175285339]\n"
     ]
    }
   ],
   "source": [
    "review(cycleConvModel, cycleConvHist)"
   ]
  },
  {
   "cell_type": "code",
   "execution_count": null,
   "metadata": {},
   "outputs": [],
   "source": []
  }
 ],
 "metadata": {
  "kernelspec": {
   "display_name": "Python 3",
   "language": "python",
   "name": "python3"
  },
  "language_info": {
   "codemirror_mode": {
    "name": "ipython",
    "version": 3
   },
   "file_extension": ".py",
   "mimetype": "text/x-python",
   "name": "python",
   "nbconvert_exporter": "python",
   "pygments_lexer": "ipython3",
   "version": "3.7.7"
  }
 },
 "nbformat": 4,
 "nbformat_minor": 4
}
