{
  "nbformat": 4,
  "nbformat_minor": 0,
  "metadata": {
    "colab": {
      "name": "Deep_multilayer_perceptron_neural_network.ipynb",
      "provenance": []
    },
    "kernelspec": {
      "name": "python3",
      "display_name": "Python 3"
    }
  },
  "cells": [
    {
      "cell_type": "code",
      "metadata": {
        "id": "XFjHxo9DZUwC",
        "colab_type": "code",
        "colab": {
          "base_uri": "https://localhost:8080/",
          "height": 34
        },
        "outputId": "624ff91a-eeb7-4bac-9629-1c8b30fb856b"
      },
      "source": [
        "# 0. 사용할 패키지 불러오기\n",
        "import numpy as np\n",
        "from keras.models import Sequential\n",
        "from keras.layers import Dense\n",
        "import random"
      ],
      "execution_count": 1,
      "outputs": [
        {
          "output_type": "stream",
          "text": [
            "Using TensorFlow backend.\n"
          ],
          "name": "stderr"
        }
      ]
    },
    {
      "cell_type": "code",
      "metadata": {
        "id": "T6VIx2AnZeol",
        "colab_type": "code",
        "colab": {}
      },
      "source": [
        "# 1. 데이터셋 생성하기\n",
        "x_train = np.random.random((1000, 1))\n",
        "y_train = x_train * 2 + np.random.random((1000, 1)) / 3.0\n",
        "x_test = np.random.random((100, 1))\n",
        "y_test = x_test * 2 + np.random.random((100, 1)) / 3.0"
      ],
      "execution_count": 0,
      "outputs": []
    },
    {
      "cell_type": "code",
      "metadata": {
        "id": "-U6Sqg7h5NDd",
        "colab_type": "code",
        "colab": {}
      },
      "source": [
        "# 2. 모델 구성하기\n",
        "model = Sequential()\n",
        "model.add(Dense(64, input_dim=1, activation='relu'))\n",
        "model.add(Dense(64, activation='relu'))\n",
        "model.add(Dense(1))"
      ],
      "execution_count": 0,
      "outputs": []
    },
    {
      "cell_type": "code",
      "metadata": {
        "id": "77euNYxE5332",
        "colab_type": "code",
        "colab": {}
      },
      "source": [
        "# 3. 모델 학습과정 설정하기\n",
        "model.compile(optimizer='rmsprop', loss='mse')"
      ],
      "execution_count": 0,
      "outputs": []
    },
    {
      "cell_type": "code",
      "metadata": {
        "id": "U7Krz4oM58N7",
        "colab_type": "code",
        "colab": {
          "base_uri": "https://localhost:8080/",
          "height": 1000
        },
        "outputId": "52fd1ae7-dbba-4c38-bccf-afe99ef3fe1e"
      },
      "source": [
        "# 4. 모델 학습시키기\n",
        "hist = model.fit(x_train, y_train, epochs=50, batch_size=64)"
      ],
      "execution_count": 5,
      "outputs": [
        {
          "output_type": "stream",
          "text": [
            "Epoch 1/50\n",
            "1000/1000 [==============================] - 0s 380us/step - loss: 1.0465\n",
            "Epoch 2/50\n",
            "1000/1000 [==============================] - 0s 26us/step - loss: 0.3025\n",
            "Epoch 3/50\n",
            "1000/1000 [==============================] - 0s 25us/step - loss: 0.0569\n",
            "Epoch 4/50\n",
            "1000/1000 [==============================] - 0s 25us/step - loss: 0.0302\n",
            "Epoch 5/50\n",
            "1000/1000 [==============================] - 0s 25us/step - loss: 0.0191\n",
            "Epoch 6/50\n",
            "1000/1000 [==============================] - 0s 27us/step - loss: 0.0120\n",
            "Epoch 7/50\n",
            "1000/1000 [==============================] - 0s 29us/step - loss: 0.0100\n",
            "Epoch 8/50\n",
            "1000/1000 [==============================] - 0s 32us/step - loss: 0.0102\n",
            "Epoch 9/50\n",
            "1000/1000 [==============================] - 0s 31us/step - loss: 0.0102\n",
            "Epoch 10/50\n",
            "1000/1000 [==============================] - 0s 26us/step - loss: 0.0098\n",
            "Epoch 11/50\n",
            "1000/1000 [==============================] - 0s 27us/step - loss: 0.0100\n",
            "Epoch 12/50\n",
            "1000/1000 [==============================] - 0s 26us/step - loss: 0.0103\n",
            "Epoch 13/50\n",
            "1000/1000 [==============================] - 0s 26us/step - loss: 0.0097\n",
            "Epoch 14/50\n",
            "1000/1000 [==============================] - 0s 27us/step - loss: 0.0104\n",
            "Epoch 15/50\n",
            "1000/1000 [==============================] - 0s 26us/step - loss: 0.0100\n",
            "Epoch 16/50\n",
            "1000/1000 [==============================] - 0s 28us/step - loss: 0.0104\n",
            "Epoch 17/50\n",
            "1000/1000 [==============================] - 0s 27us/step - loss: 0.0099\n",
            "Epoch 18/50\n",
            "1000/1000 [==============================] - 0s 26us/step - loss: 0.0101\n",
            "Epoch 19/50\n",
            "1000/1000 [==============================] - 0s 26us/step - loss: 0.0103\n",
            "Epoch 20/50\n",
            "1000/1000 [==============================] - 0s 25us/step - loss: 0.0099\n",
            "Epoch 21/50\n",
            "1000/1000 [==============================] - 0s 31us/step - loss: 0.0101\n",
            "Epoch 22/50\n",
            "1000/1000 [==============================] - 0s 30us/step - loss: 0.0100\n",
            "Epoch 23/50\n",
            "1000/1000 [==============================] - 0s 27us/step - loss: 0.0100\n",
            "Epoch 24/50\n",
            "1000/1000 [==============================] - 0s 25us/step - loss: 0.0104\n",
            "Epoch 25/50\n",
            "1000/1000 [==============================] - 0s 27us/step - loss: 0.0099\n",
            "Epoch 26/50\n",
            "1000/1000 [==============================] - 0s 26us/step - loss: 0.0105\n",
            "Epoch 27/50\n",
            "1000/1000 [==============================] - 0s 30us/step - loss: 0.0099\n",
            "Epoch 28/50\n",
            "1000/1000 [==============================] - 0s 27us/step - loss: 0.0099\n",
            "Epoch 29/50\n",
            "1000/1000 [==============================] - 0s 42us/step - loss: 0.0101\n",
            "Epoch 30/50\n",
            "1000/1000 [==============================] - 0s 28us/step - loss: 0.0104\n",
            "Epoch 31/50\n",
            "1000/1000 [==============================] - 0s 36us/step - loss: 0.0102\n",
            "Epoch 32/50\n",
            "1000/1000 [==============================] - 0s 26us/step - loss: 0.0098\n",
            "Epoch 33/50\n",
            "1000/1000 [==============================] - 0s 25us/step - loss: 0.0100\n",
            "Epoch 34/50\n",
            "1000/1000 [==============================] - 0s 30us/step - loss: 0.0103\n",
            "Epoch 35/50\n",
            "1000/1000 [==============================] - 0s 25us/step - loss: 0.0104\n",
            "Epoch 36/50\n",
            "1000/1000 [==============================] - 0s 25us/step - loss: 0.0101\n",
            "Epoch 37/50\n",
            "1000/1000 [==============================] - 0s 28us/step - loss: 0.0098\n",
            "Epoch 38/50\n",
            "1000/1000 [==============================] - 0s 24us/step - loss: 0.0103\n",
            "Epoch 39/50\n",
            "1000/1000 [==============================] - 0s 25us/step - loss: 0.0099\n",
            "Epoch 40/50\n",
            "1000/1000 [==============================] - 0s 27us/step - loss: 0.0099\n",
            "Epoch 41/50\n",
            "1000/1000 [==============================] - 0s 26us/step - loss: 0.0102\n",
            "Epoch 42/50\n",
            "1000/1000 [==============================] - 0s 26us/step - loss: 0.0100\n",
            "Epoch 43/50\n",
            "1000/1000 [==============================] - 0s 26us/step - loss: 0.0102\n",
            "Epoch 44/50\n",
            "1000/1000 [==============================] - 0s 25us/step - loss: 0.0102\n",
            "Epoch 45/50\n",
            "1000/1000 [==============================] - 0s 25us/step - loss: 0.0098\n",
            "Epoch 46/50\n",
            "1000/1000 [==============================] - 0s 25us/step - loss: 0.0100\n",
            "Epoch 47/50\n",
            "1000/1000 [==============================] - 0s 27us/step - loss: 0.0100\n",
            "Epoch 48/50\n",
            "1000/1000 [==============================] - 0s 26us/step - loss: 0.0105\n",
            "Epoch 49/50\n",
            "1000/1000 [==============================] - 0s 32us/step - loss: 0.0100\n",
            "Epoch 50/50\n",
            "1000/1000 [==============================] - 0s 31us/step - loss: 0.0098\n"
          ],
          "name": "stdout"
        }
      ]
    },
    {
      "cell_type": "code",
      "metadata": {
        "id": "aTFsEYu-6C4M",
        "colab_type": "code",
        "colab": {
          "base_uri": "https://localhost:8080/",
          "height": 279
        },
        "outputId": "8b4f8981-81fb-432d-b751-72decfc25cc4"
      },
      "source": [
        "# 5. 학습과정 살펴보기\n",
        "%matplotlib inline\n",
        "import matplotlib.pyplot as plt\n",
        "\n",
        "plt.plot(hist.history['loss'])\n",
        "plt.ylim(0.0, 1.5)\n",
        "plt.ylabel('loss')\n",
        "plt.xlabel('epoch')\n",
        "plt.legend(['train'], loc='upper left')\n",
        "plt.show()"
      ],
      "execution_count": 6,
      "outputs": [
        {
          "output_type": "display_data",
          "data": {
            "image/png": "[encoded data removed]",
            "text/plain": [
              "<Figure size 432x288 with 1 Axes>"
            ]
          },
          "metadata": {
            "tags": [],
            "needs_background": "light"
          }
        }
      ]
    },
    {
      "cell_type": "code",
      "metadata": {
        "id": "hICK_tEh6QhM",
        "colab_type": "code",
        "colab": {
          "base_uri": "https://localhost:8080/",
          "height": 51
        },
        "outputId": "9b40ecb9-19f7-44bb-e1c0-319afbd2efa5"
      },
      "source": [
        "# 6. 모델 평가하기\n",
        "loss = model.evaluate(x_test, y_test, batch_size=32)\n",
        "print('loss :', loss)"
      ],
      "execution_count": 7,
      "outputs": [
        {
          "output_type": "stream",
          "text": [
            "100/100 [==============================] - 0s 214us/step\n",
            "loss : 0.008553402405232191\n"
          ],
          "name": "stdout"
        }
      ]
    },
    {
      "cell_type": "code",
      "metadata": {
        "id": "T0ulwYpS6XB8",
        "colab_type": "code",
        "colab": {}
      },
      "source": [
        ""
      ],
      "execution_count": 0,
      "outputs": []
    }
  ]
}