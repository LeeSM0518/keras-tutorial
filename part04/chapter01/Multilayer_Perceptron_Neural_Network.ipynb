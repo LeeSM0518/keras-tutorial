{
  "nbformat": 4,
  "nbformat_minor": 0,
  "metadata": {
    "colab": {
      "name": "Multilayer_Perceptron_Neural_Network.ipynb",
      "provenance": []
    },
    "kernelspec": {
      "name": "python3",
      "display_name": "Python 3"
    }
  },
  "cells": [
    {
      "cell_type": "code",
      "metadata": {
        "id": "1tsyXX2FX-Hz",
        "colab_type": "code",
        "colab": {
          "base_uri": "https://localhost:8080/",
          "height": 34
        },
        "outputId": "12078a66-54a1-4e09-96fc-00c1fca6a9b9"
      },
      "source": [
        "# 0. 사용할 패키지 불러오기\n",
        "import numpy as np\n",
        "from keras.models import Sequential\n",
        "from keras.layers import Dense\n",
        "import random"
      ],
      "execution_count": 1,
      "outputs": [
        {
          "output_type": "stream",
          "text": [
            "Using TensorFlow backend.\n"
          ],
          "name": "stderr"
        }
      ]
    },
    {
      "cell_type": "code",
      "metadata": {
        "id": "kBZhgWc-YHcZ",
        "colab_type": "code",
        "colab": {}
      },
      "source": [
        "# 1. 데이터셋 생성하기\n",
        "x_train = np.random.random((1000, 1))\n",
        "y_train = x_train * 2 + np.random.random((1000, 1)) / 3.0\n",
        "x_test = np.random.random((100, 1))\n",
        "y_test = x_test * 2 + np.random.random((100, 1)) / 3.0"
      ],
      "execution_count": 0,
      "outputs": []
    },
    {
      "cell_type": "code",
      "metadata": {
        "id": "oioCvkxdYTGW",
        "colab_type": "code",
        "colab": {}
      },
      "source": [
        "# 2. 모델 구성하기\n",
        "model = Sequential()\n",
        "model.add(Dense(64, input_dim=1, activation='relu'))\n",
        "model.add(Dense(1))"
      ],
      "execution_count": 0,
      "outputs": []
    },
    {
      "cell_type": "code",
      "metadata": {
        "id": "5yQNkiETYaBw",
        "colab_type": "code",
        "colab": {}
      },
      "source": [
        "# 3. 모델 학습과정 설정하기\n",
        "model.compile(optimizer='rmsprop', loss='mse')"
      ],
      "execution_count": 0,
      "outputs": []
    },
    {
      "cell_type": "code",
      "metadata": {
        "id": "USb3Eny5Yejh",
        "colab_type": "code",
        "colab": {
          "base_uri": "https://localhost:8080/",
          "height": 1000
        },
        "outputId": "7627b0e7-82d5-413a-adbe-20f0f39a7304"
      },
      "source": [
        "# 4. 모델 학습시키기\n",
        "hist = model.fit(x_train, y_train, epochs=50, batch_size=64)"
      ],
      "execution_count": 5,
      "outputs": [
        {
          "output_type": "stream",
          "text": [
            "Epoch 1/50\n",
            "1000/1000 [==============================] - 0s 237us/step - loss: 1.2237\n",
            "Epoch 2/50\n",
            "1000/1000 [==============================] - 0s 18us/step - loss: 0.8299\n",
            "Epoch 3/50\n",
            "1000/1000 [==============================] - 0s 18us/step - loss: 0.5599\n",
            "Epoch 4/50\n",
            "1000/1000 [==============================] - 0s 18us/step - loss: 0.3530\n",
            "Epoch 5/50\n",
            "1000/1000 [==============================] - 0s 17us/step - loss: 0.2051\n",
            "Epoch 6/50\n",
            "1000/1000 [==============================] - 0s 17us/step - loss: 0.1136\n",
            "Epoch 7/50\n",
            "1000/1000 [==============================] - 0s 18us/step - loss: 0.0720\n",
            "Epoch 8/50\n",
            "1000/1000 [==============================] - 0s 20us/step - loss: 0.0569\n",
            "Epoch 9/50\n",
            "1000/1000 [==============================] - 0s 20us/step - loss: 0.0446\n",
            "Epoch 10/50\n",
            "1000/1000 [==============================] - 0s 19us/step - loss: 0.0327\n",
            "Epoch 11/50\n",
            "1000/1000 [==============================] - 0s 18us/step - loss: 0.0231\n",
            "Epoch 12/50\n",
            "1000/1000 [==============================] - 0s 19us/step - loss: 0.0161\n",
            "Epoch 13/50\n",
            "1000/1000 [==============================] - 0s 18us/step - loss: 0.0118\n",
            "Epoch 14/50\n",
            "1000/1000 [==============================] - 0s 18us/step - loss: 0.0098\n",
            "Epoch 15/50\n",
            "1000/1000 [==============================] - 0s 18us/step - loss: 0.0093\n",
            "Epoch 16/50\n",
            "1000/1000 [==============================] - 0s 18us/step - loss: 0.0092\n",
            "Epoch 17/50\n",
            "1000/1000 [==============================] - 0s 17us/step - loss: 0.0092\n",
            "Epoch 18/50\n",
            "1000/1000 [==============================] - 0s 17us/step - loss: 0.0092\n",
            "Epoch 19/50\n",
            "1000/1000 [==============================] - 0s 19us/step - loss: 0.0092\n",
            "Epoch 20/50\n",
            "1000/1000 [==============================] - 0s 18us/step - loss: 0.0092\n",
            "Epoch 21/50\n",
            "1000/1000 [==============================] - 0s 18us/step - loss: 0.0092\n",
            "Epoch 22/50\n",
            "1000/1000 [==============================] - 0s 20us/step - loss: 0.0091\n",
            "Epoch 23/50\n",
            "1000/1000 [==============================] - 0s 21us/step - loss: 0.0091\n",
            "Epoch 24/50\n",
            "1000/1000 [==============================] - 0s 17us/step - loss: 0.0092\n",
            "Epoch 25/50\n",
            "1000/1000 [==============================] - 0s 19us/step - loss: 0.0091\n",
            "Epoch 26/50\n",
            "1000/1000 [==============================] - 0s 18us/step - loss: 0.0092\n",
            "Epoch 27/50\n",
            "1000/1000 [==============================] - 0s 17us/step - loss: 0.0092\n",
            "Epoch 28/50\n",
            "1000/1000 [==============================] - 0s 19us/step - loss: 0.0091\n",
            "Epoch 29/50\n",
            "1000/1000 [==============================] - 0s 18us/step - loss: 0.0091\n",
            "Epoch 30/50\n",
            "1000/1000 [==============================] - 0s 23us/step - loss: 0.0092\n",
            "Epoch 31/50\n",
            "1000/1000 [==============================] - 0s 17us/step - loss: 0.0091\n",
            "Epoch 32/50\n",
            "1000/1000 [==============================] - 0s 21us/step - loss: 0.0092\n",
            "Epoch 33/50\n",
            "1000/1000 [==============================] - 0s 19us/step - loss: 0.0092\n",
            "Epoch 34/50\n",
            "1000/1000 [==============================] - 0s 20us/step - loss: 0.0091\n",
            "Epoch 35/50\n",
            "1000/1000 [==============================] - 0s 19us/step - loss: 0.0091\n",
            "Epoch 36/50\n",
            "1000/1000 [==============================] - 0s 19us/step - loss: 0.0091\n",
            "Epoch 37/50\n",
            "1000/1000 [==============================] - 0s 20us/step - loss: 0.0093\n",
            "Epoch 38/50\n",
            "1000/1000 [==============================] - 0s 22us/step - loss: 0.0091\n",
            "Epoch 39/50\n",
            "1000/1000 [==============================] - 0s 19us/step - loss: 0.0091\n",
            "Epoch 40/50\n",
            "1000/1000 [==============================] - 0s 20us/step - loss: 0.0092\n",
            "Epoch 41/50\n",
            "1000/1000 [==============================] - 0s 19us/step - loss: 0.0091\n",
            "Epoch 42/50\n",
            "1000/1000 [==============================] - 0s 19us/step - loss: 0.0093\n",
            "Epoch 43/50\n",
            "1000/1000 [==============================] - 0s 19us/step - loss: 0.0092\n",
            "Epoch 44/50\n",
            "1000/1000 [==============================] - 0s 18us/step - loss: 0.0091\n",
            "Epoch 45/50\n",
            "1000/1000 [==============================] - 0s 18us/step - loss: 0.0092\n",
            "Epoch 46/50\n",
            "1000/1000 [==============================] - 0s 18us/step - loss: 0.0093\n",
            "Epoch 47/50\n",
            "1000/1000 [==============================] - 0s 20us/step - loss: 0.0091\n",
            "Epoch 48/50\n",
            "1000/1000 [==============================] - 0s 22us/step - loss: 0.0092\n",
            "Epoch 49/50\n",
            "1000/1000 [==============================] - 0s 23us/step - loss: 0.0092\n",
            "Epoch 50/50\n",
            "1000/1000 [==============================] - 0s 19us/step - loss: 0.0091\n"
          ],
          "name": "stdout"
        }
      ]
    },
    {
      "cell_type": "code",
      "metadata": {
        "id": "TWEOZ0ToYjhY",
        "colab_type": "code",
        "colab": {
          "base_uri": "https://localhost:8080/",
          "height": 279
        },
        "outputId": "16114c72-33d2-4d5c-a2e2-1dd7d2139661"
      },
      "source": [
        "# 5. 학습과정 살펴보기\n",
        "%matplotlib inline\n",
        "import matplotlib.pyplot as plt\n",
        "\n",
        "plt.plot(hist.history['loss'])\n",
        "plt.ylim(0.0, 1.5)\n",
        "plt.ylabel('loss')\n",
        "plt.xlabel('epoch')\n",
        "plt.legend(['train'], loc='upper left')\n",
        "plt.show()"
      ],
      "execution_count": 7,
      "outputs": [
        {
          "output_type": "display_data",
          "data": {
            "image/png": "[encoded data removed]",
            "text/plain": [
              "<Figure size 432x288 with 1 Axes>"
            ]
          },
          "metadata": {
            "tags": [],
            "needs_background": "light"
          }
        }
      ]
    },
    {
      "cell_type": "code",
      "metadata": {
        "id": "c31YrAGIYx6A",
        "colab_type": "code",
        "colab": {
          "base_uri": "https://localhost:8080/",
          "height": 51
        },
        "outputId": "45d1ddd9-9cf6-437c-871b-acd70405ffec"
      },
      "source": [
        "# 6. 모델 평가하기\n",
        "loss = model.evaluate(x_test, y_test, batch_size=32)\n",
        "print('loss :', loss)"
      ],
      "execution_count": 8,
      "outputs": [
        {
          "output_type": "stream",
          "text": [
            "100/100 [==============================] - 0s 158us/step\n",
            "loss : 0.008369513899087905\n"
          ],
          "name": "stdout"
        }
      ]
    },
    {
      "cell_type": "code",
      "metadata": {
        "id": "fLlN9a1GY5e4",
        "colab_type": "code",
        "colab": {}
      },
      "source": [
        ""
      ],
      "execution_count": 0,
      "outputs": []
    }
  ]
}