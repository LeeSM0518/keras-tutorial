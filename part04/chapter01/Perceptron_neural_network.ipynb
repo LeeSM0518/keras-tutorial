{
  "nbformat": 4,
  "nbformat_minor": 0,
  "metadata": {
    "colab": {
      "name": "Perceptron_neural_network.ipynb",
      "provenance": []
    },
    "kernelspec": {
      "name": "python3",
      "display_name": "Python 3"
    }
  },
  "cells": [
    {
      "cell_type": "code",
      "metadata": {
        "id": "W9-gxqdwWlA8",
        "colab_type": "code",
        "colab": {
          "base_uri": "https://localhost:8080/",
          "height": 34
        },
        "outputId": "f666f169-204b-42f9-c59b-0b62761e8903"
      },
      "source": [
        "# 0. 사용할 패키지 불러오기\n",
        "import numpy as np\n",
        "from keras.models import Sequential\n",
        "from keras.layers import Dense\n",
        "import random"
      ],
      "execution_count": 1,
      "outputs": [
        {
          "output_type": "stream",
          "text": [
            "Using TensorFlow backend.\n"
          ],
          "name": "stderr"
        }
      ]
    },
    {
      "cell_type": "code",
      "metadata": {
        "id": "kCwRdcJjWxTL",
        "colab_type": "code",
        "colab": {}
      },
      "source": [
        "# 1. 데이터셋 생성하기\n",
        "x_train = np.random.random((1000, 1))\n",
        "y_train = x_train * 2 + np.random.random((1000, 1)) / 3.0\n",
        "x_test = np.random.random((100, 1))\n",
        "y_test = x_test * 2 + np.random.random((100, 1)) / 3.0"
      ],
      "execution_count": 0,
      "outputs": []
    },
    {
      "cell_type": "code",
      "metadata": {
        "id": "vDSSfztpW-x2",
        "colab_type": "code",
        "colab": {}
      },
      "source": [
        "# 2. 모델 구성하기\n",
        "model = Sequential()\n",
        "model.add(Dense(1, input_dim=1))"
      ],
      "execution_count": 0,
      "outputs": []
    },
    {
      "cell_type": "code",
      "metadata": {
        "id": "GotAJ1mUXC7i",
        "colab_type": "code",
        "colab": {}
      },
      "source": [
        "# 3. 모델 학습과정 설정하기\n",
        "model.compile(optimizer='rmsprop', loss='mse')"
      ],
      "execution_count": 0,
      "outputs": []
    },
    {
      "cell_type": "code",
      "metadata": {
        "id": "OtZFAqVDXIl3",
        "colab_type": "code",
        "colab": {
          "base_uri": "https://localhost:8080/",
          "height": 1000
        },
        "outputId": "54288b5d-1ca2-4a7e-c8bb-3fe9d86e1f49"
      },
      "source": [
        "# 4. 모델 학습시키기\n",
        "hist = model.fit(x_train, y_train, epochs=50, batch_size=64)\n",
        "w, b = model.get_weights()\n",
        "print(w, b)"
      ],
      "execution_count": 5,
      "outputs": [
        {
          "output_type": "stream",
          "text": [
            "Epoch 1/50\n",
            "1000/1000 [==============================] - 0s 245us/step - loss: 2.4639\n",
            "Epoch 2/50\n",
            "1000/1000 [==============================] - 0s 17us/step - loss: 2.3784\n",
            "Epoch 3/50\n",
            "1000/1000 [==============================] - 0s 15us/step - loss: 2.3061\n",
            "Epoch 4/50\n",
            "1000/1000 [==============================] - 0s 16us/step - loss: 2.2363\n",
            "Epoch 5/50\n",
            "1000/1000 [==============================] - 0s 16us/step - loss: 2.1675\n",
            "Epoch 6/50\n",
            "1000/1000 [==============================] - 0s 17us/step - loss: 2.1004\n",
            "Epoch 7/50\n",
            "1000/1000 [==============================] - 0s 16us/step - loss: 2.0344\n",
            "Epoch 8/50\n",
            "1000/1000 [==============================] - 0s 16us/step - loss: 1.9697\n",
            "Epoch 9/50\n",
            "1000/1000 [==============================] - 0s 16us/step - loss: 1.9058\n",
            "Epoch 10/50\n",
            "1000/1000 [==============================] - 0s 17us/step - loss: 1.8439\n",
            "Epoch 11/50\n",
            "1000/1000 [==============================] - 0s 17us/step - loss: 1.7824\n",
            "Epoch 12/50\n",
            "1000/1000 [==============================] - 0s 16us/step - loss: 1.7226\n",
            "Epoch 13/50\n",
            "1000/1000 [==============================] - 0s 17us/step - loss: 1.6640\n",
            "Epoch 14/50\n",
            "1000/1000 [==============================] - 0s 17us/step - loss: 1.6061\n",
            "Epoch 15/50\n",
            "1000/1000 [==============================] - 0s 17us/step - loss: 1.5495\n",
            "Epoch 16/50\n",
            "1000/1000 [==============================] - 0s 17us/step - loss: 1.4941\n",
            "Epoch 17/50\n",
            "1000/1000 [==============================] - 0s 18us/step - loss: 1.4400\n",
            "Epoch 18/50\n",
            "1000/1000 [==============================] - 0s 18us/step - loss: 1.3867\n",
            "Epoch 19/50\n",
            "1000/1000 [==============================] - 0s 18us/step - loss: 1.3353\n",
            "Epoch 20/50\n",
            "1000/1000 [==============================] - 0s 18us/step - loss: 1.2844\n",
            "Epoch 21/50\n",
            "1000/1000 [==============================] - 0s 15us/step - loss: 1.2345\n",
            "Epoch 22/50\n",
            "1000/1000 [==============================] - 0s 19us/step - loss: 1.1865\n",
            "Epoch 23/50\n",
            "1000/1000 [==============================] - 0s 18us/step - loss: 1.1394\n",
            "Epoch 24/50\n",
            "1000/1000 [==============================] - 0s 18us/step - loss: 1.0937\n",
            "Epoch 25/50\n",
            "1000/1000 [==============================] - 0s 18us/step - loss: 1.0489\n",
            "Epoch 26/50\n",
            "1000/1000 [==============================] - 0s 16us/step - loss: 1.0052\n",
            "Epoch 27/50\n",
            "1000/1000 [==============================] - 0s 17us/step - loss: 0.9626\n",
            "Epoch 28/50\n",
            "1000/1000 [==============================] - 0s 17us/step - loss: 0.9215\n",
            "Epoch 29/50\n",
            "1000/1000 [==============================] - 0s 18us/step - loss: 0.8816\n",
            "Epoch 30/50\n",
            "1000/1000 [==============================] - 0s 21us/step - loss: 0.8427\n",
            "Epoch 31/50\n",
            "1000/1000 [==============================] - 0s 17us/step - loss: 0.8049\n",
            "Epoch 32/50\n",
            "1000/1000 [==============================] - 0s 17us/step - loss: 0.7681\n",
            "Epoch 33/50\n",
            "1000/1000 [==============================] - 0s 17us/step - loss: 0.7327\n",
            "Epoch 34/50\n",
            "1000/1000 [==============================] - 0s 15us/step - loss: 0.6984\n",
            "Epoch 35/50\n",
            "1000/1000 [==============================] - 0s 15us/step - loss: 0.6653\n",
            "Epoch 36/50\n",
            "1000/1000 [==============================] - 0s 19us/step - loss: 0.6333\n",
            "Epoch 37/50\n",
            "1000/1000 [==============================] - 0s 21us/step - loss: 0.6021\n",
            "Epoch 38/50\n",
            "1000/1000 [==============================] - 0s 17us/step - loss: 0.5724\n",
            "Epoch 39/50\n",
            "1000/1000 [==============================] - 0s 17us/step - loss: 0.5441\n",
            "Epoch 40/50\n",
            "1000/1000 [==============================] - 0s 16us/step - loss: 0.5171\n",
            "Epoch 41/50\n",
            "1000/1000 [==============================] - 0s 17us/step - loss: 0.4912\n",
            "Epoch 42/50\n",
            "1000/1000 [==============================] - 0s 23us/step - loss: 0.4662\n",
            "Epoch 43/50\n",
            "1000/1000 [==============================] - 0s 17us/step - loss: 0.4424\n",
            "Epoch 44/50\n",
            "1000/1000 [==============================] - 0s 16us/step - loss: 0.4200\n",
            "Epoch 45/50\n",
            "1000/1000 [==============================] - 0s 17us/step - loss: 0.3984\n",
            "Epoch 46/50\n",
            "1000/1000 [==============================] - 0s 16us/step - loss: 0.3781\n",
            "Epoch 47/50\n",
            "1000/1000 [==============================] - 0s 16us/step - loss: 0.3587\n",
            "Epoch 48/50\n",
            "1000/1000 [==============================] - 0s 15us/step - loss: 0.3406\n",
            "Epoch 49/50\n",
            "1000/1000 [==============================] - 0s 25us/step - loss: 0.3237\n",
            "Epoch 50/50\n",
            "1000/1000 [==============================] - 0s 16us/step - loss: 0.3081\n",
            "[[0.30182666]] [0.7876509]\n"
          ],
          "name": "stdout"
        }
      ]
    },
    {
      "cell_type": "code",
      "metadata": {
        "id": "Gig0i22LXPsz",
        "colab_type": "code",
        "colab": {
          "base_uri": "https://localhost:8080/",
          "height": 279
        },
        "outputId": "56ff76c9-8b3f-4f66-ae61-0bb72c0a7fea"
      },
      "source": [
        "# 5. 학습과정 살펴보기\n",
        "%matplotlib inline\n",
        "import matplotlib.pyplot as plt\n",
        "\n",
        "plt.plot(hist.history['loss'])\n",
        "plt.ylim(0.0, 1.5)\n",
        "plt.ylabel('loss')\n",
        "plt.xlabel('epoch')\n",
        "plt.legend(['train'], loc='upper left')\n",
        "plt.show()"
      ],
      "execution_count": 6,
      "outputs": [
        {
          "output_type": "display_data",
          "data": {
            "image/png": "[encoded data removed]",
            "text/plain": [
              "<Figure size 432x288 with 1 Axes>"
            ]
          },
          "metadata": {
            "tags": [],
            "needs_background": "light"
          }
        }
      ]
    },
    {
      "cell_type": "code",
      "metadata": {
        "id": "kpml_YzXXhSg",
        "colab_type": "code",
        "colab": {
          "base_uri": "https://localhost:8080/",
          "height": 51
        },
        "outputId": "d9d1d350-07df-440c-e38a-20119d27aeda"
      },
      "source": [
        "# 6. 모델 평가하기\n",
        "loss = model.evaluate(x_test, y_test, batch_size=32)\n",
        "print('loss : ' + str(loss))"
      ],
      "execution_count": 7,
      "outputs": [
        {
          "output_type": "stream",
          "text": [
            "100/100 [==============================] - 0s 242us/step\n",
            "loss : 0.25431362390518186\n"
          ],
          "name": "stdout"
        }
      ]
    },
    {
      "cell_type": "code",
      "metadata": {
        "id": "KBALpojgXqnj",
        "colab_type": "code",
        "colab": {}
      },
      "source": [
        ""
      ],
      "execution_count": 0,
      "outputs": []
    }
  ]
}