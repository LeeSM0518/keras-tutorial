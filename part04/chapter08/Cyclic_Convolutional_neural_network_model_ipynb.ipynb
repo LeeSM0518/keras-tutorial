{
  "nbformat": 4,
  "nbformat_minor": 0,
  "metadata": {
    "colab": {
      "name": "Cyclic_Convolutional_neural_network_model.ipynb.ipynb",
      "provenance": []
    },
    "kernelspec": {
      "name": "python3",
      "display_name": "Python 3"
    }
  },
  "cells": [
    {
      "cell_type": "code",
      "metadata": {
        "id": "2kK7Bncf3MCx",
        "colab_type": "code",
        "colab": {}
      },
      "source": [
        "# 0. 사용할 패키지 불러오기\n",
        "from keras.datasets import imdb\n",
        "from keras.preprocessing import sequence\n",
        "from keras.models import Sequential\n",
        "from keras.layers import Dense, Embedding, LSTM, \\\n",
        "                         Flatten, Dropout, \\\n",
        "                         Conv1D, MaxPooling1D\n",
        "\n",
        "max_features = 20000\n",
        "text_max_words = 200"
      ],
      "execution_count": 0,
      "outputs": []
    },
    {
      "cell_type": "code",
      "metadata": {
        "id": "rWZB8wUU3o2b",
        "colab_type": "code",
        "colab": {
          "base_uri": "https://localhost:8080/",
          "height": 51
        },
        "outputId": "6d3bc5e4-8128-49cc-9837-7fbe70c12ca7"
      },
      "source": [
        "# 1. 데이터셋 생성하기\n",
        "\n",
        "# 훈련셋과 시험셋 불러오기\n",
        "(x_train, y_train), (x_test, y_test) = imdb.load_data(num_words=max_features)\n",
        "\n",
        "# 훈련셋과 검증셋 분리\n",
        "x_val = x_train[20000:]\n",
        "y_val = y_train[20000:]\n",
        "x_train = x_train[:20000]\n",
        "y_train = y_train[:20000]\n",
        "\n",
        "# 데이터셋 전처리 : 문장 길이 맞추기\n",
        "x_train = sequence.pad_sequences(x_train, maxlen=text_max_words)\n",
        "x_val = sequence.pad_sequences(x_val, maxlen=text_max_words)\n",
        "x_test = sequence.pad_sequences(x_test, maxlen=text_max_words)"
      ],
      "execution_count": 8,
      "outputs": [
        {
          "output_type": "stream",
          "text": [
            "Downloading data from https://s3.amazonaws.com/text-datasets/imdb.npz\n",
            "17465344/17464789 [==============================] - 0s 0us/step\n"
          ],
          "name": "stdout"
        }
      ]
    },
    {
      "cell_type": "code",
      "metadata": {
        "id": "XA6tMI5D4UHD",
        "colab_type": "code",
        "colab": {}
      },
      "source": [
        "# 2. 모델 구성하기\n",
        "model = Sequential()\n",
        "model.add(Embedding(max_features, 128, input_length=text_max_words))\n",
        "model.add(Dropout(0.2))\n",
        "model.add(Conv1D(256, 3, padding='valid', activation='relu', strides=1))\n",
        "model.add(MaxPooling1D(pool_size=4))\n",
        "model.add(LSTM(128))\n",
        "model.add(Dense(1, activation='sigmoid'))"
      ],
      "execution_count": 0,
      "outputs": []
    },
    {
      "cell_type": "code",
      "metadata": {
        "id": "Z0Ffae_c4pbJ",
        "colab_type": "code",
        "colab": {}
      },
      "source": [
        "# 3. 모델 학습과정 설정하기\n",
        "model.compile(loss='binary_crossentropy', optimizer='adam', metrics=['accuracy'])"
      ],
      "execution_count": 0,
      "outputs": []
    },
    {
      "cell_type": "code",
      "metadata": {
        "id": "itrMM1kx4vKu",
        "colab_type": "code",
        "colab": {
          "base_uri": "https://localhost:8080/",
          "height": 156
        },
        "outputId": "e127b7d4-1038-4473-a51d-414bf1542d2f"
      },
      "source": [
        "# 4. 모델 학습시키기\n",
        "hist = model.fit(x_train, y_train, epochs=2, batch_size=64, validation_data=(x_val, y_val))"
      ],
      "execution_count": 11,
      "outputs": [
        {
          "output_type": "stream",
          "text": [
            "/usr/local/lib/python3.6/dist-packages/tensorflow/python/framework/indexed_slices.py:434: UserWarning: Converting sparse IndexedSlices to a dense Tensor of unknown shape. This may consume a large amount of memory.\n",
            "  \"Converting sparse IndexedSlices to a dense Tensor of unknown shape. \"\n"
          ],
          "name": "stderr"
        },
        {
          "output_type": "stream",
          "text": [
            "Train on 20000 samples, validate on 5000 samples\n",
            "Epoch 1/2\n",
            "20000/20000 [==============================] - 128s 6ms/step - loss: 0.4143 - accuracy: 0.7951 - val_loss: 0.2896 - val_accuracy: 0.8828\n",
            "Epoch 2/2\n",
            "20000/20000 [==============================] - 127s 6ms/step - loss: 0.1879 - accuracy: 0.9300 - val_loss: 0.3183 - val_accuracy: 0.8738\n"
          ],
          "name": "stdout"
        }
      ]
    },
    {
      "cell_type": "code",
      "metadata": {
        "id": "XZ4UFpAO414w",
        "colab_type": "code",
        "colab": {
          "base_uri": "https://localhost:8080/",
          "height": 283
        },
        "outputId": "1f245071-8493-4a06-9e4a-18d0481fc9be"
      },
      "source": [
        "# 5. 학습과정 살펴보기\n",
        "%matplotlib inline\n",
        "import matplotlib.pyplot as plt\n",
        "\n",
        "fig, loss_ax = plt.subplots()\n",
        "acc_ax = loss_ax.twinx()\n",
        "\n",
        "loss_ax.plot(hist.history['loss'], 'y', label='train loss')\n",
        "loss_ax.plot(hist.history['val_loss'], 'r', label='val loss')\n",
        "loss_ax.set_ylim([-0.2, 1.2])\n",
        "\n",
        "acc_ax.plot(hist.history['accuracy'], 'b', label='train acc')\n",
        "acc_ax.plot(hist.history['val_accuracy'], 'g', label='val acc')\n",
        "acc_ax.set_ylim([-0.2, 1.2])\n",
        "\n",
        "loss_ax.set_xlabel('epoch')\n",
        "loss_ax.set_ylabel('loss')\n",
        "acc_ax.set_ylabel('accuracy')\n",
        "\n",
        "loss_ax.legend(loc='upper left')\n",
        "acc_ax.legend(loc='lower left')\n",
        "\n",
        "plt.show()"
      ],
      "execution_count": 13,
      "outputs": [
        {
          "output_type": "display_data",
          "data": {
            "image/png": "[encoded data removed]",
            "text/plain": [
              "<Figure size 432x288 with 2 Axes>"
            ]
          },
          "metadata": {
            "tags": [],
            "needs_background": "light"
          }
        }
      ]
    },
    {
      "cell_type": "code",
      "metadata": {
        "id": "gF8oqTa95lJh",
        "colab_type": "code",
        "colab": {
          "base_uri": "https://localhost:8080/",
          "height": 68
        },
        "outputId": "b964a8e8-6457-4bb2-a01d-03bbf9ec26ca"
      },
      "source": [
        "# 6. 모델 평가하기\n",
        "loss_and_metrics = model.evaluate(x_test, y_test, batch_size=64)\n",
        "print('## evaluation loss and metrics ##')\n",
        "print(loss_and_metrics)"
      ],
      "execution_count": 14,
      "outputs": [
        {
          "output_type": "stream",
          "text": [
            "25000/25000 [==============================] - 36s 1ms/step\n",
            "## evaluation loss and metrics ##\n",
            "[0.35505525747299194, 0.8609200119972229]\n"
          ],
          "name": "stdout"
        }
      ]
    },
    {
      "cell_type": "code",
      "metadata": {
        "id": "9pBmo63f66ne",
        "colab_type": "code",
        "colab": {}
      },
      "source": [
        ""
      ],
      "execution_count": 0,
      "outputs": []
    }
  ]
}