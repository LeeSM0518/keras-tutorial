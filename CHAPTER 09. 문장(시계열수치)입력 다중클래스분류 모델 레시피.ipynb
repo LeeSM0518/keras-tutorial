{
 "cells": [
  {
   "cell_type": "markdown",
   "metadata": {},
   "source": [
    "# CHAPTER 09. 문장(시계열수치)입력 다중클래스분류 모델 레시피"
   ]
  },
  {
   "cell_type": "code",
   "execution_count": 9,
   "metadata": {},
   "outputs": [],
   "source": [
    "# 사용할 패키지 불러오기\n",
    "from keras.datasets import reuters\n",
    "from keras.preprocessing import sequence\n",
    "from keras.utils import np_utils\n",
    "from keras.models import Sequential\n",
    "from keras.layers import Dense, Embedding, LSTM, Flatten, Dropout, \\\n",
    "                         Conv1D, GlobalMaxPooling1D, MaxPooling1D\n",
    "\n",
    "from IPython.display import SVG\n",
    "from keras.utils.vis_utils import model_to_dot\n",
    "\n",
    "%matplotlib inline\n",
    "import matplotlib.pyplot as plt"
   ]
  },
  {
   "cell_type": "markdown",
   "metadata": {},
   "source": [
    "## 데이터셋 준비\n",
    "* 뉴스와이어(뉴스 보도 자료) 데이터셋을 이용한다. 이 데이터셋은 총 11,228개의 샘플로 구성되어 있고, 라벨은 46개 주제로 지정되어 0에서 45의 값을 가진다.\n",
    "* 데이터셋은 이미 정수로 인코딩되어 있으며, 정수값은 단어의 빈도수를 나타낸다."
   ]
  },
  {
   "cell_type": "code",
   "execution_count": 10,
   "metadata": {},
   "outputs": [],
   "source": [
    "(x_train, y_train), (x_test, y_test) = reuters.load_data(num_words=15000)"
   ]
  },
  {
   "cell_type": "code",
   "execution_count": 11,
   "metadata": {},
   "outputs": [
    {
     "name": "stdout",
     "output_type": "stream",
     "text": [
      "8982\n",
      "2246\n"
     ]
    }
   ],
   "source": [
    "print(len(x_train))\n",
    "print(len(x_test))"
   ]
  },
  {
   "cell_type": "code",
   "execution_count": 12,
   "metadata": {},
   "outputs": [
    {
     "name": "stdout",
     "output_type": "stream",
     "text": [
      "[1, 2, 2, 8, 43, 10, 447, 5, 25, 207, 270, 5, 3095, 111, 16, 369, 186, 90, 67, 7, 89, 5, 19, 102, 6, 19, 124, 15, 90, 67, 84, 22, 482, 26, 7, 48, 4, 49, 8, 864, 39, 209, 154, 6, 151, 6, 83, 11, 15, 22, 155, 11, 15, 7, 48, 9, 4579, 1005, 504, 6, 258, 6, 272, 11, 15, 22, 134, 44, 11, 15, 16, 8, 197, 1245, 90, 67, 52, 29, 209, 30, 32, 132, 6, 109, 15, 17, 12]\n"
     ]
    }
   ],
   "source": [
    "print(x_train[0])"
   ]
  },
  {
   "cell_type": "code",
   "execution_count": 13,
   "metadata": {},
   "outputs": [
    {
     "name": "stdout",
     "output_type": "stream",
     "text": [
      "3\n"
     ]
    }
   ],
   "source": [
    "print(y_train[0])"
   ]
  },
  {
   "cell_type": "code",
   "execution_count": 15,
   "metadata": {},
   "outputs": [],
   "source": [
    "# 훈련셋 8,892개 중 다시 7,000개를 훈련셋으로, 나머지를 검증셋으로 분리한다.\n",
    "x_val = x_train[7000:]\n",
    "y_val = y_train[7000:]\n",
    "x_train = x_train[:7000]\n",
    "y_train = y_train[:7000]"
   ]
  },
  {
   "cell_type": "markdown",
   "metadata": {},
   "source": [
    "각 샘플의 길이가 달라서 모델의 입력으로 사용하기 위해 케라스에서 제공되는 전처리 함수인 sequence의 pad_sequences() 함수를 사용한다.\n",
    "* **pad_sequences() 함수 역할**\n",
    "    * 문장의 길이를 maxlen 인자로 맞춘다.\n",
    "    * (num_samples, num_timesteps) 으로 2차원의 numpy 배열로 만들어준다."
   ]
  },
  {
   "cell_type": "code",
   "execution_count": 16,
   "metadata": {},
   "outputs": [
    {
     "name": "stdout",
     "output_type": "stream",
     "text": [
      "87\n"
     ]
    }
   ],
   "source": [
    "print(len(x_train[0]))"
   ]
  },
  {
   "cell_type": "code",
   "execution_count": 17,
   "metadata": {},
   "outputs": [],
   "source": [
    "x_train = sequence.pad_sequences(x_train, maxlen=120)\n",
    "x_val = sequence.pad_sequences(x_val, maxlen=120)\n",
    "x_test = sequence.pad_sequences(x_test, maxlen=120)"
   ]
  },
  {
   "cell_type": "code",
   "execution_count": 20,
   "metadata": {},
   "outputs": [
    {
     "name": "stdout",
     "output_type": "stream",
     "text": [
      "120\n",
      "[   0    0    0    0    0    0    0    0    0    0    0    0    0    0\n",
      "    0    0    0    0    0    0    0    0    0    0    0    0    0    0\n",
      "    0    0    0    0    0    1    2    2    8   43   10  447    5   25\n",
      "  207  270    5 3095  111   16  369  186   90   67    7   89    5   19\n",
      "  102    6   19  124   15   90   67   84   22  482   26    7   48    4\n",
      "   49    8  864   39  209  154    6  151    6   83   11   15   22  155\n",
      "   11   15    7   48    9 4579 1005  504    6  258    6  272   11   15\n",
      "   22  134   44   11   15   16    8  197 1245   90   67   52   29  209\n",
      "   30   32  132    6  109   15   17   12]\n"
     ]
    }
   ],
   "source": [
    "print(len(x_train[0]))\n",
    "print(x_train[0])"
   ]
  },
  {
   "cell_type": "code",
   "execution_count": 22,
   "metadata": {},
   "outputs": [],
   "source": [
    "# one-hot 인코딩\n",
    "y_train = np_utils.to_categorical(y_train)\n",
    "y_val = np_utils.to_categorical(y_val)\n",
    "y_test = np_utils.to_categorical(y_test)"
   ]
  },
  {
   "cell_type": "code",
   "execution_count": 24,
   "metadata": {},
   "outputs": [
    {
     "name": "stdout",
     "output_type": "stream",
     "text": [
      "46\n",
      "[0. 0. 0. 1. 0. 0. 0. 0. 0. 0. 0. 0. 0. 0. 0. 0. 0. 0. 0. 0. 0. 0. 0. 0.\n",
      " 0. 0. 0. 0. 0. 0. 0. 0. 0. 0. 0. 0. 0. 0. 0. 0. 0. 0. 0. 0. 0. 0.]\n"
     ]
    }
   ],
   "source": [
    "print(len(y_train[0]))\n",
    "print(y_train[0])"
   ]
  },
  {
   "cell_type": "markdown",
   "metadata": {},
   "source": [
    "<br>\n",
    "\n",
    "---\n",
    "\n",
    "<br>\n",
    "\n",
    "# 모델 준비\n",
    "## 다층퍼셉트론 신경망 모델\n",
    "\n",
    "![image](https://user-images.githubusercontent.com/43431081/81909489-a4140600-9605-11ea-9945-5bd2deedfabc.png)\n",
    "\n",
    "* 임베딩 레이어는 한 단어를 128 벡터로 인코딩한다.\n",
    "    * 예시\n",
    "      ```python\n",
    "        # 문장 토큰화와 단어 토큰화\n",
    "        text=[['Hope', 'to', 'see', 'you', 'soon'],['Nice', 'to', 'see', 'you', 'again']]\n",
    "\n",
    "        # 각 단어에 대한 정수 인코딩\n",
    "        text=[[0, 1, 2, 3, 4],[5, 1, 2, 3, 6]]\n",
    "\n",
    "        # 위 데이터가 아래의 임베딩 층의 입력이 된다.\n",
    "        Embedding(7, 2, input_length=5)\n",
    "        # 7은 단어의 개수. 즉, 단어 집합(vocabulary)의 크기이다.\n",
    "        # 2는 임베딩한 후의 벡터의 크기이다.\n",
    "        # 5는 각 입력 시퀀스의 길이. 즉, input_length이다.\n",
    "\n",
    "        # 각 정수는 아래의 테이블의 인덱스로 사용되며 Embeddig()은 각 단어에 대해 임베딩 벡터를 리턴한다.\n",
    "        +------------+------------+\n",
    "        |   index    | embedding  |\n",
    "        +------------+------------+\n",
    "        |     0      | [1.2, 3.1] |\n",
    "        |     1      | [0.1, 4.2] |\n",
    "        |     2      | [1.0, 3.1] |\n",
    "        |     3      | [0.3, 2.1] |\n",
    "        |     4      | [2.2, 1.4] |\n",
    "        |     5      | [0.7, 1.7] |\n",
    "        |     6      | [4.1, 2.0] |\n",
    "        +------------+------------+\n",
    "        # 위의 표는 임베딩 벡터가 된 결과를 예로서 정리한 것이고 Embedding()의 출력인 3D 텐서를 보여주는 것이 아님.\n",
    "        ```"
   ]
  },
  {
   "cell_type": "code",
   "execution_count": 21,
   "metadata": {},
   "outputs": [],
   "source": [
    "model = Sequential()\n",
    "model.add(Embedding(15000, 128, input_length=120))\n",
    "model.add(Flatten())\n",
    "model.add(Dense(256, activation='relu'))\n",
    "model.add(Dense(46, activation='softmax'))  # 다중분류이므로 softmax 활성화 함수를 사용한다."
   ]
  },
  {
   "cell_type": "code",
   "execution_count": 31,
   "metadata": {},
   "outputs": [],
   "source": [
    "# 딥러닝 모델 가시화\n",
    "def visualize(model):\n",
    "    return SVG(model_to_dot(model, show_shapes=True, dpi=65).create(prog='dot', format='svg'))"
   ]
  },
  {
   "cell_type": "code",
   "execution_count": 32,
   "metadata": {},
   "outputs": [
    {
     "data": {
      "image/svg+xml": [
       "<svg height=\"349pt\" viewBox=\"0.00 0.00 339.00 387.00\" width=\"306pt\" xmlns=\"http://www.w3.org/2000/svg\" xmlns:xlink=\"http://www.w3.org/1999/xlink\">\n",
       "<g class=\"graph\" id=\"graph0\" transform=\"scale(0.9 0.9) rotate(0) translate(4 383)\">\n",
       "<title>G</title>\n",
       "<polygon fill=\"white\" points=\"-4,4 -4,-383 335,-383 335,4 -4,4\" stroke=\"transparent\"/>\n",
       "<!-- 5687243024 -->\n",
       "<g class=\"node\" id=\"node1\">\n",
       "<title>5687243024</title>\n",
       "<polygon fill=\"none\" points=\"0,-332.5 0,-378.5 331,-378.5 331,-332.5 0,-332.5\" stroke=\"black\"/>\n",
       "<text font-family=\"Times,serif\" font-size=\"14.00\" text-anchor=\"middle\" x=\"96.5\" y=\"-351.8\">embedding_1_input: InputLayer</text>\n",
       "<polyline fill=\"none\" points=\"193,-332.5 193,-378.5 \" stroke=\"black\"/>\n",
       "<text font-family=\"Times,serif\" font-size=\"14.00\" text-anchor=\"middle\" x=\"220.5\" y=\"-363.3\">input:</text>\n",
       "<polyline fill=\"none\" points=\"193,-355.5 248,-355.5 \" stroke=\"black\"/>\n",
       "<text font-family=\"Times,serif\" font-size=\"14.00\" text-anchor=\"middle\" x=\"220.5\" y=\"-340.3\">output:</text>\n",
       "<polyline fill=\"none\" points=\"248,-332.5 248,-378.5 \" stroke=\"black\"/>\n",
       "<text font-family=\"Times,serif\" font-size=\"14.00\" text-anchor=\"middle\" x=\"289.5\" y=\"-363.3\">(None, 120)</text>\n",
       "<polyline fill=\"none\" points=\"248,-355.5 331,-355.5 \" stroke=\"black\"/>\n",
       "<text font-family=\"Times,serif\" font-size=\"14.00\" text-anchor=\"middle\" x=\"289.5\" y=\"-340.3\">(None, 120)</text>\n",
       "</g>\n",
       "<!-- 5670043024 -->\n",
       "<g class=\"node\" id=\"node2\">\n",
       "<title>5670043024</title>\n",
       "<polygon fill=\"none\" points=\"2.5,-249.5 2.5,-295.5 328.5,-295.5 328.5,-249.5 2.5,-249.5\" stroke=\"black\"/>\n",
       "<text font-family=\"Times,serif\" font-size=\"14.00\" text-anchor=\"middle\" x=\"83\" y=\"-268.8\">embedding_1: Embedding</text>\n",
       "<polyline fill=\"none\" points=\"163.5,-249.5 163.5,-295.5 \" stroke=\"black\"/>\n",
       "<text font-family=\"Times,serif\" font-size=\"14.00\" text-anchor=\"middle\" x=\"191\" y=\"-280.3\">input:</text>\n",
       "<polyline fill=\"none\" points=\"163.5,-272.5 218.5,-272.5 \" stroke=\"black\"/>\n",
       "<text font-family=\"Times,serif\" font-size=\"14.00\" text-anchor=\"middle\" x=\"191\" y=\"-257.3\">output:</text>\n",
       "<polyline fill=\"none\" points=\"218.5,-249.5 218.5,-295.5 \" stroke=\"black\"/>\n",
       "<text font-family=\"Times,serif\" font-size=\"14.00\" text-anchor=\"middle\" x=\"273.5\" y=\"-280.3\">(None, 120)</text>\n",
       "<polyline fill=\"none\" points=\"218.5,-272.5 328.5,-272.5 \" stroke=\"black\"/>\n",
       "<text font-family=\"Times,serif\" font-size=\"14.00\" text-anchor=\"middle\" x=\"273.5\" y=\"-257.3\">(None, 120, 128)</text>\n",
       "</g>\n",
       "<!-- 5687243024&#45;&gt;5670043024 -->\n",
       "<g class=\"edge\" id=\"edge1\">\n",
       "<title>5687243024-&gt;5670043024</title>\n",
       "<path d=\"M165.5,-332.37C165.5,-324.15 165.5,-314.66 165.5,-305.73\" fill=\"none\" stroke=\"black\"/>\n",
       "<polygon fill=\"black\" points=\"169,-305.61 165.5,-295.61 162,-305.61 169,-305.61\" stroke=\"black\"/>\n",
       "</g>\n",
       "<!-- 5645841040 -->\n",
       "<g class=\"node\" id=\"node3\">\n",
       "<title>5645841040</title>\n",
       "<polygon fill=\"none\" points=\"28.5,-166.5 28.5,-212.5 302.5,-212.5 302.5,-166.5 28.5,-166.5\" stroke=\"black\"/>\n",
       "<text font-family=\"Times,serif\" font-size=\"14.00\" text-anchor=\"middle\" x=\"83\" y=\"-185.8\">flatten_1: Flatten</text>\n",
       "<polyline fill=\"none\" points=\"137.5,-166.5 137.5,-212.5 \" stroke=\"black\"/>\n",
       "<text font-family=\"Times,serif\" font-size=\"14.00\" text-anchor=\"middle\" x=\"165\" y=\"-197.3\">input:</text>\n",
       "<polyline fill=\"none\" points=\"137.5,-189.5 192.5,-189.5 \" stroke=\"black\"/>\n",
       "<text font-family=\"Times,serif\" font-size=\"14.00\" text-anchor=\"middle\" x=\"165\" y=\"-174.3\">output:</text>\n",
       "<polyline fill=\"none\" points=\"192.5,-166.5 192.5,-212.5 \" stroke=\"black\"/>\n",
       "<text font-family=\"Times,serif\" font-size=\"14.00\" text-anchor=\"middle\" x=\"247.5\" y=\"-197.3\">(None, 120, 128)</text>\n",
       "<polyline fill=\"none\" points=\"192.5,-189.5 302.5,-189.5 \" stroke=\"black\"/>\n",
       "<text font-family=\"Times,serif\" font-size=\"14.00\" text-anchor=\"middle\" x=\"247.5\" y=\"-174.3\">(None, 15360)</text>\n",
       "</g>\n",
       "<!-- 5670043024&#45;&gt;5645841040 -->\n",
       "<g class=\"edge\" id=\"edge2\">\n",
       "<title>5670043024-&gt;5645841040</title>\n",
       "<path d=\"M165.5,-249.37C165.5,-241.15 165.5,-231.66 165.5,-222.73\" fill=\"none\" stroke=\"black\"/>\n",
       "<polygon fill=\"black\" points=\"169,-222.61 165.5,-212.61 162,-222.61 169,-222.61\" stroke=\"black\"/>\n",
       "</g>\n",
       "<!-- 5693090704 -->\n",
       "<g class=\"node\" id=\"node4\">\n",
       "<title>5693090704</title>\n",
       "<polygon fill=\"none\" points=\"39,-83.5 39,-129.5 292,-129.5 292,-83.5 39,-83.5\" stroke=\"black\"/>\n",
       "<text font-family=\"Times,serif\" font-size=\"14.00\" text-anchor=\"middle\" x=\"90\" y=\"-102.8\">dense_1: Dense</text>\n",
       "<polyline fill=\"none\" points=\"141,-83.5 141,-129.5 \" stroke=\"black\"/>\n",
       "<text font-family=\"Times,serif\" font-size=\"14.00\" text-anchor=\"middle\" x=\"168.5\" y=\"-114.3\">input:</text>\n",
       "<polyline fill=\"none\" points=\"141,-106.5 196,-106.5 \" stroke=\"black\"/>\n",
       "<text font-family=\"Times,serif\" font-size=\"14.00\" text-anchor=\"middle\" x=\"168.5\" y=\"-91.3\">output:</text>\n",
       "<polyline fill=\"none\" points=\"196,-83.5 196,-129.5 \" stroke=\"black\"/>\n",
       "<text font-family=\"Times,serif\" font-size=\"14.00\" text-anchor=\"middle\" x=\"244\" y=\"-114.3\">(None, 15360)</text>\n",
       "<polyline fill=\"none\" points=\"196,-106.5 292,-106.5 \" stroke=\"black\"/>\n",
       "<text font-family=\"Times,serif\" font-size=\"14.00\" text-anchor=\"middle\" x=\"244\" y=\"-91.3\">(None, 256)</text>\n",
       "</g>\n",
       "<!-- 5645841040&#45;&gt;5693090704 -->\n",
       "<g class=\"edge\" id=\"edge3\">\n",
       "<title>5645841040-&gt;5693090704</title>\n",
       "<path d=\"M165.5,-166.37C165.5,-158.15 165.5,-148.66 165.5,-139.73\" fill=\"none\" stroke=\"black\"/>\n",
       "<polygon fill=\"black\" points=\"169,-139.61 165.5,-129.61 162,-139.61 169,-139.61\" stroke=\"black\"/>\n",
       "</g>\n",
       "<!-- 5672618320 -->\n",
       "<g class=\"node\" id=\"node5\">\n",
       "<title>5672618320</title>\n",
       "<polygon fill=\"none\" points=\"45.5,-0.5 45.5,-46.5 285.5,-46.5 285.5,-0.5 45.5,-0.5\" stroke=\"black\"/>\n",
       "<text font-family=\"Times,serif\" font-size=\"14.00\" text-anchor=\"middle\" x=\"96.5\" y=\"-19.8\">dense_2: Dense</text>\n",
       "<polyline fill=\"none\" points=\"147.5,-0.5 147.5,-46.5 \" stroke=\"black\"/>\n",
       "<text font-family=\"Times,serif\" font-size=\"14.00\" text-anchor=\"middle\" x=\"175\" y=\"-31.3\">input:</text>\n",
       "<polyline fill=\"none\" points=\"147.5,-23.5 202.5,-23.5 \" stroke=\"black\"/>\n",
       "<text font-family=\"Times,serif\" font-size=\"14.00\" text-anchor=\"middle\" x=\"175\" y=\"-8.3\">output:</text>\n",
       "<polyline fill=\"none\" points=\"202.5,-0.5 202.5,-46.5 \" stroke=\"black\"/>\n",
       "<text font-family=\"Times,serif\" font-size=\"14.00\" text-anchor=\"middle\" x=\"244\" y=\"-31.3\">(None, 256)</text>\n",
       "<polyline fill=\"none\" points=\"202.5,-23.5 285.5,-23.5 \" stroke=\"black\"/>\n",
       "<text font-family=\"Times,serif\" font-size=\"14.00\" text-anchor=\"middle\" x=\"244\" y=\"-8.3\">(None, 46)</text>\n",
       "</g>\n",
       "<!-- 5693090704&#45;&gt;5672618320 -->\n",
       "<g class=\"edge\" id=\"edge4\">\n",
       "<title>5693090704-&gt;5672618320</title>\n",
       "<path d=\"M165.5,-83.37C165.5,-75.15 165.5,-65.66 165.5,-56.73\" fill=\"none\" stroke=\"black\"/>\n",
       "<polygon fill=\"black\" points=\"169,-56.61 165.5,-46.61 162,-56.61 169,-56.61\" stroke=\"black\"/>\n",
       "</g>\n",
       "</g>\n",
       "</svg>"
      ],
      "text/plain": [
       "<IPython.core.display.SVG object>"
      ]
     },
     "execution_count": 32,
     "metadata": {},
     "output_type": "execute_result"
    }
   ],
   "source": [
    "visualize(model)"
   ]
  },
  {
   "cell_type": "code",
   "execution_count": 25,
   "metadata": {},
   "outputs": [],
   "source": [
    "def learning(model):\n",
    "    model.compile(loss='categorical_crossentropy', optimizer='adam', metrics=['accuracy'])\n",
    "    hist = model.fit(x_train, y_train, epochs=10, batch_size=64, validation_data=(x_val, y_val))\n",
    "    return hist"
   ]
  },
  {
   "cell_type": "code",
   "execution_count": 26,
   "metadata": {},
   "outputs": [],
   "source": [
    "def review(hist):\n",
    "    fig, loss_ax = plt.subplots()\n",
    "    acc_ax = loss_ax.twinx()\n",
    "\n",
    "    loss_ax.plot(hist.history['loss'], 'y', label='train loss')\n",
    "    loss_ax.plot(hist.history['val_loss'], 'r', label='val loss')\n",
    "    loss_ax.set_ylim([0.0, 3.0])\n",
    "\n",
    "    acc_ax.plot(hist.history['accuracy'], 'b', label='train acc')\n",
    "    acc_ax.plot(hist.history['val_accuracy'], 'g', label='val acc')\n",
    "    acc_ax.set_ylim([0.0, 1.0])\n",
    "\n",
    "    loss_ax.set_xlabel('epoch')\n",
    "    loss_ax.set_ylabel('loss')\n",
    "    acc_ax.set_ylabel('accuracy')\n",
    "\n",
    "    loss_ax.legend(loc='upper left')\n",
    "    acc_ax.legend(loc='lower left')\n",
    "\n",
    "    plt.show()"
   ]
  },
  {
   "cell_type": "code",
   "execution_count": 27,
   "metadata": {},
   "outputs": [],
   "source": [
    "def evaluate(model):\n",
    "    loss_and_metrics = model.evaluate(x_test, y_test, batch_size=64)\n",
    "    print('## evaluation loss and metrics ##')\n",
    "    print(loss_and_metrics)"
   ]
  },
  {
   "cell_type": "code",
   "execution_count": 28,
   "metadata": {},
   "outputs": [
    {
     "name": "stderr",
     "output_type": "stream",
     "text": [
      "/Users/sangminlee/keras-tutorial/venv/lib/python3.7/site-packages/tensorflow/python/framework/indexed_slices.py:434: UserWarning: Converting sparse IndexedSlices to a dense Tensor of unknown shape. This may consume a large amount of memory.\n",
      "  \"Converting sparse IndexedSlices to a dense Tensor of unknown shape. \"\n"
     ]
    },
    {
     "name": "stdout",
     "output_type": "stream",
     "text": [
      "Train on 7000 samples, validate on 1982 samples\n",
      "Epoch 1/10\n",
      "7000/7000 [==============================] - 8s 1ms/step - loss: 1.8984 - accuracy: 0.5277 - val_loss: 1.4385 - val_accuracy: 0.6609\n",
      "Epoch 2/10\n",
      "7000/7000 [==============================] - 8s 1ms/step - loss: 0.8049 - accuracy: 0.8221 - val_loss: 1.2863 - val_accuracy: 0.7069\n",
      "Epoch 3/10\n",
      "7000/7000 [==============================] - 8s 1ms/step - loss: 0.2667 - accuracy: 0.9531 - val_loss: 1.3767 - val_accuracy: 0.6887\n",
      "Epoch 4/10\n",
      "7000/7000 [==============================] - 8s 1ms/step - loss: 0.1807 - accuracy: 0.9616 - val_loss: 1.3158 - val_accuracy: 0.7059\n",
      "Epoch 5/10\n",
      "7000/7000 [==============================] - 8s 1ms/step - loss: 0.1552 - accuracy: 0.9609 - val_loss: 1.3509 - val_accuracy: 0.7048\n",
      "Epoch 6/10\n",
      "7000/7000 [==============================] - 8s 1ms/step - loss: 0.1281 - accuracy: 0.9647 - val_loss: 1.3690 - val_accuracy: 0.7023\n",
      "Epoch 7/10\n",
      "7000/7000 [==============================] - 8s 1ms/step - loss: 0.1133 - accuracy: 0.9641 - val_loss: 1.3690 - val_accuracy: 0.6993\n",
      "Epoch 8/10\n",
      "7000/7000 [==============================] - 8s 1ms/step - loss: 0.1059 - accuracy: 0.9637 - val_loss: 1.3829 - val_accuracy: 0.6948\n",
      "Epoch 9/10\n",
      "7000/7000 [==============================] - 8s 1ms/step - loss: 0.0991 - accuracy: 0.9636 - val_loss: 1.4368 - val_accuracy: 0.7003\n",
      "Epoch 10/10\n",
      "7000/7000 [==============================] - 8s 1ms/step - loss: 0.0948 - accuracy: 0.9636 - val_loss: 1.4369 - val_accuracy: 0.7003\n"
     ]
    }
   ],
   "source": [
    "hist = learning(model)"
   ]
  },
  {
   "cell_type": "code",
   "execution_count": 29,
   "metadata": {},
   "outputs": [
    {
     "data": {
      "image/png": "[encoded data removed]",
      "text/plain": [
       "<Figure size 432x288 with 2 Axes>"
      ]
     },
     "metadata": {
      "needs_background": "light"
     },
     "output_type": "display_data"
    }
   ],
   "source": [
    "review(hist)"
   ]
  },
  {
   "cell_type": "code",
   "execution_count": 30,
   "metadata": {},
   "outputs": [
    {
     "name": "stdout",
     "output_type": "stream",
     "text": [
      "2246/2246 [==============================] - 0s 62us/step\n",
      "## evaluation loss and metrics ##\n",
      "[1.5131350438295468, 0.6825467348098755]\n"
     ]
    }
   ],
   "source": [
    "evaluate(model)"
   ]
  },
  {
   "cell_type": "markdown",
   "metadata": {},
   "source": [
    "<br>\n",
    "\n",
    "---\n",
    "\n",
    "<br>\n",
    "\n",
    "# 모델 준비\n",
    "## 순환 신경망 모델\n",
    "\n",
    "![image](https://user-images.githubusercontent.com/43431081/81909505-aa09e700-9605-11ea-8737-6ee806b3c706.png)\n",
    "\n",
    "* 임베딩 레이어에서 반환되는 120개 벡터를 LSTM의 타임스텝으로 입력하는 모델이다. \n",
    "* LSTM의 input_dim은 임베딩 레이어에서 인코딩된 벡터 크기인 128이다."
   ]
  },
  {
   "cell_type": "code",
   "execution_count": 33,
   "metadata": {},
   "outputs": [],
   "source": [
    "cycleModel = Sequential()\n",
    "cycleModel.add(Embedding(15000, 128))\n",
    "cycleModel.add(LSTM(128))\n",
    "cycleModel.add(Dense(46, activation='softmax'))"
   ]
  },
  {
   "cell_type": "code",
   "execution_count": 34,
   "metadata": {},
   "outputs": [
    {
     "name": "stderr",
     "output_type": "stream",
     "text": [
      "/Users/sangminlee/keras-tutorial/venv/lib/python3.7/site-packages/tensorflow/python/framework/indexed_slices.py:434: UserWarning: Converting sparse IndexedSlices to a dense Tensor of unknown shape. This may consume a large amount of memory.\n",
      "  \"Converting sparse IndexedSlices to a dense Tensor of unknown shape. \"\n"
     ]
    },
    {
     "name": "stdout",
     "output_type": "stream",
     "text": [
      "Train on 7000 samples, validate on 1982 samples\n",
      "Epoch 1/10\n",
      "7000/7000 [==============================] - 15s 2ms/step - loss: 2.5170 - accuracy: 0.3601 - val_loss: 2.1379 - val_accuracy: 0.4768\n",
      "Epoch 2/10\n",
      "7000/7000 [==============================] - 16s 2ms/step - loss: 1.9940 - accuracy: 0.4884 - val_loss: 1.8469 - val_accuracy: 0.5020\n",
      "Epoch 3/10\n",
      "7000/7000 [==============================] - 17s 2ms/step - loss: 1.7056 - accuracy: 0.5573 - val_loss: 1.6935 - val_accuracy: 0.5610\n",
      "Epoch 4/10\n",
      "7000/7000 [==============================] - 17s 2ms/step - loss: 1.5289 - accuracy: 0.6080 - val_loss: 1.5113 - val_accuracy: 0.6211\n",
      "Epoch 5/10\n",
      "7000/7000 [==============================] - 16s 2ms/step - loss: 1.2593 - accuracy: 0.6753 - val_loss: 1.4243 - val_accuracy: 0.6463\n",
      "Epoch 6/10\n",
      "7000/7000 [==============================] - 16s 2ms/step - loss: 1.0092 - accuracy: 0.7349 - val_loss: 1.3633 - val_accuracy: 0.6640\n",
      "Epoch 7/10\n",
      "7000/7000 [==============================] - 15s 2ms/step - loss: 0.8144 - accuracy: 0.7881 - val_loss: 1.4552 - val_accuracy: 0.6710\n",
      "Epoch 8/10\n",
      "7000/7000 [==============================] - 14s 2ms/step - loss: 0.6570 - accuracy: 0.8284 - val_loss: 1.4140 - val_accuracy: 0.6705\n",
      "Epoch 9/10\n",
      "7000/7000 [==============================] - 15s 2ms/step - loss: 0.5295 - accuracy: 0.8603 - val_loss: 1.4933 - val_accuracy: 0.6837\n",
      "Epoch 10/10\n",
      "7000/7000 [==============================] - 15s 2ms/step - loss: 0.4289 - accuracy: 0.8877 - val_loss: 1.5999 - val_accuracy: 0.6766\n"
     ]
    }
   ],
   "source": [
    "cycleHist = learning(cycleModel)"
   ]
  },
  {
   "cell_type": "code",
   "execution_count": 35,
   "metadata": {},
   "outputs": [
    {
     "data": {
      "image/png": "[encoded data removed]",
      "text/plain": [
       "<Figure size 432x288 with 2 Axes>"
      ]
     },
     "metadata": {
      "needs_background": "light"
     },
     "output_type": "display_data"
    }
   ],
   "source": [
    "review(cycleHist)"
   ]
  },
  {
   "cell_type": "code",
   "execution_count": 36,
   "metadata": {},
   "outputs": [
    {
     "name": "stdout",
     "output_type": "stream",
     "text": [
      "2246/2246 [==============================] - 1s 483us/step\n",
      "## evaluation loss and metrics ##\n",
      "[1.7084700143029408, 0.6651825308799744]\n"
     ]
    }
   ],
   "source": [
    "evaluate(cycleModel)"
   ]
  },
  {
   "cell_type": "markdown",
   "metadata": {},
   "source": [
    "<br>\n",
    "\n",
    "---\n",
    "\n",
    "<br>\n",
    "\n",
    "# 모델 준비\n",
    "## 컨볼루션 신경망 모델\n",
    "\n",
    "![image](https://user-images.githubusercontent.com/43431081/81909803-1258c880-9606-11ea-8d13-d650ca0b1350.png)\n",
    "\n",
    "* 임베딩 레이어에서 반환되는 120개 벡터를 컨볼루션 필터를 적용한 모델이다."
   ]
  },
  {
   "cell_type": "code",
   "execution_count": 41,
   "metadata": {},
   "outputs": [],
   "source": [
    "convModel = Sequential()\n",
    "convModel.add(Embedding(15000, 128, input_length=120))\n",
    "convModel.add(Dropout(0.2))\n",
    "convModel.add(Conv1D(256, 3, padding='valid', activation='relu', strides=1))\n",
    "convModel.add(GlobalMaxPooling1D())\n",
    "convModel.add(Dense(128, activation='relu'))\n",
    "convModel.add(Dropout(0.2))\n",
    "convModel.add(Dense(46, activation='softmax'))"
   ]
  },
  {
   "cell_type": "code",
   "execution_count": 42,
   "metadata": {},
   "outputs": [
    {
     "name": "stdout",
     "output_type": "stream",
     "text": [
      "Train on 7000 samples, validate on 1982 samples\n",
      "Epoch 1/10\n",
      "7000/7000 [==============================] - 6s 916us/step - loss: 2.3173 - accuracy: 0.4399 - val_loss: 1.7898 - val_accuracy: 0.5182\n",
      "Epoch 2/10\n",
      "7000/7000 [==============================] - 6s 912us/step - loss: 1.6003 - accuracy: 0.6147 - val_loss: 1.3803 - val_accuracy: 0.6796\n",
      "Epoch 3/10\n",
      "7000/7000 [==============================] - 6s 890us/step - loss: 1.2728 - accuracy: 0.6949 - val_loss: 1.2249 - val_accuracy: 0.7099\n",
      "Epoch 4/10\n",
      "7000/7000 [==============================] - 6s 912us/step - loss: 1.0253 - accuracy: 0.7544 - val_loss: 1.1296 - val_accuracy: 0.7306\n",
      "Epoch 5/10\n",
      "7000/7000 [==============================] - 6s 900us/step - loss: 0.8146 - accuracy: 0.8023 - val_loss: 1.0931 - val_accuracy: 0.7477\n",
      "Epoch 6/10\n",
      "7000/7000 [==============================] - 6s 899us/step - loss: 0.6170 - accuracy: 0.8427 - val_loss: 1.1025 - val_accuracy: 0.7533\n",
      "Epoch 7/10\n",
      "7000/7000 [==============================] - 6s 891us/step - loss: 0.4657 - accuracy: 0.8803 - val_loss: 1.1605 - val_accuracy: 0.7518\n",
      "Epoch 8/10\n",
      "7000/7000 [==============================] - 6s 885us/step - loss: 0.3548 - accuracy: 0.9106 - val_loss: 1.1319 - val_accuracy: 0.7578\n",
      "Epoch 9/10\n",
      "7000/7000 [==============================] - 6s 895us/step - loss: 0.2725 - accuracy: 0.9287 - val_loss: 1.2015 - val_accuracy: 0.7588\n",
      "Epoch 10/10\n",
      "7000/7000 [==============================] - 6s 895us/step - loss: 0.2171 - accuracy: 0.9473 - val_loss: 1.2720 - val_accuracy: 0.7568\n"
     ]
    }
   ],
   "source": [
    "convHist = learning(convModel)"
   ]
  },
  {
   "cell_type": "code",
   "execution_count": 43,
   "metadata": {},
   "outputs": [
    {
     "data": {
      "image/png": "[encoded data removed]",
      "text/plain": [
       "<Figure size 432x288 with 2 Axes>"
      ]
     },
     "metadata": {
      "needs_background": "light"
     },
     "output_type": "display_data"
    }
   ],
   "source": [
    "review(convHist)"
   ]
  },
  {
   "cell_type": "code",
   "execution_count": 44,
   "metadata": {},
   "outputs": [
    {
     "name": "stdout",
     "output_type": "stream",
     "text": [
      "2246/2246 [==============================] - 0s 115us/step\n",
      "## evaluation loss and metrics ##\n",
      "[1.3294882086484643, 0.7471059560775757]\n"
     ]
    }
   ],
   "source": [
    "evaluate(convModel)"
   ]
  },
  {
   "cell_type": "markdown",
   "metadata": {},
   "source": [
    "<br>\n",
    "\n",
    "---\n",
    "\n",
    "<br>\n",
    "\n",
    "# 모델 준비\n",
    "## 순환 컨볼루션 신경망 모델\n",
    "\n",
    "![image](https://user-images.githubusercontent.com/43431081/81909813-15ec4f80-9606-11ea-8164-16ba97039b0b.png)\n",
    "\n",
    "* 컨볼루션 레이어에서 나온 특징벡터들을 맥스풀링을 통해 1/4로 줄여준 다음 LSTM의 입력으로 넣어주는 모델이다."
   ]
  },
  {
   "cell_type": "code",
   "execution_count": 46,
   "metadata": {},
   "outputs": [],
   "source": [
    "cycleConvModel = Sequential()\n",
    "cycleConvModel.add(Embedding(15000, 128, input_length=120))\n",
    "cycleConvModel.add(Dropout(0.2))\n",
    "cycleConvModel.add(Conv1D(256, 3, padding='valid', activation='relu', strides=1))\n",
    "cycleConvModel.add(MaxPooling1D(pool_size=4))\n",
    "cycleConvModel.add(LSTM(128))\n",
    "cycleConvModel.add(Dense(46, activation='softmax'))"
   ]
  },
  {
   "cell_type": "code",
   "execution_count": 47,
   "metadata": {},
   "outputs": [
    {
     "data": {
      "image/svg+xml": [
       "<svg height=\"499pt\" viewBox=\"0.00 0.00 380.00 553.00\" width=\"343pt\" xmlns=\"http://www.w3.org/2000/svg\" xmlns:xlink=\"http://www.w3.org/1999/xlink\">\n",
       "<g class=\"graph\" id=\"graph0\" transform=\"scale(0.9 0.9) rotate(0) translate(4 549)\">\n",
       "<title>G</title>\n",
       "<polygon fill=\"white\" points=\"-4,4 -4,-549 376,-549 376,4 -4,4\" stroke=\"transparent\"/>\n",
       "<!-- 5281304912 -->\n",
       "<g class=\"node\" id=\"node1\">\n",
       "<title>5281304912</title>\n",
       "<polygon fill=\"none\" points=\"20.5,-498.5 20.5,-544.5 351.5,-544.5 351.5,-498.5 20.5,-498.5\" stroke=\"black\"/>\n",
       "<text font-family=\"Times,serif\" font-size=\"14.00\" text-anchor=\"middle\" x=\"117\" y=\"-517.8\">embedding_6_input: InputLayer</text>\n",
       "<polyline fill=\"none\" points=\"213.5,-498.5 213.5,-544.5 \" stroke=\"black\"/>\n",
       "<text font-family=\"Times,serif\" font-size=\"14.00\" text-anchor=\"middle\" x=\"241\" y=\"-529.3\">input:</text>\n",
       "<polyline fill=\"none\" points=\"213.5,-521.5 268.5,-521.5 \" stroke=\"black\"/>\n",
       "<text font-family=\"Times,serif\" font-size=\"14.00\" text-anchor=\"middle\" x=\"241\" y=\"-506.3\">output:</text>\n",
       "<polyline fill=\"none\" points=\"268.5,-498.5 268.5,-544.5 \" stroke=\"black\"/>\n",
       "<text font-family=\"Times,serif\" font-size=\"14.00\" text-anchor=\"middle\" x=\"310\" y=\"-529.3\">(None, 120)</text>\n",
       "<polyline fill=\"none\" points=\"268.5,-521.5 351.5,-521.5 \" stroke=\"black\"/>\n",
       "<text font-family=\"Times,serif\" font-size=\"14.00\" text-anchor=\"middle\" x=\"310\" y=\"-506.3\">(None, 120)</text>\n",
       "</g>\n",
       "<!-- 5696354768 -->\n",
       "<g class=\"node\" id=\"node2\">\n",
       "<title>5696354768</title>\n",
       "<polygon fill=\"none\" points=\"23,-415.5 23,-461.5 349,-461.5 349,-415.5 23,-415.5\" stroke=\"black\"/>\n",
       "<text font-family=\"Times,serif\" font-size=\"14.00\" text-anchor=\"middle\" x=\"103.5\" y=\"-434.8\">embedding_6: Embedding</text>\n",
       "<polyline fill=\"none\" points=\"184,-415.5 184,-461.5 \" stroke=\"black\"/>\n",
       "<text font-family=\"Times,serif\" font-size=\"14.00\" text-anchor=\"middle\" x=\"211.5\" y=\"-446.3\">input:</text>\n",
       "<polyline fill=\"none\" points=\"184,-438.5 239,-438.5 \" stroke=\"black\"/>\n",
       "<text font-family=\"Times,serif\" font-size=\"14.00\" text-anchor=\"middle\" x=\"211.5\" y=\"-423.3\">output:</text>\n",
       "<polyline fill=\"none\" points=\"239,-415.5 239,-461.5 \" stroke=\"black\"/>\n",
       "<text font-family=\"Times,serif\" font-size=\"14.00\" text-anchor=\"middle\" x=\"294\" y=\"-446.3\">(None, 120)</text>\n",
       "<polyline fill=\"none\" points=\"239,-438.5 349,-438.5 \" stroke=\"black\"/>\n",
       "<text font-family=\"Times,serif\" font-size=\"14.00\" text-anchor=\"middle\" x=\"294\" y=\"-423.3\">(None, 120, 128)</text>\n",
       "</g>\n",
       "<!-- 5281304912&#45;&gt;5696354768 -->\n",
       "<g class=\"edge\" id=\"edge1\">\n",
       "<title>5281304912-&gt;5696354768</title>\n",
       "<path d=\"M186,-498.37C186,-490.15 186,-480.66 186,-471.73\" fill=\"none\" stroke=\"black\"/>\n",
       "<polygon fill=\"black\" points=\"189.5,-471.61 186,-461.61 182.5,-471.61 189.5,-471.61\" stroke=\"black\"/>\n",
       "</g>\n",
       "<!-- 5696353104 -->\n",
       "<g class=\"node\" id=\"node3\">\n",
       "<title>5696353104</title>\n",
       "<polygon fill=\"none\" points=\"41,-332.5 41,-378.5 331,-378.5 331,-332.5 41,-332.5\" stroke=\"black\"/>\n",
       "<text font-family=\"Times,serif\" font-size=\"14.00\" text-anchor=\"middle\" x=\"103.5\" y=\"-351.8\">dropout_7: Dropout</text>\n",
       "<polyline fill=\"none\" points=\"166,-332.5 166,-378.5 \" stroke=\"black\"/>\n",
       "<text font-family=\"Times,serif\" font-size=\"14.00\" text-anchor=\"middle\" x=\"193.5\" y=\"-363.3\">input:</text>\n",
       "<polyline fill=\"none\" points=\"166,-355.5 221,-355.5 \" stroke=\"black\"/>\n",
       "<text font-family=\"Times,serif\" font-size=\"14.00\" text-anchor=\"middle\" x=\"193.5\" y=\"-340.3\">output:</text>\n",
       "<polyline fill=\"none\" points=\"221,-332.5 221,-378.5 \" stroke=\"black\"/>\n",
       "<text font-family=\"Times,serif\" font-size=\"14.00\" text-anchor=\"middle\" x=\"276\" y=\"-363.3\">(None, 120, 128)</text>\n",
       "<polyline fill=\"none\" points=\"221,-355.5 331,-355.5 \" stroke=\"black\"/>\n",
       "<text font-family=\"Times,serif\" font-size=\"14.00\" text-anchor=\"middle\" x=\"276\" y=\"-340.3\">(None, 120, 128)</text>\n",
       "</g>\n",
       "<!-- 5696354768&#45;&gt;5696353104 -->\n",
       "<g class=\"edge\" id=\"edge2\">\n",
       "<title>5696354768-&gt;5696353104</title>\n",
       "<path d=\"M186,-415.37C186,-407.15 186,-397.66 186,-388.73\" fill=\"none\" stroke=\"black\"/>\n",
       "<polygon fill=\"black\" points=\"189.5,-388.61 186,-378.61 182.5,-388.61 189.5,-388.61\" stroke=\"black\"/>\n",
       "</g>\n",
       "<!-- 5694727888 -->\n",
       "<g class=\"node\" id=\"node4\">\n",
       "<title>5694727888</title>\n",
       "<polygon fill=\"none\" points=\"42,-249.5 42,-295.5 330,-295.5 330,-249.5 42,-249.5\" stroke=\"black\"/>\n",
       "<text font-family=\"Times,serif\" font-size=\"14.00\" text-anchor=\"middle\" x=\"103.5\" y=\"-268.8\">conv1d_4: Conv1D</text>\n",
       "<polyline fill=\"none\" points=\"165,-249.5 165,-295.5 \" stroke=\"black\"/>\n",
       "<text font-family=\"Times,serif\" font-size=\"14.00\" text-anchor=\"middle\" x=\"192.5\" y=\"-280.3\">input:</text>\n",
       "<polyline fill=\"none\" points=\"165,-272.5 220,-272.5 \" stroke=\"black\"/>\n",
       "<text font-family=\"Times,serif\" font-size=\"14.00\" text-anchor=\"middle\" x=\"192.5\" y=\"-257.3\">output:</text>\n",
       "<polyline fill=\"none\" points=\"220,-249.5 220,-295.5 \" stroke=\"black\"/>\n",
       "<text font-family=\"Times,serif\" font-size=\"14.00\" text-anchor=\"middle\" x=\"275\" y=\"-280.3\">(None, 120, 128)</text>\n",
       "<polyline fill=\"none\" points=\"220,-272.5 330,-272.5 \" stroke=\"black\"/>\n",
       "<text font-family=\"Times,serif\" font-size=\"14.00\" text-anchor=\"middle\" x=\"275\" y=\"-257.3\">(None, 118, 256)</text>\n",
       "</g>\n",
       "<!-- 5696353104&#45;&gt;5694727888 -->\n",
       "<g class=\"edge\" id=\"edge3\">\n",
       "<title>5696353104-&gt;5694727888</title>\n",
       "<path d=\"M186,-332.37C186,-324.15 186,-314.66 186,-305.73\" fill=\"none\" stroke=\"black\"/>\n",
       "<polygon fill=\"black\" points=\"189.5,-305.61 186,-295.61 182.5,-305.61 189.5,-305.61\" stroke=\"black\"/>\n",
       "</g>\n",
       "<!-- 5696309648 -->\n",
       "<g class=\"node\" id=\"node5\">\n",
       "<title>5696309648</title>\n",
       "<polygon fill=\"none\" points=\"0,-166.5 0,-212.5 372,-212.5 372,-166.5 0,-166.5\" stroke=\"black\"/>\n",
       "<text font-family=\"Times,serif\" font-size=\"14.00\" text-anchor=\"middle\" x=\"103.5\" y=\"-185.8\">max_pooling1d_1: MaxPooling1D</text>\n",
       "<polyline fill=\"none\" points=\"207,-166.5 207,-212.5 \" stroke=\"black\"/>\n",
       "<text font-family=\"Times,serif\" font-size=\"14.00\" text-anchor=\"middle\" x=\"234.5\" y=\"-197.3\">input:</text>\n",
       "<polyline fill=\"none\" points=\"207,-189.5 262,-189.5 \" stroke=\"black\"/>\n",
       "<text font-family=\"Times,serif\" font-size=\"14.00\" text-anchor=\"middle\" x=\"234.5\" y=\"-174.3\">output:</text>\n",
       "<polyline fill=\"none\" points=\"262,-166.5 262,-212.5 \" stroke=\"black\"/>\n",
       "<text font-family=\"Times,serif\" font-size=\"14.00\" text-anchor=\"middle\" x=\"317\" y=\"-197.3\">(None, 118, 256)</text>\n",
       "<polyline fill=\"none\" points=\"262,-189.5 372,-189.5 \" stroke=\"black\"/>\n",
       "<text font-family=\"Times,serif\" font-size=\"14.00\" text-anchor=\"middle\" x=\"317\" y=\"-174.3\">(None, 29, 256)</text>\n",
       "</g>\n",
       "<!-- 5694727888&#45;&gt;5696309648 -->\n",
       "<g class=\"edge\" id=\"edge4\">\n",
       "<title>5694727888-&gt;5696309648</title>\n",
       "<path d=\"M186,-249.37C186,-241.15 186,-231.66 186,-222.73\" fill=\"none\" stroke=\"black\"/>\n",
       "<polygon fill=\"black\" points=\"189.5,-222.61 186,-212.61 182.5,-222.61 189.5,-222.61\" stroke=\"black\"/>\n",
       "</g>\n",
       "<!-- 5696384592 -->\n",
       "<g class=\"node\" id=\"node6\">\n",
       "<title>5696384592</title>\n",
       "<polygon fill=\"none\" points=\"57.5,-83.5 57.5,-129.5 314.5,-129.5 314.5,-83.5 57.5,-83.5\" stroke=\"black\"/>\n",
       "<text font-family=\"Times,serif\" font-size=\"14.00\" text-anchor=\"middle\" x=\"106.5\" y=\"-102.8\">lstm_2: LSTM</text>\n",
       "<polyline fill=\"none\" points=\"155.5,-83.5 155.5,-129.5 \" stroke=\"black\"/>\n",
       "<text font-family=\"Times,serif\" font-size=\"14.00\" text-anchor=\"middle\" x=\"183\" y=\"-114.3\">input:</text>\n",
       "<polyline fill=\"none\" points=\"155.5,-106.5 210.5,-106.5 \" stroke=\"black\"/>\n",
       "<text font-family=\"Times,serif\" font-size=\"14.00\" text-anchor=\"middle\" x=\"183\" y=\"-91.3\">output:</text>\n",
       "<polyline fill=\"none\" points=\"210.5,-83.5 210.5,-129.5 \" stroke=\"black\"/>\n",
       "<text font-family=\"Times,serif\" font-size=\"14.00\" text-anchor=\"middle\" x=\"262.5\" y=\"-114.3\">(None, 29, 256)</text>\n",
       "<polyline fill=\"none\" points=\"210.5,-106.5 314.5,-106.5 \" stroke=\"black\"/>\n",
       "<text font-family=\"Times,serif\" font-size=\"14.00\" text-anchor=\"middle\" x=\"262.5\" y=\"-91.3\">(None, 128)</text>\n",
       "</g>\n",
       "<!-- 5696309648&#45;&gt;5696384592 -->\n",
       "<g class=\"edge\" id=\"edge5\">\n",
       "<title>5696309648-&gt;5696384592</title>\n",
       "<path d=\"M186,-166.37C186,-158.15 186,-148.66 186,-139.73\" fill=\"none\" stroke=\"black\"/>\n",
       "<polygon fill=\"black\" points=\"189.5,-139.61 186,-129.61 182.5,-139.61 189.5,-139.61\" stroke=\"black\"/>\n",
       "</g>\n",
       "<!-- 5696425040 -->\n",
       "<g class=\"node\" id=\"node7\">\n",
       "<title>5696425040</title>\n",
       "<polygon fill=\"none\" points=\"62.5,-0.5 62.5,-46.5 309.5,-46.5 309.5,-0.5 62.5,-0.5\" stroke=\"black\"/>\n",
       "<text font-family=\"Times,serif\" font-size=\"14.00\" text-anchor=\"middle\" x=\"117\" y=\"-19.8\">dense_10: Dense</text>\n",
       "<polyline fill=\"none\" points=\"171.5,-0.5 171.5,-46.5 \" stroke=\"black\"/>\n",
       "<text font-family=\"Times,serif\" font-size=\"14.00\" text-anchor=\"middle\" x=\"199\" y=\"-31.3\">input:</text>\n",
       "<polyline fill=\"none\" points=\"171.5,-23.5 226.5,-23.5 \" stroke=\"black\"/>\n",
       "<text font-family=\"Times,serif\" font-size=\"14.00\" text-anchor=\"middle\" x=\"199\" y=\"-8.3\">output:</text>\n",
       "<polyline fill=\"none\" points=\"226.5,-0.5 226.5,-46.5 \" stroke=\"black\"/>\n",
       "<text font-family=\"Times,serif\" font-size=\"14.00\" text-anchor=\"middle\" x=\"268\" y=\"-31.3\">(None, 128)</text>\n",
       "<polyline fill=\"none\" points=\"226.5,-23.5 309.5,-23.5 \" stroke=\"black\"/>\n",
       "<text font-family=\"Times,serif\" font-size=\"14.00\" text-anchor=\"middle\" x=\"268\" y=\"-8.3\">(None, 46)</text>\n",
       "</g>\n",
       "<!-- 5696384592&#45;&gt;5696425040 -->\n",
       "<g class=\"edge\" id=\"edge6\">\n",
       "<title>5696384592-&gt;5696425040</title>\n",
       "<path d=\"M186,-83.37C186,-75.15 186,-65.66 186,-56.73\" fill=\"none\" stroke=\"black\"/>\n",
       "<polygon fill=\"black\" points=\"189.5,-56.61 186,-46.61 182.5,-56.61 189.5,-56.61\" stroke=\"black\"/>\n",
       "</g>\n",
       "</g>\n",
       "</svg>"
      ],
      "text/plain": [
       "<IPython.core.display.SVG object>"
      ]
     },
     "execution_count": 47,
     "metadata": {},
     "output_type": "execute_result"
    }
   ],
   "source": [
    "visualize(cycleConvModel)"
   ]
  },
  {
   "cell_type": "code",
   "execution_count": 48,
   "metadata": {},
   "outputs": [
    {
     "name": "stderr",
     "output_type": "stream",
     "text": [
      "/Users/sangminlee/keras-tutorial/venv/lib/python3.7/site-packages/tensorflow/python/framework/indexed_slices.py:434: UserWarning: Converting sparse IndexedSlices to a dense Tensor of unknown shape. This may consume a large amount of memory.\n",
      "  \"Converting sparse IndexedSlices to a dense Tensor of unknown shape. \"\n"
     ]
    },
    {
     "name": "stdout",
     "output_type": "stream",
     "text": [
      "Train on 7000 samples, validate on 1982 samples\n",
      "Epoch 1/10\n",
      "7000/7000 [==============================] - 11s 2ms/step - loss: 2.1463 - accuracy: 0.4587 - val_loss: 1.6915 - val_accuracy: 0.5671\n",
      "Epoch 2/10\n",
      "7000/7000 [==============================] - 11s 2ms/step - loss: 1.5805 - accuracy: 0.5926 - val_loss: 1.4624 - val_accuracy: 0.6433\n",
      "Epoch 3/10\n",
      "7000/7000 [==============================] - 11s 2ms/step - loss: 1.2736 - accuracy: 0.6821 - val_loss: 1.3634 - val_accuracy: 0.6690\n",
      "Epoch 4/10\n",
      "7000/7000 [==============================] - 11s 2ms/step - loss: 1.0176 - accuracy: 0.7447 - val_loss: 1.2719 - val_accuracy: 0.6978\n",
      "Epoch 5/10\n",
      "7000/7000 [==============================] - 11s 2ms/step - loss: 0.8140 - accuracy: 0.7950 - val_loss: 1.2596 - val_accuracy: 0.7154\n",
      "Epoch 6/10\n",
      "7000/7000 [==============================] - 11s 2ms/step - loss: 0.6488 - accuracy: 0.8363 - val_loss: 1.2779 - val_accuracy: 0.7149\n",
      "Epoch 7/10\n",
      "7000/7000 [==============================] - 10s 1ms/step - loss: 0.5225 - accuracy: 0.8703 - val_loss: 1.2772 - val_accuracy: 0.7059\n",
      "Epoch 8/10\n",
      "7000/7000 [==============================] - 10s 1ms/step - loss: 0.4147 - accuracy: 0.8979 - val_loss: 1.3584 - val_accuracy: 0.7175\n",
      "Epoch 9/10\n",
      "7000/7000 [==============================] - 10s 1ms/step - loss: 0.3518 - accuracy: 0.9131 - val_loss: 1.3723 - val_accuracy: 0.7094\n",
      "Epoch 10/10\n",
      "7000/7000 [==============================] - 10s 1ms/step - loss: 0.2863 - accuracy: 0.9300 - val_loss: 1.4222 - val_accuracy: 0.7079\n"
     ]
    }
   ],
   "source": [
    "cycleConvHist = learning(cycleConvModel)"
   ]
  },
  {
   "cell_type": "code",
   "execution_count": 49,
   "metadata": {},
   "outputs": [
    {
     "data": {
      "image/png": "[encoded data removed]",
      "text/plain": [
       "<Figure size 432x288 with 2 Axes>"
      ]
     },
     "metadata": {
      "needs_background": "light"
     },
     "output_type": "display_data"
    }
   ],
   "source": [
    "review(cycleConvHist)"
   ]
  },
  {
   "cell_type": "code",
   "execution_count": 50,
   "metadata": {},
   "outputs": [
    {
     "name": "stdout",
     "output_type": "stream",
     "text": [
      "2246/2246 [==============================] - 1s 373us/step\n",
      "## evaluation loss and metrics ##\n",
      "[1.5581829324961771, 0.6807658076286316]\n"
     ]
    }
   ],
   "source": [
    "evaluate(cycleConvModel)"
   ]
  },
  {
   "cell_type": "markdown",
   "metadata": {},
   "source": [
    "<br>\n",
    "\n",
    "---\n",
    "\n",
    "<br>\n",
    "\n",
    "# 학습결과 비교"
   ]
  },
  {
   "cell_type": "code",
   "execution_count": 52,
   "metadata": {},
   "outputs": [
    {
     "name": "stdout",
     "output_type": "stream",
     "text": [
      "=== 다층퍼셉트론 신경망 ===\n"
     ]
    },
    {
     "data": {
      "image/png": "[encoded data removed]",
      "text/plain": [
       "<Figure size 432x288 with 2 Axes>"
      ]
     },
     "metadata": {
      "needs_background": "light"
     },
     "output_type": "display_data"
    },
    {
     "name": "stdout",
     "output_type": "stream",
     "text": [
      "\n",
      "=== 순환 신경망 ===\n"
     ]
    },
    {
     "data": {
      "image/png": "[encoded data removed]",
      "text/plain": [
       "<Figure size 432x288 with 2 Axes>"
      ]
     },
     "metadata": {
      "needs_background": "light"
     },
     "output_type": "display_data"
    },
    {
     "name": "stdout",
     "output_type": "stream",
     "text": [
      "\n",
      "=== 컨볼루션 신경망 ===\n"
     ]
    },
    {
     "data": {
      "image/png": "[encoded data removed]",
      "text/plain": [
       "<Figure size 432x288 with 2 Axes>"
      ]
     },
     "metadata": {
      "needs_background": "light"
     },
     "output_type": "display_data"
    },
    {
     "name": "stdout",
     "output_type": "stream",
     "text": [
      "\n",
      "=== 순환 컨볼루션 신경망 ===\n"
     ]
    },
    {
     "data": {
      "image/png": "[encoded data removed]",
      "text/plain": [
       "<Figure size 432x288 with 2 Axes>"
      ]
     },
     "metadata": {
      "needs_background": "light"
     },
     "output_type": "display_data"
    }
   ],
   "source": [
    "print('=== 다층퍼셉트론 신경망 ===')\n",
    "review(hist)\n",
    "print('\\n=== 순환 신경망 ===')\n",
    "review(cycleHist)\n",
    "print('\\n=== 컨볼루션 신경망 ===')\n",
    "review(convHist)\n",
    "print('\\n=== 순환 컨볼루션 신경망 ===')\n",
    "review(cycleConvHist)"
   ]
  },
  {
   "cell_type": "code",
   "execution_count": null,
   "metadata": {},
   "outputs": [],
   "source": []
  }
 ],
 "metadata": {
  "kernelspec": {
   "display_name": "Python 3",
   "language": "python",
   "name": "python3"
  },
  "language_info": {
   "codemirror_mode": {
    "name": "ipython",
    "version": 3
   },
   "file_extension": ".py",
   "mimetype": "text/x-python",
   "name": "python",
   "nbconvert_exporter": "python",
   "pygments_lexer": "ipython3",
   "version": "3.7.7"
  }
 },
 "nbformat": 4,
 "nbformat_minor": 4
}
