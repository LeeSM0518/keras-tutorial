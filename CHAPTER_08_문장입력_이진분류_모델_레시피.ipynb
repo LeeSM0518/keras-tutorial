{
 "cells": [
  {
   "cell_type": "markdown",
   "metadata": {},
   "source": [
    "# CHAPTER 08. 문장(시계열수치)입력 이진분류 모델 레시피\n",
    "\n",
    "* 모델을 입력하기 위해서 문장을 시계열수치로 인코딩하는 방법과 여러 가지 이진분류모델을 구성해 보고, 학습 결과를 살펴보자.\n",
    "* 이 모델은 문장 혹은 시계열수치로 양성/음성을 분류하거나 이벤트 발생 유무를 감지하는 문제를 풀 수 있다."
   ]
  },
  {
   "cell_type": "code",
   "execution_count": 1,
   "metadata": {},
   "outputs": [
    {
     "name": "stderr",
     "output_type": "stream",
     "text": [
      "Using TensorFlow backend.\n"
     ]
    }
   ],
   "source": [
    "# 사용할 패키지 불러오기\n",
    "from keras.datasets import imdb\n",
    "from keras.preprocessing import sequence\n",
    "from keras.models import Sequential\n",
    "from keras.layers import Dense, Embedding, LSTM, Flatten, Dropout, \\\n",
    "                         Conv1D, GlobalMaxPooling1D, MaxPooling1D\n",
    "\n",
    "from IPython.display import SVG\n",
    "from keras.utils.vis_utils import model_to_dot\n",
    "\n",
    "%matplotlib inline\n",
    "import matplotlib.pyplot as plt"
   ]
  },
  {
   "cell_type": "markdown",
   "metadata": {},
   "source": [
    "## 데이터셋 설명\n",
    "* IMDB에서 제공하는 영화 리뷰 데이터셋을 이용할 것이다. 이 데이터셋은 훈련셋 25,000개, 시험셋 25,000개의 샘플을 제공한다.\n",
    "* 라벨은 1과 0으로 좋아요/싫어요로 구성된다."
   ]
  },
  {
   "cell_type": "code",
   "execution_count": 2,
   "metadata": {},
   "outputs": [],
   "source": [
    "# 데이터셋 생성하기\n",
    "(x_train, y_train), (x_test, y_test) = imdb.load_data(num_words=20000)"
   ]
  },
  {
   "cell_type": "code",
   "execution_count": 3,
   "metadata": {},
   "outputs": [
    {
     "name": "stdout",
     "output_type": "stream",
     "text": [
      "[1, 14, 22, 16, 43, 530, 973, 1622, 1385, 65, 458, 4468, 66, 3941, 4, 173, 36, 256, 5, 25, 100, 43, 838, 112, 50, 670, 2, 9, 35, 480, 284, 5, 150, 4, 172, 112, 167, 2, 336, 385, 39, 4, 172, 4536, 1111, 17, 546, 38, 13, 447, 4, 192, 50, 16, 6, 147, 2025, 19, 14, 22, 4, 1920, 4613, 469, 4, 22, 71, 87, 12, 16, 43, 530, 38, 76, 15, 13, 1247, 4, 22, 17, 515, 17, 12, 16, 626, 18, 19193, 5, 62, 386, 12, 8, 316, 8, 106, 5, 4, 2223, 5244, 16, 480, 66, 3785, 33, 4, 130, 12, 16, 38, 619, 5, 25, 124, 51, 36, 135, 48, 25, 1415, 33, 6, 22, 12, 215, 28, 77, 52, 5, 14, 407, 16, 82, 10311, 8, 4, 107, 117, 5952, 15, 256, 4, 2, 7, 3766, 5, 723, 36, 71, 43, 530, 476, 26, 400, 317, 46, 7, 4, 12118, 1029, 13, 104, 88, 4, 381, 15, 297, 98, 32, 2071, 56, 26, 141, 6, 194, 7486, 18, 4, 226, 22, 21, 134, 476, 26, 480, 5, 144, 30, 5535, 18, 51, 36, 28, 224, 92, 25, 104, 4, 226, 65, 16, 38, 1334, 88, 12, 16, 283, 5, 16, 4472, 113, 103, 32, 15, 16, 5345, 19, 178, 32]\n"
     ]
    }
   ],
   "source": [
    "# 훈련셋의 데이터가 어떻게 구성되는지 확인\n",
    "print(x_train[0])"
   ]
  },
  {
   "cell_type": "markdown",
   "metadata": {},
   "source": [
    "* x_train은 이미 사전에 처리된 데이터를 저장하고 있다.\n",
    "* 각 단어는 빈도수로 표현된다. (ex. 가장 빈도수가 높은 \"the\"에 인덱스 1이 대응됨)\n",
    "* 예를 들어 \"To be or not to be\" 라는 문장\n",
    "    * \"to\" : 5\n",
    "    * \"be\" : 8\n",
    "    * \"or\" : 21\n",
    "    * \"not\" : 3\n",
    "* 위의 문장을 벡터로 인코딩하면 \\[5, 8, 21, 3, 5, 8\\] 로 된다."
   ]
  },
  {
   "cell_type": "code",
   "execution_count": 4,
   "metadata": {},
   "outputs": [],
   "source": [
    "# 훈련셋 25,000개를 훈련셋 20,000개와 검증셋 5,000개로 분리한다.\n",
    "x_val = x_train[20000:]\n",
    "y_val = y_train[20000:]\n",
    "x_train = x_train[:20000]\n",
    "y_train = y_train[:20000]"
   ]
  },
  {
   "cell_type": "code",
   "execution_count": 5,
   "metadata": {},
   "outputs": [
    {
     "name": "stdout",
     "output_type": "stream",
     "text": [
      "218\n",
      "189\n"
     ]
    }
   ],
   "source": [
    "print(len(x_train[0]))\n",
    "print(len(x_train[1]))"
   ]
  },
  {
   "cell_type": "markdown",
   "metadata": {},
   "source": [
    "모델의 입력으로 사용하려면 데이터를 고정된 길이로 만들어야 하므로 케라스에서 제공되는 전처리 함수인 **sequence의 pad_sequences() 함수를** 사용한다."
   ]
  },
  {
   "cell_type": "code",
   "execution_count": 6,
   "metadata": {},
   "outputs": [],
   "source": [
    "x_train = sequence.pad_sequences(x_train, maxlen=200)\n",
    "x_val = sequence.pad_sequences(x_val, maxlen=200)\n",
    "x_test = sequence.pad_sequences(x_test, maxlen=200)"
   ]
  },
  {
   "cell_type": "markdown",
   "metadata": {},
   "source": [
    "* **pad_sequences() 함수 역할**\n",
    "    * 문장의 길이를 maxlen 인자로 맞춰준다.\n",
    "    * (num_samples, num_timesteps) 으로 2차원의 numpy 배열로 만들어준다.\n",
    "        * maxlen을 200으로 지정하면 num_timesteps도 200이 된다."
   ]
  },
  {
   "cell_type": "code",
   "execution_count": 7,
   "metadata": {},
   "outputs": [
    {
     "name": "stdout",
     "output_type": "stream",
     "text": [
      "200\n",
      "200\n"
     ]
    }
   ],
   "source": [
    "print(len(x_train[0]))\n",
    "print(len(x_train[1]))"
   ]
  },
  {
   "cell_type": "markdown",
   "metadata": {},
   "source": [
    "<br>\n",
    "\n",
    "---\n",
    "\n",
    "<br>\n",
    "\n",
    "# 모델 준비\n",
    "## 다층퍼셉트론 모델\n",
    "\n",
    "<img src=\"http://tykimos.github.io/warehouse/2017-8-17-Text_Input_Binary_Classification_Model_Recipe_1m.png\">\n",
    "\n",
    "* 임베딩 레이어로 인코딩한 후 Dense 레이어를 통해 분류하는 다층퍼셉트론 신경망 모델"
   ]
  },
  {
   "cell_type": "code",
   "execution_count": 8,
   "metadata": {},
   "outputs": [],
   "source": [
    "# 모델 구성하기\n",
    "model = Sequential()\n",
    "model.add(Embedding(20000, 128, input_length=200))\n",
    "model.add(Flatten())\n",
    "model.add(Dense(256, activation='relu'))\n",
    "model.add(Dense(1, activation='sigmoid'))"
   ]
  },
  {
   "cell_type": "markdown",
   "metadata": {},
   "source": [
    "* **임베딩 레이어의 인자**\n",
    "    * 첫 번째 인자(input_dim): 단어의 종류의 크기를 의미한다. 예시에서는 총 20,000개의 단어 종류가 있다는 것을 의미\n",
    "    * 두 번째 인자(output_dim): 단어를 인코딩한 후 나오는 벡터 크기이다. 이 값이 128이라면 한 단어의 의미를 128의 공간으로 나타내는 것이다.\n",
    "    * input_length: 단어의 수, 즉 문자의 길이를 나타낸다."
   ]
  },
  {
   "cell_type": "code",
   "execution_count": 9,
   "metadata": {},
   "outputs": [],
   "source": [
    "# 딥러닝 모델 가시화\n",
    "def visualize(model):\n",
    "    return SVG(model_to_dot(model, show_shapes=True, dpi=65)\n",
    "               .create(prog='dot', format='svg'))"
   ]
  },
  {
   "cell_type": "code",
   "execution_count": 10,
   "metadata": {},
   "outputs": [
    {
     "data": {
      "image/svg+xml": [
       "<svg height=\"349pt\" viewBox=\"0.00 0.00 339.00 387.00\" width=\"306pt\" xmlns=\"http://www.w3.org/2000/svg\" xmlns:xlink=\"http://www.w3.org/1999/xlink\">\n",
       "<g class=\"graph\" id=\"graph0\" transform=\"scale(0.9 0.9) rotate(0) translate(4 383)\">\n",
       "<title>G</title>\n",
       "<polygon fill=\"white\" points=\"-4,4 -4,-383 335,-383 335,4 -4,4\" stroke=\"transparent\"/>\n",
       "<!-- 5450071312 -->\n",
       "<g class=\"node\" id=\"node1\">\n",
       "<title>5450071312</title>\n",
       "<polygon fill=\"none\" points=\"0,-332.5 0,-378.5 331,-378.5 331,-332.5 0,-332.5\" stroke=\"black\"/>\n",
       "<text font-family=\"Times,serif\" font-size=\"14.00\" text-anchor=\"middle\" x=\"96.5\" y=\"-351.8\">embedding_1_input: InputLayer</text>\n",
       "<polyline fill=\"none\" points=\"193,-332.5 193,-378.5 \" stroke=\"black\"/>\n",
       "<text font-family=\"Times,serif\" font-size=\"14.00\" text-anchor=\"middle\" x=\"220.5\" y=\"-363.3\">input:</text>\n",
       "<polyline fill=\"none\" points=\"193,-355.5 248,-355.5 \" stroke=\"black\"/>\n",
       "<text font-family=\"Times,serif\" font-size=\"14.00\" text-anchor=\"middle\" x=\"220.5\" y=\"-340.3\">output:</text>\n",
       "<polyline fill=\"none\" points=\"248,-332.5 248,-378.5 \" stroke=\"black\"/>\n",
       "<text font-family=\"Times,serif\" font-size=\"14.00\" text-anchor=\"middle\" x=\"289.5\" y=\"-363.3\">(None, 200)</text>\n",
       "<polyline fill=\"none\" points=\"248,-355.5 331,-355.5 \" stroke=\"black\"/>\n",
       "<text font-family=\"Times,serif\" font-size=\"14.00\" text-anchor=\"middle\" x=\"289.5\" y=\"-340.3\">(None, 200)</text>\n",
       "</g>\n",
       "<!-- 5613396944 -->\n",
       "<g class=\"node\" id=\"node2\">\n",
       "<title>5613396944</title>\n",
       "<polygon fill=\"none\" points=\"2.5,-249.5 2.5,-295.5 328.5,-295.5 328.5,-249.5 2.5,-249.5\" stroke=\"black\"/>\n",
       "<text font-family=\"Times,serif\" font-size=\"14.00\" text-anchor=\"middle\" x=\"83\" y=\"-268.8\">embedding_1: Embedding</text>\n",
       "<polyline fill=\"none\" points=\"163.5,-249.5 163.5,-295.5 \" stroke=\"black\"/>\n",
       "<text font-family=\"Times,serif\" font-size=\"14.00\" text-anchor=\"middle\" x=\"191\" y=\"-280.3\">input:</text>\n",
       "<polyline fill=\"none\" points=\"163.5,-272.5 218.5,-272.5 \" stroke=\"black\"/>\n",
       "<text font-family=\"Times,serif\" font-size=\"14.00\" text-anchor=\"middle\" x=\"191\" y=\"-257.3\">output:</text>\n",
       "<polyline fill=\"none\" points=\"218.5,-249.5 218.5,-295.5 \" stroke=\"black\"/>\n",
       "<text font-family=\"Times,serif\" font-size=\"14.00\" text-anchor=\"middle\" x=\"273.5\" y=\"-280.3\">(None, 200)</text>\n",
       "<polyline fill=\"none\" points=\"218.5,-272.5 328.5,-272.5 \" stroke=\"black\"/>\n",
       "<text font-family=\"Times,serif\" font-size=\"14.00\" text-anchor=\"middle\" x=\"273.5\" y=\"-257.3\">(None, 200, 128)</text>\n",
       "</g>\n",
       "<!-- 5450071312&#45;&gt;5613396944 -->\n",
       "<g class=\"edge\" id=\"edge1\">\n",
       "<title>5450071312-&gt;5613396944</title>\n",
       "<path d=\"M165.5,-332.37C165.5,-324.15 165.5,-314.66 165.5,-305.73\" fill=\"none\" stroke=\"black\"/>\n",
       "<polygon fill=\"black\" points=\"169,-305.61 165.5,-295.61 162,-305.61 169,-305.61\" stroke=\"black\"/>\n",
       "</g>\n",
       "<!-- 5458591312 -->\n",
       "<g class=\"node\" id=\"node3\">\n",
       "<title>5458591312</title>\n",
       "<polygon fill=\"none\" points=\"28.5,-166.5 28.5,-212.5 302.5,-212.5 302.5,-166.5 28.5,-166.5\" stroke=\"black\"/>\n",
       "<text font-family=\"Times,serif\" font-size=\"14.00\" text-anchor=\"middle\" x=\"83\" y=\"-185.8\">flatten_1: Flatten</text>\n",
       "<polyline fill=\"none\" points=\"137.5,-166.5 137.5,-212.5 \" stroke=\"black\"/>\n",
       "<text font-family=\"Times,serif\" font-size=\"14.00\" text-anchor=\"middle\" x=\"165\" y=\"-197.3\">input:</text>\n",
       "<polyline fill=\"none\" points=\"137.5,-189.5 192.5,-189.5 \" stroke=\"black\"/>\n",
       "<text font-family=\"Times,serif\" font-size=\"14.00\" text-anchor=\"middle\" x=\"165\" y=\"-174.3\">output:</text>\n",
       "<polyline fill=\"none\" points=\"192.5,-166.5 192.5,-212.5 \" stroke=\"black\"/>\n",
       "<text font-family=\"Times,serif\" font-size=\"14.00\" text-anchor=\"middle\" x=\"247.5\" y=\"-197.3\">(None, 200, 128)</text>\n",
       "<polyline fill=\"none\" points=\"192.5,-189.5 302.5,-189.5 \" stroke=\"black\"/>\n",
       "<text font-family=\"Times,serif\" font-size=\"14.00\" text-anchor=\"middle\" x=\"247.5\" y=\"-174.3\">(None, 25600)</text>\n",
       "</g>\n",
       "<!-- 5613396944&#45;&gt;5458591312 -->\n",
       "<g class=\"edge\" id=\"edge2\">\n",
       "<title>5613396944-&gt;5458591312</title>\n",
       "<path d=\"M165.5,-249.37C165.5,-241.15 165.5,-231.66 165.5,-222.73\" fill=\"none\" stroke=\"black\"/>\n",
       "<polygon fill=\"black\" points=\"169,-222.61 165.5,-212.61 162,-222.61 169,-222.61\" stroke=\"black\"/>\n",
       "</g>\n",
       "<!-- 5613396048 -->\n",
       "<g class=\"node\" id=\"node4\">\n",
       "<title>5613396048</title>\n",
       "<polygon fill=\"none\" points=\"39,-83.5 39,-129.5 292,-129.5 292,-83.5 39,-83.5\" stroke=\"black\"/>\n",
       "<text font-family=\"Times,serif\" font-size=\"14.00\" text-anchor=\"middle\" x=\"90\" y=\"-102.8\">dense_1: Dense</text>\n",
       "<polyline fill=\"none\" points=\"141,-83.5 141,-129.5 \" stroke=\"black\"/>\n",
       "<text font-family=\"Times,serif\" font-size=\"14.00\" text-anchor=\"middle\" x=\"168.5\" y=\"-114.3\">input:</text>\n",
       "<polyline fill=\"none\" points=\"141,-106.5 196,-106.5 \" stroke=\"black\"/>\n",
       "<text font-family=\"Times,serif\" font-size=\"14.00\" text-anchor=\"middle\" x=\"168.5\" y=\"-91.3\">output:</text>\n",
       "<polyline fill=\"none\" points=\"196,-83.5 196,-129.5 \" stroke=\"black\"/>\n",
       "<text font-family=\"Times,serif\" font-size=\"14.00\" text-anchor=\"middle\" x=\"244\" y=\"-114.3\">(None, 25600)</text>\n",
       "<polyline fill=\"none\" points=\"196,-106.5 292,-106.5 \" stroke=\"black\"/>\n",
       "<text font-family=\"Times,serif\" font-size=\"14.00\" text-anchor=\"middle\" x=\"244\" y=\"-91.3\">(None, 256)</text>\n",
       "</g>\n",
       "<!-- 5458591312&#45;&gt;5613396048 -->\n",
       "<g class=\"edge\" id=\"edge3\">\n",
       "<title>5458591312-&gt;5613396048</title>\n",
       "<path d=\"M165.5,-166.37C165.5,-158.15 165.5,-148.66 165.5,-139.73\" fill=\"none\" stroke=\"black\"/>\n",
       "<polygon fill=\"black\" points=\"169,-139.61 165.5,-129.61 162,-139.61 169,-139.61\" stroke=\"black\"/>\n",
       "</g>\n",
       "<!-- 5613398544 -->\n",
       "<g class=\"node\" id=\"node5\">\n",
       "<title>5613398544</title>\n",
       "<polygon fill=\"none\" points=\"45.5,-0.5 45.5,-46.5 285.5,-46.5 285.5,-0.5 45.5,-0.5\" stroke=\"black\"/>\n",
       "<text font-family=\"Times,serif\" font-size=\"14.00\" text-anchor=\"middle\" x=\"96.5\" y=\"-19.8\">dense_2: Dense</text>\n",
       "<polyline fill=\"none\" points=\"147.5,-0.5 147.5,-46.5 \" stroke=\"black\"/>\n",
       "<text font-family=\"Times,serif\" font-size=\"14.00\" text-anchor=\"middle\" x=\"175\" y=\"-31.3\">input:</text>\n",
       "<polyline fill=\"none\" points=\"147.5,-23.5 202.5,-23.5 \" stroke=\"black\"/>\n",
       "<text font-family=\"Times,serif\" font-size=\"14.00\" text-anchor=\"middle\" x=\"175\" y=\"-8.3\">output:</text>\n",
       "<polyline fill=\"none\" points=\"202.5,-0.5 202.5,-46.5 \" stroke=\"black\"/>\n",
       "<text font-family=\"Times,serif\" font-size=\"14.00\" text-anchor=\"middle\" x=\"244\" y=\"-31.3\">(None, 256)</text>\n",
       "<polyline fill=\"none\" points=\"202.5,-23.5 285.5,-23.5 \" stroke=\"black\"/>\n",
       "<text font-family=\"Times,serif\" font-size=\"14.00\" text-anchor=\"middle\" x=\"244\" y=\"-8.3\">(None, 1)</text>\n",
       "</g>\n",
       "<!-- 5613396048&#45;&gt;5613398544 -->\n",
       "<g class=\"edge\" id=\"edge4\">\n",
       "<title>5613396048-&gt;5613398544</title>\n",
       "<path d=\"M165.5,-83.37C165.5,-75.15 165.5,-65.66 165.5,-56.73\" fill=\"none\" stroke=\"black\"/>\n",
       "<polygon fill=\"black\" points=\"169,-56.61 165.5,-46.61 162,-56.61 169,-56.61\" stroke=\"black\"/>\n",
       "</g>\n",
       "</g>\n",
       "</svg>"
      ],
      "text/plain": [
       "<IPython.core.display.SVG object>"
      ]
     },
     "execution_count": 10,
     "metadata": {},
     "output_type": "execute_result"
    }
   ],
   "source": [
    "visualize(model)"
   ]
  },
  {
   "cell_type": "code",
   "execution_count": 11,
   "metadata": {},
   "outputs": [],
   "source": [
    "def learning(model):\n",
    "    # 모델 학습과정 설정하기\n",
    "    model.compile(loss='binary_crossentropy', optimizer='adam', metrics=['accuracy'])\n",
    "    \n",
    "    # 모델 학습시키기\n",
    "    hist = model.fit(x_train, y_train, epochs=2, batch_size=64, \n",
    "                     validation_data=(x_val, y_val))\n",
    "    return hist\n",
    "\n",
    "def review(model, hist):\n",
    "    # 학습과정 살펴보기\n",
    "    fig, loss_ax = plt.subplots()\n",
    "\n",
    "    acc_ax = loss_ax.twinx()\n",
    "\n",
    "    loss_ax.plot(hist.history['loss'], 'y', label='train loss')\n",
    "    loss_ax.plot(hist.history['val_loss'], 'r', label='val loss')\n",
    "    loss_ax.set_ylim([-0.2, 1.2])\n",
    "\n",
    "    acc_ax.plot(hist.history['accuracy'], 'b', label='train acc')\n",
    "    acc_ax.plot(hist.history['val_accuracy'], 'g', label='val acc')\n",
    "    acc_ax.set_ylim([-0.2, 1.2])\n",
    "\n",
    "    loss_ax.set_xlabel('epoch')\n",
    "    loss_ax.set_ylabel('loss')\n",
    "    acc_ax.set_ylabel('accuracy')\n",
    "\n",
    "    loss_ax.legend(loc='upper left')\n",
    "    acc_ax.legend(loc='lower left')\n",
    "\n",
    "    plt.show()\n",
    "\n",
    "    # 모델 평가하기\n",
    "    loss_and_metrics = model.evaluate(x_test, y_test, batch_size=64)\n",
    "    print('## evaluation loss and metrics ##')\n",
    "    print(loss_and_metrics)"
   ]
  },
  {
   "cell_type": "code",
   "execution_count": 12,
   "metadata": {},
   "outputs": [
    {
     "name": "stderr",
     "output_type": "stream",
     "text": [
      "/Users/sangminlee/keras-tutorial/venv/lib/python3.7/site-packages/tensorflow/python/framework/indexed_slices.py:434: UserWarning: Converting sparse IndexedSlices to a dense Tensor of unknown shape. This may consume a large amount of memory.\n",
      "  \"Converting sparse IndexedSlices to a dense Tensor of unknown shape. \"\n"
     ]
    },
    {
     "name": "stdout",
     "output_type": "stream",
     "text": [
      "Train on 20000 samples, validate on 5000 samples\n",
      "Epoch 1/2\n",
      "20000/20000 [==============================] - 35s 2ms/step - loss: 0.4231 - accuracy: 0.7864 - val_loss: 0.2948 - val_accuracy: 0.8784\n",
      "Epoch 2/2\n",
      "20000/20000 [==============================] - 36s 2ms/step - loss: 0.0556 - accuracy: 0.9829 - val_loss: 0.4505 - val_accuracy: 0.8528\n"
     ]
    }
   ],
   "source": [
    "hist = learning(model)"
   ]
  },
  {
   "cell_type": "code",
   "execution_count": 13,
   "metadata": {},
   "outputs": [
    {
     "data": {
      "image/png": "[encoded data removed]",
      "text/plain": [
       "<Figure size 432x288 with 2 Axes>"
      ]
     },
     "metadata": {
      "needs_background": "light"
     },
     "output_type": "display_data"
    },
    {
     "name": "stdout",
     "output_type": "stream",
     "text": [
      "25000/25000 [==============================] - 2s 94us/step\n",
      "## evaluation loss and metrics ##\n",
      "[0.45301344883918765, 0.8468400239944458]\n"
     ]
    }
   ],
   "source": [
    "review(model, hist)"
   ]
  },
  {
   "cell_type": "markdown",
   "metadata": {},
   "source": [
    "<br>\n",
    "\n",
    "---\n",
    "\n",
    "<br>\n",
    "\n",
    "# 모델 준비\n",
    "## 순환 신경망 모델\n",
    "\n",
    "<img src=\"http://tykimos.github.io/warehouse/2017-8-17-Text_Input_Binary_Classification_Model_Recipe_2m.png\">\n",
    "\n",
    "* 문장을 단어들의 시퀀스로 간주하고 순환(LSTM) 레이어의 입력으로 구성한 모델이다."
   ]
  },
  {
   "cell_type": "code",
   "execution_count": 14,
   "metadata": {},
   "outputs": [],
   "source": [
    "cycleModel = Sequential()\n",
    "cycleModel.add(Embedding(20000, 128))\n",
    "cycleModel.add(LSTM(128))\n",
    "cycleModel.add(Dense(1, activation='sigmoid'))"
   ]
  },
  {
   "cell_type": "code",
   "execution_count": 15,
   "metadata": {},
   "outputs": [
    {
     "data": {
      "image/svg+xml": [
       "<svg height=\"274pt\" viewBox=\"0.00 0.00 348.00 304.00\" width=\"314pt\" xmlns=\"http://www.w3.org/2000/svg\" xmlns:xlink=\"http://www.w3.org/1999/xlink\">\n",
       "<g class=\"graph\" id=\"graph0\" transform=\"scale(0.9 0.9) rotate(0) translate(4 300)\">\n",
       "<title>G</title>\n",
       "<polygon fill=\"white\" points=\"-4,4 -4,-300 344,-300 344,4 -4,4\" stroke=\"transparent\"/>\n",
       "<!-- 5607294288 -->\n",
       "<g class=\"node\" id=\"node1\">\n",
       "<title>5607294288</title>\n",
       "<polygon fill=\"none\" points=\"0,-249.5 0,-295.5 340,-295.5 340,-249.5 0,-249.5\" stroke=\"black\"/>\n",
       "<text font-family=\"Times,serif\" font-size=\"14.00\" text-anchor=\"middle\" x=\"96.5\" y=\"-268.8\">embedding_2_input: InputLayer</text>\n",
       "<polyline fill=\"none\" points=\"193,-249.5 193,-295.5 \" stroke=\"black\"/>\n",
       "<text font-family=\"Times,serif\" font-size=\"14.00\" text-anchor=\"middle\" x=\"220.5\" y=\"-280.3\">input:</text>\n",
       "<polyline fill=\"none\" points=\"193,-272.5 248,-272.5 \" stroke=\"black\"/>\n",
       "<text font-family=\"Times,serif\" font-size=\"14.00\" text-anchor=\"middle\" x=\"220.5\" y=\"-257.3\">output:</text>\n",
       "<polyline fill=\"none\" points=\"248,-249.5 248,-295.5 \" stroke=\"black\"/>\n",
       "<text font-family=\"Times,serif\" font-size=\"14.00\" text-anchor=\"middle\" x=\"294\" y=\"-280.3\">(None, None)</text>\n",
       "<polyline fill=\"none\" points=\"248,-272.5 340,-272.5 \" stroke=\"black\"/>\n",
       "<text font-family=\"Times,serif\" font-size=\"14.00\" text-anchor=\"middle\" x=\"294\" y=\"-257.3\">(None, None)</text>\n",
       "</g>\n",
       "<!-- 5607309456 -->\n",
       "<g class=\"node\" id=\"node2\">\n",
       "<title>5607309456</title>\n",
       "<polygon fill=\"none\" points=\"2.5,-166.5 2.5,-212.5 337.5,-212.5 337.5,-166.5 2.5,-166.5\" stroke=\"black\"/>\n",
       "<text font-family=\"Times,serif\" font-size=\"14.00\" text-anchor=\"middle\" x=\"83\" y=\"-185.8\">embedding_2: Embedding</text>\n",
       "<polyline fill=\"none\" points=\"163.5,-166.5 163.5,-212.5 \" stroke=\"black\"/>\n",
       "<text font-family=\"Times,serif\" font-size=\"14.00\" text-anchor=\"middle\" x=\"191\" y=\"-197.3\">input:</text>\n",
       "<polyline fill=\"none\" points=\"163.5,-189.5 218.5,-189.5 \" stroke=\"black\"/>\n",
       "<text font-family=\"Times,serif\" font-size=\"14.00\" text-anchor=\"middle\" x=\"191\" y=\"-174.3\">output:</text>\n",
       "<polyline fill=\"none\" points=\"218.5,-166.5 218.5,-212.5 \" stroke=\"black\"/>\n",
       "<text font-family=\"Times,serif\" font-size=\"14.00\" text-anchor=\"middle\" x=\"278\" y=\"-197.3\">(None, None)</text>\n",
       "<polyline fill=\"none\" points=\"218.5,-189.5 337.5,-189.5 \" stroke=\"black\"/>\n",
       "<text font-family=\"Times,serif\" font-size=\"14.00\" text-anchor=\"middle\" x=\"278\" y=\"-174.3\">(None, None, 128)</text>\n",
       "</g>\n",
       "<!-- 5607294288&#45;&gt;5607309456 -->\n",
       "<g class=\"edge\" id=\"edge1\">\n",
       "<title>5607294288-&gt;5607309456</title>\n",
       "<path d=\"M170,-249.37C170,-241.15 170,-231.66 170,-222.73\" fill=\"none\" stroke=\"black\"/>\n",
       "<polygon fill=\"black\" points=\"173.5,-222.61 170,-212.61 166.5,-222.61 173.5,-222.61\" stroke=\"black\"/>\n",
       "</g>\n",
       "<!-- 5607293840 -->\n",
       "<g class=\"node\" id=\"node3\">\n",
       "<title>5607293840</title>\n",
       "<polygon fill=\"none\" points=\"34,-83.5 34,-129.5 306,-129.5 306,-83.5 34,-83.5\" stroke=\"black\"/>\n",
       "<text font-family=\"Times,serif\" font-size=\"14.00\" text-anchor=\"middle\" x=\"83\" y=\"-102.8\">lstm_1: LSTM</text>\n",
       "<polyline fill=\"none\" points=\"132,-83.5 132,-129.5 \" stroke=\"black\"/>\n",
       "<text font-family=\"Times,serif\" font-size=\"14.00\" text-anchor=\"middle\" x=\"159.5\" y=\"-114.3\">input:</text>\n",
       "<polyline fill=\"none\" points=\"132,-106.5 187,-106.5 \" stroke=\"black\"/>\n",
       "<text font-family=\"Times,serif\" font-size=\"14.00\" text-anchor=\"middle\" x=\"159.5\" y=\"-91.3\">output:</text>\n",
       "<polyline fill=\"none\" points=\"187,-83.5 187,-129.5 \" stroke=\"black\"/>\n",
       "<text font-family=\"Times,serif\" font-size=\"14.00\" text-anchor=\"middle\" x=\"246.5\" y=\"-114.3\">(None, None, 128)</text>\n",
       "<polyline fill=\"none\" points=\"187,-106.5 306,-106.5 \" stroke=\"black\"/>\n",
       "<text font-family=\"Times,serif\" font-size=\"14.00\" text-anchor=\"middle\" x=\"246.5\" y=\"-91.3\">(None, 128)</text>\n",
       "</g>\n",
       "<!-- 5607309456&#45;&gt;5607293840 -->\n",
       "<g class=\"edge\" id=\"edge2\">\n",
       "<title>5607309456-&gt;5607293840</title>\n",
       "<path d=\"M170,-166.37C170,-158.15 170,-148.66 170,-139.73\" fill=\"none\" stroke=\"black\"/>\n",
       "<polygon fill=\"black\" points=\"173.5,-139.61 170,-129.61 166.5,-139.61 173.5,-139.61\" stroke=\"black\"/>\n",
       "</g>\n",
       "<!-- 5534613392 -->\n",
       "<g class=\"node\" id=\"node4\">\n",
       "<title>5534613392</title>\n",
       "<polygon fill=\"none\" points=\"50,-0.5 50,-46.5 290,-46.5 290,-0.5 50,-0.5\" stroke=\"black\"/>\n",
       "<text font-family=\"Times,serif\" font-size=\"14.00\" text-anchor=\"middle\" x=\"101\" y=\"-19.8\">dense_3: Dense</text>\n",
       "<polyline fill=\"none\" points=\"152,-0.5 152,-46.5 \" stroke=\"black\"/>\n",
       "<text font-family=\"Times,serif\" font-size=\"14.00\" text-anchor=\"middle\" x=\"179.5\" y=\"-31.3\">input:</text>\n",
       "<polyline fill=\"none\" points=\"152,-23.5 207,-23.5 \" stroke=\"black\"/>\n",
       "<text font-family=\"Times,serif\" font-size=\"14.00\" text-anchor=\"middle\" x=\"179.5\" y=\"-8.3\">output:</text>\n",
       "<polyline fill=\"none\" points=\"207,-0.5 207,-46.5 \" stroke=\"black\"/>\n",
       "<text font-family=\"Times,serif\" font-size=\"14.00\" text-anchor=\"middle\" x=\"248.5\" y=\"-31.3\">(None, 128)</text>\n",
       "<polyline fill=\"none\" points=\"207,-23.5 290,-23.5 \" stroke=\"black\"/>\n",
       "<text font-family=\"Times,serif\" font-size=\"14.00\" text-anchor=\"middle\" x=\"248.5\" y=\"-8.3\">(None, 1)</text>\n",
       "</g>\n",
       "<!-- 5607293840&#45;&gt;5534613392 -->\n",
       "<g class=\"edge\" id=\"edge3\">\n",
       "<title>5607293840-&gt;5534613392</title>\n",
       "<path d=\"M170,-83.37C170,-75.15 170,-65.66 170,-56.73\" fill=\"none\" stroke=\"black\"/>\n",
       "<polygon fill=\"black\" points=\"173.5,-56.61 170,-46.61 166.5,-56.61 173.5,-56.61\" stroke=\"black\"/>\n",
       "</g>\n",
       "</g>\n",
       "</svg>"
      ],
      "text/plain": [
       "<IPython.core.display.SVG object>"
      ]
     },
     "execution_count": 15,
     "metadata": {},
     "output_type": "execute_result"
    }
   ],
   "source": [
    "visualize(cycleModel)"
   ]
  },
  {
   "cell_type": "code",
   "execution_count": 16,
   "metadata": {},
   "outputs": [
    {
     "name": "stderr",
     "output_type": "stream",
     "text": [
      "/Users/sangminlee/keras-tutorial/venv/lib/python3.7/site-packages/tensorflow/python/framework/indexed_slices.py:434: UserWarning: Converting sparse IndexedSlices to a dense Tensor of unknown shape. This may consume a large amount of memory.\n",
      "  \"Converting sparse IndexedSlices to a dense Tensor of unknown shape. \"\n"
     ]
    },
    {
     "name": "stdout",
     "output_type": "stream",
     "text": [
      "Train on 20000 samples, validate on 5000 samples\n",
      "Epoch 1/2\n",
      "20000/20000 [==============================] - 75s 4ms/step - loss: 0.4533 - accuracy: 0.7815 - val_loss: 0.3266 - val_accuracy: 0.8626\n",
      "Epoch 2/2\n",
      "20000/20000 [==============================] - 77s 4ms/step - loss: 0.2311 - accuracy: 0.9122 - val_loss: 0.3223 - val_accuracy: 0.8634\n"
     ]
    }
   ],
   "source": [
    "cycleHist = learning(cycleModel)"
   ]
  },
  {
   "cell_type": "code",
   "execution_count": 17,
   "metadata": {},
   "outputs": [
    {
     "data": {
      "image/png": "[encoded data removed]",
      "text/plain": [
       "<Figure size 432x288 with 2 Axes>"
      ]
     },
     "metadata": {
      "needs_background": "light"
     },
     "output_type": "display_data"
    },
    {
     "name": "stdout",
     "output_type": "stream",
     "text": [
      "25000/25000 [==============================] - 28s 1ms/step\n",
      "## evaluation loss and metrics ##\n",
      "[0.3295766195678711, 0.8622400164604187]\n"
     ]
    }
   ],
   "source": [
    "review(cycleModel, cycleHist)"
   ]
  },
  {
   "cell_type": "markdown",
   "metadata": {},
   "source": [
    "<br>\n",
    "\n",
    "---\n",
    "\n",
    "<br>\n",
    "\n",
    "# 모델 준비\n",
    "## 컨볼루션 신경망 모델\n",
    "\n",
    "<img src=\"http://tykimos.github.io/warehouse/2017-8-17-Text_Input_Binary_Classification_Model_Recipe_3m.png\">\n",
    "\n",
    "* 문장 해석에 컨볼루션(Conv1D) 레이어를 이용한 모델이다.\n",
    "* 글로벌 맥스풀링(GlobalMaxPooling1D) 레이어는 컨볼루션 레이어가 문장을 훑어가면서 나온 특징벡터들 중 가장 큰 벡터를 골라준다.\n",
    "* 즉, 문맥을 보면서 주요 특징을 뽑아내고, 그 중 가장 두드러지는 특징을 고르는 것이다."
   ]
  },
  {
   "cell_type": "code",
   "execution_count": 18,
   "metadata": {},
   "outputs": [],
   "source": [
    "convModel = Sequential()\n",
    "convModel.add(Embedding(20000, 128, input_length=200))\n",
    "convModel.add(Dropout(0.2))\n",
    "convModel.add(Conv1D(256, 3, padding='valid', activation='relu', strides=1))\n",
    "convModel.add(GlobalMaxPooling1D())\n",
    "convModel.add(Dense(128, activation='relu'))\n",
    "convModel.add(Dropout(0.2))\n",
    "convModel.add(Dense(1, activation='sigmoid'))"
   ]
  },
  {
   "cell_type": "code",
   "execution_count": 19,
   "metadata": {},
   "outputs": [
    {
     "data": {
      "image/svg+xml": [
       "<svg height=\"574pt\" viewBox=\"0.00 0.00 457.00 636.00\" width=\"413pt\" xmlns=\"http://www.w3.org/2000/svg\" xmlns:xlink=\"http://www.w3.org/1999/xlink\">\n",
       "<g class=\"graph\" id=\"graph0\" transform=\"scale(0.9 0.9) rotate(0) translate(4 632)\">\n",
       "<title>G</title>\n",
       "<polygon fill=\"white\" points=\"-4,4 -4,-632 453,-632 453,4 -4,4\" stroke=\"transparent\"/>\n",
       "<!-- 5485512016 -->\n",
       "<g class=\"node\" id=\"node1\">\n",
       "<title>5485512016</title>\n",
       "<polygon fill=\"none\" points=\"59,-581.5 59,-627.5 390,-627.5 390,-581.5 59,-581.5\" stroke=\"black\"/>\n",
       "<text font-family=\"Times,serif\" font-size=\"14.00\" text-anchor=\"middle\" x=\"155.5\" y=\"-600.8\">embedding_3_input: InputLayer</text>\n",
       "<polyline fill=\"none\" points=\"252,-581.5 252,-627.5 \" stroke=\"black\"/>\n",
       "<text font-family=\"Times,serif\" font-size=\"14.00\" text-anchor=\"middle\" x=\"279.5\" y=\"-612.3\">input:</text>\n",
       "<polyline fill=\"none\" points=\"252,-604.5 307,-604.5 \" stroke=\"black\"/>\n",
       "<text font-family=\"Times,serif\" font-size=\"14.00\" text-anchor=\"middle\" x=\"279.5\" y=\"-589.3\">output:</text>\n",
       "<polyline fill=\"none\" points=\"307,-581.5 307,-627.5 \" stroke=\"black\"/>\n",
       "<text font-family=\"Times,serif\" font-size=\"14.00\" text-anchor=\"middle\" x=\"348.5\" y=\"-612.3\">(None, 200)</text>\n",
       "<polyline fill=\"none\" points=\"307,-604.5 390,-604.5 \" stroke=\"black\"/>\n",
       "<text font-family=\"Times,serif\" font-size=\"14.00\" text-anchor=\"middle\" x=\"348.5\" y=\"-589.3\">(None, 200)</text>\n",
       "</g>\n",
       "<!-- 5507396624 -->\n",
       "<g class=\"node\" id=\"node2\">\n",
       "<title>5507396624</title>\n",
       "<polygon fill=\"none\" points=\"61.5,-498.5 61.5,-544.5 387.5,-544.5 387.5,-498.5 61.5,-498.5\" stroke=\"black\"/>\n",
       "<text font-family=\"Times,serif\" font-size=\"14.00\" text-anchor=\"middle\" x=\"142\" y=\"-517.8\">embedding_3: Embedding</text>\n",
       "<polyline fill=\"none\" points=\"222.5,-498.5 222.5,-544.5 \" stroke=\"black\"/>\n",
       "<text font-family=\"Times,serif\" font-size=\"14.00\" text-anchor=\"middle\" x=\"250\" y=\"-529.3\">input:</text>\n",
       "<polyline fill=\"none\" points=\"222.5,-521.5 277.5,-521.5 \" stroke=\"black\"/>\n",
       "<text font-family=\"Times,serif\" font-size=\"14.00\" text-anchor=\"middle\" x=\"250\" y=\"-506.3\">output:</text>\n",
       "<polyline fill=\"none\" points=\"277.5,-498.5 277.5,-544.5 \" stroke=\"black\"/>\n",
       "<text font-family=\"Times,serif\" font-size=\"14.00\" text-anchor=\"middle\" x=\"332.5\" y=\"-529.3\">(None, 200)</text>\n",
       "<polyline fill=\"none\" points=\"277.5,-521.5 387.5,-521.5 \" stroke=\"black\"/>\n",
       "<text font-family=\"Times,serif\" font-size=\"14.00\" text-anchor=\"middle\" x=\"332.5\" y=\"-506.3\">(None, 200, 128)</text>\n",
       "</g>\n",
       "<!-- 5485512016&#45;&gt;5507396624 -->\n",
       "<g class=\"edge\" id=\"edge1\">\n",
       "<title>5485512016-&gt;5507396624</title>\n",
       "<path d=\"M224.5,-581.37C224.5,-573.15 224.5,-563.66 224.5,-554.73\" fill=\"none\" stroke=\"black\"/>\n",
       "<polygon fill=\"black\" points=\"228,-554.61 224.5,-544.61 221,-554.61 228,-554.61\" stroke=\"black\"/>\n",
       "</g>\n",
       "<!-- 5507398672 -->\n",
       "<g class=\"node\" id=\"node3\">\n",
       "<title>5507398672</title>\n",
       "<polygon fill=\"none\" points=\"79.5,-415.5 79.5,-461.5 369.5,-461.5 369.5,-415.5 79.5,-415.5\" stroke=\"black\"/>\n",
       "<text font-family=\"Times,serif\" font-size=\"14.00\" text-anchor=\"middle\" x=\"142\" y=\"-434.8\">dropout_1: Dropout</text>\n",
       "<polyline fill=\"none\" points=\"204.5,-415.5 204.5,-461.5 \" stroke=\"black\"/>\n",
       "<text font-family=\"Times,serif\" font-size=\"14.00\" text-anchor=\"middle\" x=\"232\" y=\"-446.3\">input:</text>\n",
       "<polyline fill=\"none\" points=\"204.5,-438.5 259.5,-438.5 \" stroke=\"black\"/>\n",
       "<text font-family=\"Times,serif\" font-size=\"14.00\" text-anchor=\"middle\" x=\"232\" y=\"-423.3\">output:</text>\n",
       "<polyline fill=\"none\" points=\"259.5,-415.5 259.5,-461.5 \" stroke=\"black\"/>\n",
       "<text font-family=\"Times,serif\" font-size=\"14.00\" text-anchor=\"middle\" x=\"314.5\" y=\"-446.3\">(None, 200, 128)</text>\n",
       "<polyline fill=\"none\" points=\"259.5,-438.5 369.5,-438.5 \" stroke=\"black\"/>\n",
       "<text font-family=\"Times,serif\" font-size=\"14.00\" text-anchor=\"middle\" x=\"314.5\" y=\"-423.3\">(None, 200, 128)</text>\n",
       "</g>\n",
       "<!-- 5507396624&#45;&gt;5507398672 -->\n",
       "<g class=\"edge\" id=\"edge2\">\n",
       "<title>5507396624-&gt;5507398672</title>\n",
       "<path d=\"M224.5,-498.37C224.5,-490.15 224.5,-480.66 224.5,-471.73\" fill=\"none\" stroke=\"black\"/>\n",
       "<polygon fill=\"black\" points=\"228,-471.61 224.5,-461.61 221,-471.61 228,-471.61\" stroke=\"black\"/>\n",
       "</g>\n",
       "<!-- 5507397648 -->\n",
       "<g class=\"node\" id=\"node4\">\n",
       "<title>5507397648</title>\n",
       "<polygon fill=\"none\" points=\"80.5,-332.5 80.5,-378.5 368.5,-378.5 368.5,-332.5 80.5,-332.5\" stroke=\"black\"/>\n",
       "<text font-family=\"Times,serif\" font-size=\"14.00\" text-anchor=\"middle\" x=\"142\" y=\"-351.8\">conv1d_1: Conv1D</text>\n",
       "<polyline fill=\"none\" points=\"203.5,-332.5 203.5,-378.5 \" stroke=\"black\"/>\n",
       "<text font-family=\"Times,serif\" font-size=\"14.00\" text-anchor=\"middle\" x=\"231\" y=\"-363.3\">input:</text>\n",
       "<polyline fill=\"none\" points=\"203.5,-355.5 258.5,-355.5 \" stroke=\"black\"/>\n",
       "<text font-family=\"Times,serif\" font-size=\"14.00\" text-anchor=\"middle\" x=\"231\" y=\"-340.3\">output:</text>\n",
       "<polyline fill=\"none\" points=\"258.5,-332.5 258.5,-378.5 \" stroke=\"black\"/>\n",
       "<text font-family=\"Times,serif\" font-size=\"14.00\" text-anchor=\"middle\" x=\"313.5\" y=\"-363.3\">(None, 200, 128)</text>\n",
       "<polyline fill=\"none\" points=\"258.5,-355.5 368.5,-355.5 \" stroke=\"black\"/>\n",
       "<text font-family=\"Times,serif\" font-size=\"14.00\" text-anchor=\"middle\" x=\"313.5\" y=\"-340.3\">(None, 198, 256)</text>\n",
       "</g>\n",
       "<!-- 5507398672&#45;&gt;5507397648 -->\n",
       "<g class=\"edge\" id=\"edge3\">\n",
       "<title>5507398672-&gt;5507397648</title>\n",
       "<path d=\"M224.5,-415.37C224.5,-407.15 224.5,-397.66 224.5,-388.73\" fill=\"none\" stroke=\"black\"/>\n",
       "<polygon fill=\"black\" points=\"228,-388.61 224.5,-378.61 221,-388.61 228,-388.61\" stroke=\"black\"/>\n",
       "</g>\n",
       "<!-- 5507396432 -->\n",
       "<g class=\"node\" id=\"node5\">\n",
       "<title>5507396432</title>\n",
       "<polygon fill=\"none\" points=\"0,-249.5 0,-295.5 449,-295.5 449,-249.5 0,-249.5\" stroke=\"black\"/>\n",
       "<text font-family=\"Times,serif\" font-size=\"14.00\" text-anchor=\"middle\" x=\"142\" y=\"-268.8\">global_max_pooling1d_1: GlobalMaxPooling1D</text>\n",
       "<polyline fill=\"none\" points=\"284,-249.5 284,-295.5 \" stroke=\"black\"/>\n",
       "<text font-family=\"Times,serif\" font-size=\"14.00\" text-anchor=\"middle\" x=\"311.5\" y=\"-280.3\">input:</text>\n",
       "<polyline fill=\"none\" points=\"284,-272.5 339,-272.5 \" stroke=\"black\"/>\n",
       "<text font-family=\"Times,serif\" font-size=\"14.00\" text-anchor=\"middle\" x=\"311.5\" y=\"-257.3\">output:</text>\n",
       "<polyline fill=\"none\" points=\"339,-249.5 339,-295.5 \" stroke=\"black\"/>\n",
       "<text font-family=\"Times,serif\" font-size=\"14.00\" text-anchor=\"middle\" x=\"394\" y=\"-280.3\">(None, 198, 256)</text>\n",
       "<polyline fill=\"none\" points=\"339,-272.5 449,-272.5 \" stroke=\"black\"/>\n",
       "<text font-family=\"Times,serif\" font-size=\"14.00\" text-anchor=\"middle\" x=\"394\" y=\"-257.3\">(None, 256)</text>\n",
       "</g>\n",
       "<!-- 5507397648&#45;&gt;5507396432 -->\n",
       "<g class=\"edge\" id=\"edge4\">\n",
       "<title>5507397648-&gt;5507396432</title>\n",
       "<path d=\"M224.5,-332.37C224.5,-324.15 224.5,-314.66 224.5,-305.73\" fill=\"none\" stroke=\"black\"/>\n",
       "<polygon fill=\"black\" points=\"228,-305.61 224.5,-295.61 221,-305.61 228,-305.61\" stroke=\"black\"/>\n",
       "</g>\n",
       "<!-- 5517076048 -->\n",
       "<g class=\"node\" id=\"node6\">\n",
       "<title>5517076048</title>\n",
       "<polygon fill=\"none\" points=\"104.5,-166.5 104.5,-212.5 344.5,-212.5 344.5,-166.5 104.5,-166.5\" stroke=\"black\"/>\n",
       "<text font-family=\"Times,serif\" font-size=\"14.00\" text-anchor=\"middle\" x=\"155.5\" y=\"-185.8\">dense_4: Dense</text>\n",
       "<polyline fill=\"none\" points=\"206.5,-166.5 206.5,-212.5 \" stroke=\"black\"/>\n",
       "<text font-family=\"Times,serif\" font-size=\"14.00\" text-anchor=\"middle\" x=\"234\" y=\"-197.3\">input:</text>\n",
       "<polyline fill=\"none\" points=\"206.5,-189.5 261.5,-189.5 \" stroke=\"black\"/>\n",
       "<text font-family=\"Times,serif\" font-size=\"14.00\" text-anchor=\"middle\" x=\"234\" y=\"-174.3\">output:</text>\n",
       "<polyline fill=\"none\" points=\"261.5,-166.5 261.5,-212.5 \" stroke=\"black\"/>\n",
       "<text font-family=\"Times,serif\" font-size=\"14.00\" text-anchor=\"middle\" x=\"303\" y=\"-197.3\">(None, 256)</text>\n",
       "<polyline fill=\"none\" points=\"261.5,-189.5 344.5,-189.5 \" stroke=\"black\"/>\n",
       "<text font-family=\"Times,serif\" font-size=\"14.00\" text-anchor=\"middle\" x=\"303\" y=\"-174.3\">(None, 128)</text>\n",
       "</g>\n",
       "<!-- 5507396432&#45;&gt;5517076048 -->\n",
       "<g class=\"edge\" id=\"edge5\">\n",
       "<title>5507396432-&gt;5517076048</title>\n",
       "<path d=\"M224.5,-249.37C224.5,-241.15 224.5,-231.66 224.5,-222.73\" fill=\"none\" stroke=\"black\"/>\n",
       "<polygon fill=\"black\" points=\"228,-222.61 224.5,-212.61 221,-222.61 228,-222.61\" stroke=\"black\"/>\n",
       "</g>\n",
       "<!-- 5506146256 -->\n",
       "<g class=\"node\" id=\"node7\">\n",
       "<title>5506146256</title>\n",
       "<polygon fill=\"none\" points=\"93,-83.5 93,-129.5 356,-129.5 356,-83.5 93,-83.5\" stroke=\"black\"/>\n",
       "<text font-family=\"Times,serif\" font-size=\"14.00\" text-anchor=\"middle\" x=\"155.5\" y=\"-102.8\">dropout_2: Dropout</text>\n",
       "<polyline fill=\"none\" points=\"218,-83.5 218,-129.5 \" stroke=\"black\"/>\n",
       "<text font-family=\"Times,serif\" font-size=\"14.00\" text-anchor=\"middle\" x=\"245.5\" y=\"-114.3\">input:</text>\n",
       "<polyline fill=\"none\" points=\"218,-106.5 273,-106.5 \" stroke=\"black\"/>\n",
       "<text font-family=\"Times,serif\" font-size=\"14.00\" text-anchor=\"middle\" x=\"245.5\" y=\"-91.3\">output:</text>\n",
       "<polyline fill=\"none\" points=\"273,-83.5 273,-129.5 \" stroke=\"black\"/>\n",
       "<text font-family=\"Times,serif\" font-size=\"14.00\" text-anchor=\"middle\" x=\"314.5\" y=\"-114.3\">(None, 128)</text>\n",
       "<polyline fill=\"none\" points=\"273,-106.5 356,-106.5 \" stroke=\"black\"/>\n",
       "<text font-family=\"Times,serif\" font-size=\"14.00\" text-anchor=\"middle\" x=\"314.5\" y=\"-91.3\">(None, 128)</text>\n",
       "</g>\n",
       "<!-- 5517076048&#45;&gt;5506146256 -->\n",
       "<g class=\"edge\" id=\"edge6\">\n",
       "<title>5517076048-&gt;5506146256</title>\n",
       "<path d=\"M224.5,-166.37C224.5,-158.15 224.5,-148.66 224.5,-139.73\" fill=\"none\" stroke=\"black\"/>\n",
       "<polygon fill=\"black\" points=\"228,-139.61 224.5,-129.61 221,-139.61 228,-139.61\" stroke=\"black\"/>\n",
       "</g>\n",
       "<!-- 5506124048 -->\n",
       "<g class=\"node\" id=\"node8\">\n",
       "<title>5506124048</title>\n",
       "<polygon fill=\"none\" points=\"104.5,-0.5 104.5,-46.5 344.5,-46.5 344.5,-0.5 104.5,-0.5\" stroke=\"black\"/>\n",
       "<text font-family=\"Times,serif\" font-size=\"14.00\" text-anchor=\"middle\" x=\"155.5\" y=\"-19.8\">dense_5: Dense</text>\n",
       "<polyline fill=\"none\" points=\"206.5,-0.5 206.5,-46.5 \" stroke=\"black\"/>\n",
       "<text font-family=\"Times,serif\" font-size=\"14.00\" text-anchor=\"middle\" x=\"234\" y=\"-31.3\">input:</text>\n",
       "<polyline fill=\"none\" points=\"206.5,-23.5 261.5,-23.5 \" stroke=\"black\"/>\n",
       "<text font-family=\"Times,serif\" font-size=\"14.00\" text-anchor=\"middle\" x=\"234\" y=\"-8.3\">output:</text>\n",
       "<polyline fill=\"none\" points=\"261.5,-0.5 261.5,-46.5 \" stroke=\"black\"/>\n",
       "<text font-family=\"Times,serif\" font-size=\"14.00\" text-anchor=\"middle\" x=\"303\" y=\"-31.3\">(None, 128)</text>\n",
       "<polyline fill=\"none\" points=\"261.5,-23.5 344.5,-23.5 \" stroke=\"black\"/>\n",
       "<text font-family=\"Times,serif\" font-size=\"14.00\" text-anchor=\"middle\" x=\"303\" y=\"-8.3\">(None, 1)</text>\n",
       "</g>\n",
       "<!-- 5506146256&#45;&gt;5506124048 -->\n",
       "<g class=\"edge\" id=\"edge7\">\n",
       "<title>5506146256-&gt;5506124048</title>\n",
       "<path d=\"M224.5,-83.37C224.5,-75.15 224.5,-65.66 224.5,-56.73\" fill=\"none\" stroke=\"black\"/>\n",
       "<polygon fill=\"black\" points=\"228,-56.61 224.5,-46.61 221,-56.61 228,-56.61\" stroke=\"black\"/>\n",
       "</g>\n",
       "</g>\n",
       "</svg>"
      ],
      "text/plain": [
       "<IPython.core.display.SVG object>"
      ]
     },
     "execution_count": 19,
     "metadata": {},
     "output_type": "execute_result"
    }
   ],
   "source": [
    "visualize(convModel)"
   ]
  },
  {
   "cell_type": "code",
   "execution_count": 20,
   "metadata": {},
   "outputs": [
    {
     "name": "stderr",
     "output_type": "stream",
     "text": [
      "/Users/sangminlee/keras-tutorial/venv/lib/python3.7/site-packages/tensorflow/python/framework/indexed_slices.py:434: UserWarning: Converting sparse IndexedSlices to a dense Tensor of unknown shape. This may consume a large amount of memory.\n",
      "  \"Converting sparse IndexedSlices to a dense Tensor of unknown shape. \"\n"
     ]
    },
    {
     "name": "stdout",
     "output_type": "stream",
     "text": [
      "Train on 20000 samples, validate on 5000 samples\n",
      "Epoch 1/2\n",
      "20000/20000 [==============================] - 28s 1ms/step - loss: 0.4644 - accuracy: 0.7618 - val_loss: 0.2936 - val_accuracy: 0.8764\n",
      "Epoch 2/2\n",
      "20000/20000 [==============================] - 28s 1ms/step - loss: 0.2192 - accuracy: 0.9129 - val_loss: 0.2599 - val_accuracy: 0.8912\n"
     ]
    }
   ],
   "source": [
    "convHist = learning(convModel)"
   ]
  },
  {
   "cell_type": "code",
   "execution_count": 21,
   "metadata": {},
   "outputs": [
    {
     "data": {
      "image/png": "[encoded data removed]",
      "text/plain": [
       "<Figure size 432x288 with 2 Axes>"
      ]
     },
     "metadata": {
      "needs_background": "light"
     },
     "output_type": "display_data"
    },
    {
     "name": "stdout",
     "output_type": "stream",
     "text": [
      "25000/25000 [==============================] - 6s 239us/step\n",
      "## evaluation loss and metrics ##\n",
      "[0.27164235345840454, 0.8879600167274475]\n"
     ]
    }
   ],
   "source": [
    "review(convModel, convHist)"
   ]
  },
  {
   "cell_type": "markdown",
   "metadata": {},
   "source": [
    "<br>\n",
    "\n",
    "---\n",
    "\n",
    "<br>\n",
    "\n",
    "# 모델 준비\n",
    "## 순환 컨볼루션 신경망 모델\n",
    "\n",
    "<img src=\"http://tykimos.github.io/warehouse/2017-8-17-Text_Input_Binary_Classification_Model_Recipe_4m.png\">\n",
    "\n",
    "* 컨볼루션 레이어에서 나온 특징벡터들을 맥스풀링(MaxPooling1D)를 통해 1/4로 줄여준 다음 LSTM의 입력으로 넣어주는 모델이다."
   ]
  },
  {
   "cell_type": "code",
   "execution_count": 22,
   "metadata": {},
   "outputs": [],
   "source": [
    "cycleConvModel = Sequential()\n",
    "cycleConvModel.add(Embedding(20000, 128, input_length=200))\n",
    "cycleConvModel.add(Dropout(0.2))\n",
    "cycleConvModel.add(Conv1D(256, 3, padding='valid', activation='relu', strides=1))\n",
    "cycleConvModel.add(MaxPooling1D(pool_size=4))\n",
    "cycleConvModel.add(LSTM(128))\n",
    "cycleConvModel.add(Dense(1, activation='sigmoid'))"
   ]
  },
  {
   "cell_type": "code",
   "execution_count": 23,
   "metadata": {},
   "outputs": [
    {
     "data": {
      "image/svg+xml": [
       "<svg height=\"499pt\" viewBox=\"0.00 0.00 380.00 553.00\" width=\"343pt\" xmlns=\"http://www.w3.org/2000/svg\" xmlns:xlink=\"http://www.w3.org/1999/xlink\">\n",
       "<g class=\"graph\" id=\"graph0\" transform=\"scale(0.9 0.9) rotate(0) translate(4 549)\">\n",
       "<title>G</title>\n",
       "<polygon fill=\"white\" points=\"-4,4 -4,-549 376,-549 376,4 -4,4\" stroke=\"transparent\"/>\n",
       "<!-- 5506214736 -->\n",
       "<g class=\"node\" id=\"node1\">\n",
       "<title>5506214736</title>\n",
       "<polygon fill=\"none\" points=\"20.5,-498.5 20.5,-544.5 351.5,-544.5 351.5,-498.5 20.5,-498.5\" stroke=\"black\"/>\n",
       "<text font-family=\"Times,serif\" font-size=\"14.00\" text-anchor=\"middle\" x=\"117\" y=\"-517.8\">embedding_4_input: InputLayer</text>\n",
       "<polyline fill=\"none\" points=\"213.5,-498.5 213.5,-544.5 \" stroke=\"black\"/>\n",
       "<text font-family=\"Times,serif\" font-size=\"14.00\" text-anchor=\"middle\" x=\"241\" y=\"-529.3\">input:</text>\n",
       "<polyline fill=\"none\" points=\"213.5,-521.5 268.5,-521.5 \" stroke=\"black\"/>\n",
       "<text font-family=\"Times,serif\" font-size=\"14.00\" text-anchor=\"middle\" x=\"241\" y=\"-506.3\">output:</text>\n",
       "<polyline fill=\"none\" points=\"268.5,-498.5 268.5,-544.5 \" stroke=\"black\"/>\n",
       "<text font-family=\"Times,serif\" font-size=\"14.00\" text-anchor=\"middle\" x=\"310\" y=\"-529.3\">(None, 200)</text>\n",
       "<polyline fill=\"none\" points=\"268.5,-521.5 351.5,-521.5 \" stroke=\"black\"/>\n",
       "<text font-family=\"Times,serif\" font-size=\"14.00\" text-anchor=\"middle\" x=\"310\" y=\"-506.3\">(None, 200)</text>\n",
       "</g>\n",
       "<!-- 5583170256 -->\n",
       "<g class=\"node\" id=\"node2\">\n",
       "<title>5583170256</title>\n",
       "<polygon fill=\"none\" points=\"23,-415.5 23,-461.5 349,-461.5 349,-415.5 23,-415.5\" stroke=\"black\"/>\n",
       "<text font-family=\"Times,serif\" font-size=\"14.00\" text-anchor=\"middle\" x=\"103.5\" y=\"-434.8\">embedding_4: Embedding</text>\n",
       "<polyline fill=\"none\" points=\"184,-415.5 184,-461.5 \" stroke=\"black\"/>\n",
       "<text font-family=\"Times,serif\" font-size=\"14.00\" text-anchor=\"middle\" x=\"211.5\" y=\"-446.3\">input:</text>\n",
       "<polyline fill=\"none\" points=\"184,-438.5 239,-438.5 \" stroke=\"black\"/>\n",
       "<text font-family=\"Times,serif\" font-size=\"14.00\" text-anchor=\"middle\" x=\"211.5\" y=\"-423.3\">output:</text>\n",
       "<polyline fill=\"none\" points=\"239,-415.5 239,-461.5 \" stroke=\"black\"/>\n",
       "<text font-family=\"Times,serif\" font-size=\"14.00\" text-anchor=\"middle\" x=\"294\" y=\"-446.3\">(None, 200)</text>\n",
       "<polyline fill=\"none\" points=\"239,-438.5 349,-438.5 \" stroke=\"black\"/>\n",
       "<text font-family=\"Times,serif\" font-size=\"14.00\" text-anchor=\"middle\" x=\"294\" y=\"-423.3\">(None, 200, 128)</text>\n",
       "</g>\n",
       "<!-- 5506214736&#45;&gt;5583170256 -->\n",
       "<g class=\"edge\" id=\"edge1\">\n",
       "<title>5506214736-&gt;5583170256</title>\n",
       "<path d=\"M186,-498.37C186,-490.15 186,-480.66 186,-471.73\" fill=\"none\" stroke=\"black\"/>\n",
       "<polygon fill=\"black\" points=\"189.5,-471.61 186,-461.61 182.5,-471.61 189.5,-471.61\" stroke=\"black\"/>\n",
       "</g>\n",
       "<!-- 5583168144 -->\n",
       "<g class=\"node\" id=\"node3\">\n",
       "<title>5583168144</title>\n",
       "<polygon fill=\"none\" points=\"41,-332.5 41,-378.5 331,-378.5 331,-332.5 41,-332.5\" stroke=\"black\"/>\n",
       "<text font-family=\"Times,serif\" font-size=\"14.00\" text-anchor=\"middle\" x=\"103.5\" y=\"-351.8\">dropout_3: Dropout</text>\n",
       "<polyline fill=\"none\" points=\"166,-332.5 166,-378.5 \" stroke=\"black\"/>\n",
       "<text font-family=\"Times,serif\" font-size=\"14.00\" text-anchor=\"middle\" x=\"193.5\" y=\"-363.3\">input:</text>\n",
       "<polyline fill=\"none\" points=\"166,-355.5 221,-355.5 \" stroke=\"black\"/>\n",
       "<text font-family=\"Times,serif\" font-size=\"14.00\" text-anchor=\"middle\" x=\"193.5\" y=\"-340.3\">output:</text>\n",
       "<polyline fill=\"none\" points=\"221,-332.5 221,-378.5 \" stroke=\"black\"/>\n",
       "<text font-family=\"Times,serif\" font-size=\"14.00\" text-anchor=\"middle\" x=\"276\" y=\"-363.3\">(None, 200, 128)</text>\n",
       "<polyline fill=\"none\" points=\"221,-355.5 331,-355.5 \" stroke=\"black\"/>\n",
       "<text font-family=\"Times,serif\" font-size=\"14.00\" text-anchor=\"middle\" x=\"276\" y=\"-340.3\">(None, 200, 128)</text>\n",
       "</g>\n",
       "<!-- 5583170256&#45;&gt;5583168144 -->\n",
       "<g class=\"edge\" id=\"edge2\">\n",
       "<title>5583170256-&gt;5583168144</title>\n",
       "<path d=\"M186,-415.37C186,-407.15 186,-397.66 186,-388.73\" fill=\"none\" stroke=\"black\"/>\n",
       "<polygon fill=\"black\" points=\"189.5,-388.61 186,-378.61 182.5,-388.61 189.5,-388.61\" stroke=\"black\"/>\n",
       "</g>\n",
       "<!-- 5507368656 -->\n",
       "<g class=\"node\" id=\"node4\">\n",
       "<title>5507368656</title>\n",
       "<polygon fill=\"none\" points=\"42,-249.5 42,-295.5 330,-295.5 330,-249.5 42,-249.5\" stroke=\"black\"/>\n",
       "<text font-family=\"Times,serif\" font-size=\"14.00\" text-anchor=\"middle\" x=\"103.5\" y=\"-268.8\">conv1d_2: Conv1D</text>\n",
       "<polyline fill=\"none\" points=\"165,-249.5 165,-295.5 \" stroke=\"black\"/>\n",
       "<text font-family=\"Times,serif\" font-size=\"14.00\" text-anchor=\"middle\" x=\"192.5\" y=\"-280.3\">input:</text>\n",
       "<polyline fill=\"none\" points=\"165,-272.5 220,-272.5 \" stroke=\"black\"/>\n",
       "<text font-family=\"Times,serif\" font-size=\"14.00\" text-anchor=\"middle\" x=\"192.5\" y=\"-257.3\">output:</text>\n",
       "<polyline fill=\"none\" points=\"220,-249.5 220,-295.5 \" stroke=\"black\"/>\n",
       "<text font-family=\"Times,serif\" font-size=\"14.00\" text-anchor=\"middle\" x=\"275\" y=\"-280.3\">(None, 200, 128)</text>\n",
       "<polyline fill=\"none\" points=\"220,-272.5 330,-272.5 \" stroke=\"black\"/>\n",
       "<text font-family=\"Times,serif\" font-size=\"14.00\" text-anchor=\"middle\" x=\"275\" y=\"-257.3\">(None, 198, 256)</text>\n",
       "</g>\n",
       "<!-- 5583168144&#45;&gt;5507368656 -->\n",
       "<g class=\"edge\" id=\"edge3\">\n",
       "<title>5583168144-&gt;5507368656</title>\n",
       "<path d=\"M186,-332.37C186,-324.15 186,-314.66 186,-305.73\" fill=\"none\" stroke=\"black\"/>\n",
       "<polygon fill=\"black\" points=\"189.5,-305.61 186,-295.61 182.5,-305.61 189.5,-305.61\" stroke=\"black\"/>\n",
       "</g>\n",
       "<!-- 5507367888 -->\n",
       "<g class=\"node\" id=\"node5\">\n",
       "<title>5507367888</title>\n",
       "<polygon fill=\"none\" points=\"0,-166.5 0,-212.5 372,-212.5 372,-166.5 0,-166.5\" stroke=\"black\"/>\n",
       "<text font-family=\"Times,serif\" font-size=\"14.00\" text-anchor=\"middle\" x=\"103.5\" y=\"-185.8\">max_pooling1d_1: MaxPooling1D</text>\n",
       "<polyline fill=\"none\" points=\"207,-166.5 207,-212.5 \" stroke=\"black\"/>\n",
       "<text font-family=\"Times,serif\" font-size=\"14.00\" text-anchor=\"middle\" x=\"234.5\" y=\"-197.3\">input:</text>\n",
       "<polyline fill=\"none\" points=\"207,-189.5 262,-189.5 \" stroke=\"black\"/>\n",
       "<text font-family=\"Times,serif\" font-size=\"14.00\" text-anchor=\"middle\" x=\"234.5\" y=\"-174.3\">output:</text>\n",
       "<polyline fill=\"none\" points=\"262,-166.5 262,-212.5 \" stroke=\"black\"/>\n",
       "<text font-family=\"Times,serif\" font-size=\"14.00\" text-anchor=\"middle\" x=\"317\" y=\"-197.3\">(None, 198, 256)</text>\n",
       "<polyline fill=\"none\" points=\"262,-189.5 372,-189.5 \" stroke=\"black\"/>\n",
       "<text font-family=\"Times,serif\" font-size=\"14.00\" text-anchor=\"middle\" x=\"317\" y=\"-174.3\">(None, 49, 256)</text>\n",
       "</g>\n",
       "<!-- 5507368656&#45;&gt;5507367888 -->\n",
       "<g class=\"edge\" id=\"edge4\">\n",
       "<title>5507368656-&gt;5507367888</title>\n",
       "<path d=\"M186,-249.37C186,-241.15 186,-231.66 186,-222.73\" fill=\"none\" stroke=\"black\"/>\n",
       "<polygon fill=\"black\" points=\"189.5,-222.61 186,-212.61 182.5,-222.61 189.5,-222.61\" stroke=\"black\"/>\n",
       "</g>\n",
       "<!-- 5533990032 -->\n",
       "<g class=\"node\" id=\"node6\">\n",
       "<title>5533990032</title>\n",
       "<polygon fill=\"none\" points=\"57.5,-83.5 57.5,-129.5 314.5,-129.5 314.5,-83.5 57.5,-83.5\" stroke=\"black\"/>\n",
       "<text font-family=\"Times,serif\" font-size=\"14.00\" text-anchor=\"middle\" x=\"106.5\" y=\"-102.8\">lstm_2: LSTM</text>\n",
       "<polyline fill=\"none\" points=\"155.5,-83.5 155.5,-129.5 \" stroke=\"black\"/>\n",
       "<text font-family=\"Times,serif\" font-size=\"14.00\" text-anchor=\"middle\" x=\"183\" y=\"-114.3\">input:</text>\n",
       "<polyline fill=\"none\" points=\"155.5,-106.5 210.5,-106.5 \" stroke=\"black\"/>\n",
       "<text font-family=\"Times,serif\" font-size=\"14.00\" text-anchor=\"middle\" x=\"183\" y=\"-91.3\">output:</text>\n",
       "<polyline fill=\"none\" points=\"210.5,-83.5 210.5,-129.5 \" stroke=\"black\"/>\n",
       "<text font-family=\"Times,serif\" font-size=\"14.00\" text-anchor=\"middle\" x=\"262.5\" y=\"-114.3\">(None, 49, 256)</text>\n",
       "<polyline fill=\"none\" points=\"210.5,-106.5 314.5,-106.5 \" stroke=\"black\"/>\n",
       "<text font-family=\"Times,serif\" font-size=\"14.00\" text-anchor=\"middle\" x=\"262.5\" y=\"-91.3\">(None, 128)</text>\n",
       "</g>\n",
       "<!-- 5507367888&#45;&gt;5533990032 -->\n",
       "<g class=\"edge\" id=\"edge5\">\n",
       "<title>5507367888-&gt;5533990032</title>\n",
       "<path d=\"M186,-166.37C186,-158.15 186,-148.66 186,-139.73\" fill=\"none\" stroke=\"black\"/>\n",
       "<polygon fill=\"black\" points=\"189.5,-139.61 186,-129.61 182.5,-139.61 189.5,-139.61\" stroke=\"black\"/>\n",
       "</g>\n",
       "<!-- 5583839952 -->\n",
       "<g class=\"node\" id=\"node7\">\n",
       "<title>5583839952</title>\n",
       "<polygon fill=\"none\" points=\"66,-0.5 66,-46.5 306,-46.5 306,-0.5 66,-0.5\" stroke=\"black\"/>\n",
       "<text font-family=\"Times,serif\" font-size=\"14.00\" text-anchor=\"middle\" x=\"117\" y=\"-19.8\">dense_6: Dense</text>\n",
       "<polyline fill=\"none\" points=\"168,-0.5 168,-46.5 \" stroke=\"black\"/>\n",
       "<text font-family=\"Times,serif\" font-size=\"14.00\" text-anchor=\"middle\" x=\"195.5\" y=\"-31.3\">input:</text>\n",
       "<polyline fill=\"none\" points=\"168,-23.5 223,-23.5 \" stroke=\"black\"/>\n",
       "<text font-family=\"Times,serif\" font-size=\"14.00\" text-anchor=\"middle\" x=\"195.5\" y=\"-8.3\">output:</text>\n",
       "<polyline fill=\"none\" points=\"223,-0.5 223,-46.5 \" stroke=\"black\"/>\n",
       "<text font-family=\"Times,serif\" font-size=\"14.00\" text-anchor=\"middle\" x=\"264.5\" y=\"-31.3\">(None, 128)</text>\n",
       "<polyline fill=\"none\" points=\"223,-23.5 306,-23.5 \" stroke=\"black\"/>\n",
       "<text font-family=\"Times,serif\" font-size=\"14.00\" text-anchor=\"middle\" x=\"264.5\" y=\"-8.3\">(None, 1)</text>\n",
       "</g>\n",
       "<!-- 5533990032&#45;&gt;5583839952 -->\n",
       "<g class=\"edge\" id=\"edge6\">\n",
       "<title>5533990032-&gt;5583839952</title>\n",
       "<path d=\"M186,-83.37C186,-75.15 186,-65.66 186,-56.73\" fill=\"none\" stroke=\"black\"/>\n",
       "<polygon fill=\"black\" points=\"189.5,-56.61 186,-46.61 182.5,-56.61 189.5,-56.61\" stroke=\"black\"/>\n",
       "</g>\n",
       "</g>\n",
       "</svg>"
      ],
      "text/plain": [
       "<IPython.core.display.SVG object>"
      ]
     },
     "execution_count": 23,
     "metadata": {},
     "output_type": "execute_result"
    }
   ],
   "source": [
    "visualize(cycleConvModel)"
   ]
  },
  {
   "cell_type": "code",
   "execution_count": 24,
   "metadata": {},
   "outputs": [
    {
     "name": "stderr",
     "output_type": "stream",
     "text": [
      "/Users/sangminlee/keras-tutorial/venv/lib/python3.7/site-packages/tensorflow/python/framework/indexed_slices.py:434: UserWarning: Converting sparse IndexedSlices to a dense Tensor of unknown shape. This may consume a large amount of memory.\n",
      "  \"Converting sparse IndexedSlices to a dense Tensor of unknown shape. \"\n"
     ]
    },
    {
     "name": "stdout",
     "output_type": "stream",
     "text": [
      "Train on 20000 samples, validate on 5000 samples\n",
      "Epoch 1/2\n",
      "20000/20000 [==============================] - 55s 3ms/step - loss: 0.4321 - accuracy: 0.7860 - val_loss: 0.3205 - val_accuracy: 0.8636\n",
      "Epoch 2/2\n",
      "20000/20000 [==============================] - 57s 3ms/step - loss: 0.1925 - accuracy: 0.9284 - val_loss: 0.3155 - val_accuracy: 0.8646\n"
     ]
    }
   ],
   "source": [
    "cycleConvHist = learning(cycleConvModel)"
   ]
  },
  {
   "cell_type": "code",
   "execution_count": 25,
   "metadata": {},
   "outputs": [
    {
     "data": {
      "image/png": "[encoded data removed]",
      "text/plain": [
       "<Figure size 432x288 with 2 Axes>"
      ]
     },
     "metadata": {
      "needs_background": "light"
     },
     "output_type": "display_data"
    },
    {
     "name": "stdout",
     "output_type": "stream",
     "text": [
      "25000/25000 [==============================] - 20s 780us/step\n",
      "## evaluation loss and metrics ##\n",
      "[0.3323275860834122, 0.8550800085067749]\n"
     ]
    }
   ],
   "source": [
    "review(cycleConvModel, cycleConvHist)"
   ]
  },
  {
   "cell_type": "markdown",
   "metadata": {},
   "source": [
    "<br>\n",
    "\n",
    "---\n",
    "\n",
    "<br>\n",
    "\n",
    "# 학습결과 비교"
   ]
  },
  {
   "cell_type": "code",
   "execution_count": 26,
   "metadata": {},
   "outputs": [
    {
     "data": {
      "image/png": "[encoded data removed]",
      "text/plain": [
       "<Figure size 432x288 with 2 Axes>"
      ]
     },
     "metadata": {
      "needs_background": "light"
     },
     "output_type": "display_data"
    },
    {
     "name": "stdout",
     "output_type": "stream",
     "text": [
      "25000/25000 [==============================] - 3s 104us/step\n",
      "## evaluation loss and metrics ##\n",
      "[0.45301344883918765, 0.8468400239944458]\n"
     ]
    }
   ],
   "source": [
    "review(model, hist)"
   ]
  },
  {
   "cell_type": "code",
   "execution_count": 27,
   "metadata": {},
   "outputs": [
    {
     "data": {
      "image/png": "[encoded data removed]",
      "text/plain": [
       "<Figure size 432x288 with 2 Axes>"
      ]
     },
     "metadata": {
      "needs_background": "light"
     },
     "output_type": "display_data"
    },
    {
     "name": "stdout",
     "output_type": "stream",
     "text": [
      "25000/25000 [==============================] - 29s 1ms/step\n",
      "## evaluation loss and metrics ##\n",
      "[0.3295766195678711, 0.8622400164604187]\n"
     ]
    }
   ],
   "source": [
    "review(cycleModel, cycleHist)"
   ]
  },
  {
   "cell_type": "code",
   "execution_count": 28,
   "metadata": {},
   "outputs": [
    {
     "data": {
      "image/png": "[encoded data removed]",
      "text/plain": [
       "<Figure size 432x288 with 2 Axes>"
      ]
     },
     "metadata": {
      "needs_background": "light"
     },
     "output_type": "display_data"
    },
    {
     "name": "stdout",
     "output_type": "stream",
     "text": [
      "25000/25000 [==============================] - 6s 242us/step\n",
      "## evaluation loss and metrics ##\n",
      "[0.27164235345840454, 0.8879600167274475]\n"
     ]
    }
   ],
   "source": [
    "review(convModel, convHist)"
   ]
  },
  {
   "cell_type": "code",
   "execution_count": 29,
   "metadata": {},
   "outputs": [
    {
     "data": {
      "image/png": "[encoded data removed]",
      "text/plain": [
       "<Figure size 432x288 with 2 Axes>"
      ]
     },
     "metadata": {
      "needs_background": "light"
     },
     "output_type": "display_data"
    },
    {
     "name": "stdout",
     "output_type": "stream",
     "text": [
      "25000/25000 [==============================] - 18s 725us/step\n",
      "## evaluation loss and metrics ##\n",
      "[0.3323275860834122, 0.8550800085067749]\n"
     ]
    }
   ],
   "source": [
    "review(cycleConvModel, cycleConvHist)"
   ]
  }
 ],
 "metadata": {
  "kernelspec": {
   "display_name": "Python 3",
   "language": "python",
   "name": "python3"
  },
  "language_info": {
   "codemirror_mode": {
    "name": "ipython",
    "version": 3
   },
   "file_extension": ".py",
   "mimetype": "text/x-python",
   "name": "python",
   "nbconvert_exporter": "python",
   "pygments_lexer": "ipython3",
   "version": "3.7.7"
  }
 },
 "nbformat": 4,
 "nbformat_minor": 4
}
