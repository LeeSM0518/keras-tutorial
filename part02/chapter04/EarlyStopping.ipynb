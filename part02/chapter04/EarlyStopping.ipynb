{
  "nbformat": 4,
  "nbformat_minor": 0,
  "metadata": {
    "colab": {
      "name": "EarlyStopping.ipynb",
      "provenance": []
    },
    "kernelspec": {
      "name": "python3",
      "display_name": "Python 3"
    }
  },
  "cells": [
    {
      "cell_type": "code",
      "metadata": {
        "id": "qFE_LLayTla1",
        "colab_type": "code",
        "colab": {
          "base_uri": "https://localhost:8080/",
          "height": 34
        },
        "outputId": "e334a872-c3b1-4a1b-e18a-aebf74520916"
      },
      "source": [
        "# 0. 사용할 패키지 불러오기\n",
        "from keras.utils import np_utils\n",
        "from keras.datasets import mnist\n",
        "from keras.models import Sequential\n",
        "from keras.layers import Dense, Activation\n",
        "import numpy as np\n",
        "\n",
        "np.random.seed(3)"
      ],
      "execution_count": 2,
      "outputs": [
        {
          "output_type": "stream",
          "text": [
            "Using TensorFlow backend.\n"
          ],
          "name": "stderr"
        }
      ]
    },
    {
      "cell_type": "code",
      "metadata": {
        "id": "5Qp8sho9UDij",
        "colab_type": "code",
        "colab": {}
      },
      "source": [
        "# 1. 데이터셋 준비하기\n",
        "\n",
        "# 훈련셋과 시험셋 불러오기\n",
        "(x_train, y_train), (x_test, y_test) = mnist.load_data()\n",
        "\n",
        "# 훈련셋과 검증셋 분리\n",
        "x_val = x_train[50000:]\n",
        "y_val = y_train[50000:]\n",
        "x_train = x_train[:50000]\n",
        "y_train = y_train[:50000]\n",
        "\n",
        "# 데이터셋 전처리\n",
        "x_train = x_train.reshape(50000, 784).astype('float32') / 255.0\n",
        "x_val = x_val.reshape(10000, 784).astype('float32') / 255.0\n",
        "x_test = x_test.reshape(10000, 784).astype('float32') / 255.0\n",
        "\n",
        "# 훈련셋과 검증셋 고르기\n",
        "train_rand_idxs = np.random.choice(50000, 700)\n",
        "val_rand_idxs = np.random.choice(10000, 300)\n",
        "\n",
        "x_train = x_train[train_rand_idxs]\n",
        "y_train = y_train[train_rand_idxs]\n",
        "x_val = x_val[val_rand_idxs]\n",
        "y_val = y_val[val_rand_idxs]\n",
        "\n",
        "# 라벨데이터 원핫인코딩 (one-hot encoding) 처리\n",
        "y_train = np_utils.to_categorical(y_train)\n",
        "y_val = np_utils.to_categorical(y_val)\n",
        "y_test = np_utils.to_categorical(y_test)"
      ],
      "execution_count": 0,
      "outputs": []
    },
    {
      "cell_type": "code",
      "metadata": {
        "id": "3xIWbylkVFaA",
        "colab_type": "code",
        "colab": {}
      },
      "source": [
        "# 2. 모델 구성하기\n",
        "model = Sequential()\n",
        "model.add(Dense(units=2, input_dim=28*28, activation='relu'))\n",
        "model.add(Dense(units=10, activation='softmax'))"
      ],
      "execution_count": 0,
      "outputs": []
    },
    {
      "cell_type": "code",
      "metadata": {
        "id": "d37Bqs6vVSHK",
        "colab_type": "code",
        "colab": {}
      },
      "source": [
        "# 3. 모델 학습과정 설정하기\n",
        "model.compile(loss='categorical_crossentropy', optimizer='sgd', metrics=['accuracy'])"
      ],
      "execution_count": 0,
      "outputs": []
    },
    {
      "cell_type": "code",
      "metadata": {
        "id": "2gHn5N2YVboS",
        "colab_type": "code",
        "colab": {
          "base_uri": "https://localhost:8080/",
          "height": 680
        },
        "outputId": "b353e710-1f0d-46f4-da5b-875a0651f841"
      },
      "source": [
        "# 4. 모델 학습시키기\n",
        "from keras.callbacks import EarlyStopping\n",
        "early_stopping = EarlyStopping()\n",
        "hist = model.fit(x_train, y_train, epochs=3000, batch_size=10, validation_data=(x_val, y_val),\n",
        "                 callbacks=[early_stopping])"
      ],
      "execution_count": 7,
      "outputs": [
        {
          "output_type": "stream",
          "text": [
            "Train on 700 samples, validate on 300 samples\n",
            "Epoch 1/3000\n",
            "700/700 [==============================] - 0s 413us/step - loss: 2.2780 - accuracy: 0.1443 - val_loss: 2.2515 - val_accuracy: 0.1933\n",
            "Epoch 2/3000\n",
            "700/700 [==============================] - 0s 127us/step - loss: 2.1983 - accuracy: 0.2357 - val_loss: 2.1935 - val_accuracy: 0.2167\n",
            "Epoch 3/3000\n",
            "700/700 [==============================] - 0s 136us/step - loss: 2.1330 - accuracy: 0.2314 - val_loss: 2.1433 - val_accuracy: 0.2267\n",
            "Epoch 4/3000\n",
            "700/700 [==============================] - 0s 130us/step - loss: 2.0774 - accuracy: 0.2386 - val_loss: 2.1000 - val_accuracy: 0.2267\n",
            "Epoch 5/3000\n",
            "700/700 [==============================] - 0s 132us/step - loss: 2.0237 - accuracy: 0.2371 - val_loss: 2.0588 - val_accuracy: 0.2433\n",
            "Epoch 6/3000\n",
            "700/700 [==============================] - 0s 130us/step - loss: 1.9798 - accuracy: 0.2457 - val_loss: 2.0344 - val_accuracy: 0.2300\n",
            "Epoch 7/3000\n",
            "700/700 [==============================] - 0s 138us/step - loss: 1.9467 - accuracy: 0.2514 - val_loss: 2.0066 - val_accuracy: 0.2433\n",
            "Epoch 8/3000\n",
            "700/700 [==============================] - 0s 134us/step - loss: 1.9200 - accuracy: 0.2586 - val_loss: 1.9837 - val_accuracy: 0.2533\n",
            "Epoch 9/3000\n",
            "700/700 [==============================] - 0s 129us/step - loss: 1.8966 - accuracy: 0.2657 - val_loss: 1.9661 - val_accuracy: 0.2600\n",
            "Epoch 10/3000\n",
            "700/700 [==============================] - 0s 137us/step - loss: 1.8762 - accuracy: 0.2643 - val_loss: 1.9532 - val_accuracy: 0.2667\n",
            "Epoch 11/3000\n",
            "700/700 [==============================] - 0s 129us/step - loss: 1.8565 - accuracy: 0.2729 - val_loss: 1.9359 - val_accuracy: 0.2600\n",
            "Epoch 12/3000\n",
            "700/700 [==============================] - 0s 131us/step - loss: 1.8407 - accuracy: 0.2700 - val_loss: 1.9285 - val_accuracy: 0.2633\n",
            "Epoch 13/3000\n",
            "700/700 [==============================] - 0s 126us/step - loss: 1.8250 - accuracy: 0.2729 - val_loss: 1.9131 - val_accuracy: 0.2667\n",
            "Epoch 14/3000\n",
            "700/700 [==============================] - 0s 136us/step - loss: 1.8095 - accuracy: 0.2729 - val_loss: 1.9069 - val_accuracy: 0.2700\n",
            "Epoch 15/3000\n",
            "700/700 [==============================] - 0s 137us/step - loss: 1.7961 - accuracy: 0.2929 - val_loss: 1.8949 - val_accuracy: 0.3033\n",
            "Epoch 16/3000\n",
            "700/700 [==============================] - 0s 133us/step - loss: 1.7829 - accuracy: 0.3014 - val_loss: 1.8873 - val_accuracy: 0.3000\n",
            "Epoch 17/3000\n",
            "700/700 [==============================] - 0s 132us/step - loss: 1.7700 - accuracy: 0.2929 - val_loss: 1.8807 - val_accuracy: 0.3000\n",
            "Epoch 18/3000\n",
            "700/700 [==============================] - 0s 128us/step - loss: 1.7576 - accuracy: 0.3086 - val_loss: 1.8667 - val_accuracy: 0.3033\n",
            "Epoch 19/3000\n",
            "700/700 [==============================] - 0s 125us/step - loss: 1.7447 - accuracy: 0.3157 - val_loss: 1.8712 - val_accuracy: 0.2967\n"
          ],
          "name": "stdout"
        }
      ]
    },
    {
      "cell_type": "code",
      "metadata": {
        "id": "ndTfaEVOVo9J",
        "colab_type": "code",
        "colab": {
          "base_uri": "https://localhost:8080/",
          "height": 279
        },
        "outputId": "eba982a1-fe24-409c-c0c9-797cfa31c0c9"
      },
      "source": [
        "# 5. 학습과정 살펴보기\n",
        "%matplotlib inline\n",
        "import matplotlib.pyplot as plt\n",
        "\n",
        "fig, loss_ax = plt.subplots()\n",
        "\n",
        "acc_ax = loss_ax.twinx()\n",
        "\n",
        "loss_ax.plot(hist.history['loss'], 'y', label='train loss')\n",
        "loss_ax.plot(hist.history['val_loss'], 'r', label='val loss')\n",
        "\n",
        "acc_ax.plot(hist.history['accuracy'], 'b', label='tarin acc')\n",
        "acc_ax.plot(hist.history['val_accuracy'], 'g', label='val acc')\n",
        "\n",
        "loss_ax.set_xlabel('epoch')\n",
        "loss_ax.set_ylabel('loss')\n",
        "acc_ax.set_ylabel('accuracy')\n",
        "\n",
        "loss_ax.legend(loc='upper left')\n",
        "acc_ax.legend(loc='lower left')\n",
        "\n",
        "plt.show()"
      ],
      "execution_count": 12,
      "outputs": [
        {
          "output_type": "display_data",
          "data": {
            "image/png": "[encoded data removed]",
            "text/plain": [
              "<Figure size 432x288 with 2 Axes>"
            ]
          },
          "metadata": {
            "tags": [],
            "needs_background": "light"
          }
        }
      ]
    },
    {
      "cell_type": "code",
      "metadata": {
        "id": "FdFSXYWJWSEC",
        "colab_type": "code",
        "colab": {
          "base_uri": "https://localhost:8080/",
          "height": 85
        },
        "outputId": "16e272fe-1e4d-434a-fa48-dc12a49cbe17"
      },
      "source": [
        "# 6. 모델 평가하기\n",
        "loss_and_metrics = model.evaluate(x_test, y_test, batch_size=32)\n",
        "\n",
        "print('')\n",
        "print('loss : ' + str(loss_and_metrics[0]))\n",
        "print('accuracy : ' + str(loss_and_metrics[1]))"
      ],
      "execution_count": 10,
      "outputs": [
        {
          "output_type": "stream",
          "text": [
            "10000/10000 [==============================] - 0s 20us/step\n",
            "\n",
            "loss : 1.8301704263687133\n",
            "accuracy : 0.30889999866485596\n"
          ],
          "name": "stdout"
        }
      ]
    },
    {
      "cell_type": "code",
      "metadata": {
        "id": "JNYZ4DykWnWB",
        "colab_type": "code",
        "colab": {
          "base_uri": "https://localhost:8080/",
          "height": 1000
        },
        "outputId": "c4cfb311-ea3e-43a0-ad82-d60848617b1f"
      },
      "source": [
        "# 조기종료의 patience를 추가\n",
        "early_stopping = EarlyStopping(patience = 20)\n",
        "hist = model.fit(x_train, y_train, epochs=3000, batch_size=10,\n",
        "                 validation_data=(x_val, y_val), callbacks=[early_stopping])"
      ],
      "execution_count": 11,
      "outputs": [
        {
          "output_type": "stream",
          "text": [
            "Train on 700 samples, validate on 300 samples\n",
            "Epoch 1/3000\n",
            "700/700 [==============================] - 0s 138us/step - loss: 1.7332 - accuracy: 0.3143 - val_loss: 1.8588 - val_accuracy: 0.3100\n",
            "Epoch 2/3000\n",
            "700/700 [==============================] - 0s 129us/step - loss: 1.7200 - accuracy: 0.3186 - val_loss: 1.8516 - val_accuracy: 0.3100\n",
            "Epoch 3/3000\n",
            "700/700 [==============================] - 0s 130us/step - loss: 1.7088 - accuracy: 0.3229 - val_loss: 1.8444 - val_accuracy: 0.3167\n",
            "Epoch 4/3000\n",
            "700/700 [==============================] - 0s 125us/step - loss: 1.6968 - accuracy: 0.3229 - val_loss: 1.8325 - val_accuracy: 0.3167\n",
            "Epoch 5/3000\n",
            "700/700 [==============================] - 0s 127us/step - loss: 1.6859 - accuracy: 0.3214 - val_loss: 1.8248 - val_accuracy: 0.3233\n",
            "Epoch 6/3000\n",
            "700/700 [==============================] - 0s 124us/step - loss: 1.6748 - accuracy: 0.3329 - val_loss: 1.8233 - val_accuracy: 0.3267\n",
            "Epoch 7/3000\n",
            "700/700 [==============================] - 0s 136us/step - loss: 1.6642 - accuracy: 0.3314 - val_loss: 1.8141 - val_accuracy: 0.3267\n",
            "Epoch 8/3000\n",
            "700/700 [==============================] - 0s 124us/step - loss: 1.6528 - accuracy: 0.3386 - val_loss: 1.8123 - val_accuracy: 0.3333\n",
            "Epoch 9/3000\n",
            "700/700 [==============================] - 0s 123us/step - loss: 1.6409 - accuracy: 0.3514 - val_loss: 1.8020 - val_accuracy: 0.3300\n",
            "Epoch 10/3000\n",
            "700/700 [==============================] - 0s 128us/step - loss: 1.6291 - accuracy: 0.3686 - val_loss: 1.7956 - val_accuracy: 0.3367\n",
            "Epoch 11/3000\n",
            "700/700 [==============================] - 0s 126us/step - loss: 1.6187 - accuracy: 0.3929 - val_loss: 1.7909 - val_accuracy: 0.3433\n",
            "Epoch 12/3000\n",
            "700/700 [==============================] - 0s 125us/step - loss: 1.6074 - accuracy: 0.4029 - val_loss: 1.7835 - val_accuracy: 0.3467\n",
            "Epoch 13/3000\n",
            "700/700 [==============================] - 0s 123us/step - loss: 1.5965 - accuracy: 0.4014 - val_loss: 1.7792 - val_accuracy: 0.3500\n",
            "Epoch 14/3000\n",
            "700/700 [==============================] - 0s 140us/step - loss: 1.5851 - accuracy: 0.4014 - val_loss: 1.7703 - val_accuracy: 0.3433\n",
            "Epoch 15/3000\n",
            "700/700 [==============================] - 0s 130us/step - loss: 1.5756 - accuracy: 0.4171 - val_loss: 1.7687 - val_accuracy: 0.3400\n",
            "Epoch 16/3000\n",
            "700/700 [==============================] - 0s 125us/step - loss: 1.5644 - accuracy: 0.4171 - val_loss: 1.7623 - val_accuracy: 0.3433\n",
            "Epoch 17/3000\n",
            "700/700 [==============================] - 0s 124us/step - loss: 1.5542 - accuracy: 0.4214 - val_loss: 1.7540 - val_accuracy: 0.3467\n",
            "Epoch 18/3000\n",
            "700/700 [==============================] - 0s 131us/step - loss: 1.5450 - accuracy: 0.4171 - val_loss: 1.7523 - val_accuracy: 0.3400\n",
            "Epoch 19/3000\n",
            "700/700 [==============================] - 0s 127us/step - loss: 1.5355 - accuracy: 0.4271 - val_loss: 1.7455 - val_accuracy: 0.3367\n",
            "Epoch 20/3000\n",
            "700/700 [==============================] - 0s 126us/step - loss: 1.5260 - accuracy: 0.4271 - val_loss: 1.7450 - val_accuracy: 0.3400\n",
            "Epoch 21/3000\n",
            "700/700 [==============================] - 0s 126us/step - loss: 1.5179 - accuracy: 0.4271 - val_loss: 1.7372 - val_accuracy: 0.3400\n",
            "Epoch 22/3000\n",
            "700/700 [==============================] - 0s 124us/step - loss: 1.5092 - accuracy: 0.4300 - val_loss: 1.7441 - val_accuracy: 0.3367\n",
            "Epoch 23/3000\n",
            "700/700 [==============================] - 0s 124us/step - loss: 1.5007 - accuracy: 0.4286 - val_loss: 1.7231 - val_accuracy: 0.3500\n",
            "Epoch 24/3000\n",
            "700/700 [==============================] - 0s 132us/step - loss: 1.4923 - accuracy: 0.4257 - val_loss: 1.7249 - val_accuracy: 0.3467\n",
            "Epoch 25/3000\n",
            "700/700 [==============================] - 0s 124us/step - loss: 1.4856 - accuracy: 0.4329 - val_loss: 1.7236 - val_accuracy: 0.3367\n",
            "Epoch 26/3000\n",
            "700/700 [==============================] - 0s 120us/step - loss: 1.4786 - accuracy: 0.4386 - val_loss: 1.7190 - val_accuracy: 0.3400\n",
            "Epoch 27/3000\n",
            "700/700 [==============================] - 0s 122us/step - loss: 1.4708 - accuracy: 0.4386 - val_loss: 1.7067 - val_accuracy: 0.3567\n",
            "Epoch 28/3000\n",
            "700/700 [==============================] - 0s 125us/step - loss: 1.4647 - accuracy: 0.4329 - val_loss: 1.7121 - val_accuracy: 0.3467\n",
            "Epoch 29/3000\n",
            "700/700 [==============================] - 0s 135us/step - loss: 1.4576 - accuracy: 0.4414 - val_loss: 1.7073 - val_accuracy: 0.3533\n",
            "Epoch 30/3000\n",
            "700/700 [==============================] - 0s 124us/step - loss: 1.4503 - accuracy: 0.4314 - val_loss: 1.6980 - val_accuracy: 0.3533\n",
            "Epoch 31/3000\n",
            "700/700 [==============================] - 0s 122us/step - loss: 1.4440 - accuracy: 0.4414 - val_loss: 1.6956 - val_accuracy: 0.3500\n",
            "Epoch 32/3000\n",
            "700/700 [==============================] - 0s 132us/step - loss: 1.4365 - accuracy: 0.4371 - val_loss: 1.6855 - val_accuracy: 0.3600\n",
            "Epoch 33/3000\n",
            "700/700 [==============================] - 0s 123us/step - loss: 1.4314 - accuracy: 0.4471 - val_loss: 1.6952 - val_accuracy: 0.3467\n",
            "Epoch 34/3000\n",
            "700/700 [==============================] - 0s 128us/step - loss: 1.4248 - accuracy: 0.4486 - val_loss: 1.6868 - val_accuracy: 0.3433\n",
            "Epoch 35/3000\n",
            "700/700 [==============================] - 0s 132us/step - loss: 1.4183 - accuracy: 0.4443 - val_loss: 1.6873 - val_accuracy: 0.3500\n",
            "Epoch 36/3000\n",
            "700/700 [==============================] - 0s 131us/step - loss: 1.4109 - accuracy: 0.4543 - val_loss: 1.6991 - val_accuracy: 0.3500\n",
            "Epoch 37/3000\n",
            "700/700 [==============================] - 0s 119us/step - loss: 1.4077 - accuracy: 0.4443 - val_loss: 1.6799 - val_accuracy: 0.3467\n",
            "Epoch 38/3000\n",
            "700/700 [==============================] - 0s 126us/step - loss: 1.4000 - accuracy: 0.4500 - val_loss: 1.6686 - val_accuracy: 0.3600\n",
            "Epoch 39/3000\n",
            "700/700 [==============================] - 0s 128us/step - loss: 1.3936 - accuracy: 0.4500 - val_loss: 1.6669 - val_accuracy: 0.3567\n",
            "Epoch 40/3000\n",
            "700/700 [==============================] - 0s 132us/step - loss: 1.3883 - accuracy: 0.4571 - val_loss: 1.6643 - val_accuracy: 0.3533\n",
            "Epoch 41/3000\n",
            "700/700 [==============================] - 0s 125us/step - loss: 1.3811 - accuracy: 0.4600 - val_loss: 1.6699 - val_accuracy: 0.3467\n",
            "Epoch 42/3000\n",
            "700/700 [==============================] - 0s 127us/step - loss: 1.3775 - accuracy: 0.4643 - val_loss: 1.6647 - val_accuracy: 0.3533\n",
            "Epoch 43/3000\n",
            "700/700 [==============================] - 0s 126us/step - loss: 1.3710 - accuracy: 0.4614 - val_loss: 1.6623 - val_accuracy: 0.3500\n",
            "Epoch 44/3000\n",
            "700/700 [==============================] - 0s 125us/step - loss: 1.3645 - accuracy: 0.4529 - val_loss: 1.6478 - val_accuracy: 0.3500\n",
            "Epoch 45/3000\n",
            "700/700 [==============================] - 0s 125us/step - loss: 1.3596 - accuracy: 0.4614 - val_loss: 1.6582 - val_accuracy: 0.3567\n",
            "Epoch 46/3000\n",
            "700/700 [==============================] - 0s 125us/step - loss: 1.3523 - accuracy: 0.4600 - val_loss: 1.6729 - val_accuracy: 0.3567\n",
            "Epoch 47/3000\n",
            "700/700 [==============================] - 0s 130us/step - loss: 1.3498 - accuracy: 0.4600 - val_loss: 1.6424 - val_accuracy: 0.3600\n",
            "Epoch 48/3000\n",
            "700/700 [==============================] - 0s 124us/step - loss: 1.3431 - accuracy: 0.4657 - val_loss: 1.6471 - val_accuracy: 0.3667\n",
            "Epoch 49/3000\n",
            "700/700 [==============================] - 0s 125us/step - loss: 1.3370 - accuracy: 0.4714 - val_loss: 1.6437 - val_accuracy: 0.3600\n",
            "Epoch 50/3000\n",
            "700/700 [==============================] - 0s 127us/step - loss: 1.3328 - accuracy: 0.4629 - val_loss: 1.6357 - val_accuracy: 0.3667\n",
            "Epoch 51/3000\n",
            "700/700 [==============================] - 0s 126us/step - loss: 1.3265 - accuracy: 0.4729 - val_loss: 1.6447 - val_accuracy: 0.3600\n",
            "Epoch 52/3000\n",
            "700/700 [==============================] - 0s 129us/step - loss: 1.3227 - accuracy: 0.4700 - val_loss: 1.6381 - val_accuracy: 0.3667\n",
            "Epoch 53/3000\n",
            "700/700 [==============================] - 0s 132us/step - loss: 1.3162 - accuracy: 0.4700 - val_loss: 1.6315 - val_accuracy: 0.3767\n",
            "Epoch 54/3000\n",
            "700/700 [==============================] - 0s 124us/step - loss: 1.3114 - accuracy: 0.4800 - val_loss: 1.6311 - val_accuracy: 0.3833\n",
            "Epoch 55/3000\n",
            "700/700 [==============================] - 0s 123us/step - loss: 1.3070 - accuracy: 0.4629 - val_loss: 1.6318 - val_accuracy: 0.3833\n",
            "Epoch 56/3000\n",
            "700/700 [==============================] - 0s 146us/step - loss: 1.3014 - accuracy: 0.4729 - val_loss: 1.6284 - val_accuracy: 0.3867\n",
            "Epoch 57/3000\n",
            "700/700 [==============================] - 0s 128us/step - loss: 1.2964 - accuracy: 0.4771 - val_loss: 1.6342 - val_accuracy: 0.3733\n",
            "Epoch 58/3000\n",
            "700/700 [==============================] - 0s 134us/step - loss: 1.2921 - accuracy: 0.4714 - val_loss: 1.6316 - val_accuracy: 0.3767\n",
            "Epoch 59/3000\n",
            "700/700 [==============================] - 0s 123us/step - loss: 1.2880 - accuracy: 0.4743 - val_loss: 1.6264 - val_accuracy: 0.3767\n",
            "Epoch 60/3000\n",
            "700/700 [==============================] - 0s 126us/step - loss: 1.2838 - accuracy: 0.4771 - val_loss: 1.6270 - val_accuracy: 0.3900\n",
            "Epoch 61/3000\n",
            "700/700 [==============================] - 0s 130us/step - loss: 1.2780 - accuracy: 0.4914 - val_loss: 1.6367 - val_accuracy: 0.3833\n",
            "Epoch 62/3000\n",
            "700/700 [==============================] - 0s 124us/step - loss: 1.2754 - accuracy: 0.4800 - val_loss: 1.6317 - val_accuracy: 0.3867\n",
            "Epoch 63/3000\n",
            "700/700 [==============================] - 0s 129us/step - loss: 1.2697 - accuracy: 0.4886 - val_loss: 1.6256 - val_accuracy: 0.3967\n",
            "Epoch 64/3000\n",
            "700/700 [==============================] - 0s 128us/step - loss: 1.2672 - accuracy: 0.4786 - val_loss: 1.6396 - val_accuracy: 0.3767\n",
            "Epoch 65/3000\n",
            "700/700 [==============================] - 0s 125us/step - loss: 1.2639 - accuracy: 0.4829 - val_loss: 1.6253 - val_accuracy: 0.3900\n",
            "Epoch 66/3000\n",
            "700/700 [==============================] - 0s 128us/step - loss: 1.2586 - accuracy: 0.4843 - val_loss: 1.6308 - val_accuracy: 0.3800\n",
            "Epoch 67/3000\n",
            "700/700 [==============================] - 0s 124us/step - loss: 1.2552 - accuracy: 0.4957 - val_loss: 1.6279 - val_accuracy: 0.3867\n",
            "Epoch 68/3000\n",
            "700/700 [==============================] - 0s 123us/step - loss: 1.2514 - accuracy: 0.4886 - val_loss: 1.6249 - val_accuracy: 0.3967\n",
            "Epoch 69/3000\n",
            "700/700 [==============================] - 0s 129us/step - loss: 1.2481 - accuracy: 0.4914 - val_loss: 1.6147 - val_accuracy: 0.4067\n",
            "Epoch 70/3000\n",
            "700/700 [==============================] - 0s 131us/step - loss: 1.2447 - accuracy: 0.5114 - val_loss: 1.6198 - val_accuracy: 0.3967\n",
            "Epoch 71/3000\n",
            "700/700 [==============================] - 0s 134us/step - loss: 1.2401 - accuracy: 0.4957 - val_loss: 1.6202 - val_accuracy: 0.3967\n",
            "Epoch 72/3000\n",
            "700/700 [==============================] - 0s 127us/step - loss: 1.2361 - accuracy: 0.5071 - val_loss: 1.6368 - val_accuracy: 0.3867\n",
            "Epoch 73/3000\n",
            "700/700 [==============================] - 0s 126us/step - loss: 1.2334 - accuracy: 0.5029 - val_loss: 1.6250 - val_accuracy: 0.4000\n",
            "Epoch 74/3000\n",
            "700/700 [==============================] - 0s 130us/step - loss: 1.2304 - accuracy: 0.5114 - val_loss: 1.6179 - val_accuracy: 0.3967\n",
            "Epoch 75/3000\n",
            "700/700 [==============================] - 0s 136us/step - loss: 1.2279 - accuracy: 0.5071 - val_loss: 1.6280 - val_accuracy: 0.3967\n",
            "Epoch 76/3000\n",
            "700/700 [==============================] - 0s 131us/step - loss: 1.2230 - accuracy: 0.5114 - val_loss: 1.6271 - val_accuracy: 0.4000\n",
            "Epoch 77/3000\n",
            "700/700 [==============================] - 0s 126us/step - loss: 1.2211 - accuracy: 0.5086 - val_loss: 1.6243 - val_accuracy: 0.4000\n",
            "Epoch 78/3000\n",
            "700/700 [==============================] - 0s 127us/step - loss: 1.2175 - accuracy: 0.5171 - val_loss: 1.6202 - val_accuracy: 0.3967\n",
            "Epoch 79/3000\n",
            "700/700 [==============================] - 0s 125us/step - loss: 1.2137 - accuracy: 0.5143 - val_loss: 1.6192 - val_accuracy: 0.4033\n",
            "Epoch 80/3000\n",
            "700/700 [==============================] - 0s 125us/step - loss: 1.2111 - accuracy: 0.5157 - val_loss: 1.6265 - val_accuracy: 0.4067\n",
            "Epoch 81/3000\n",
            "700/700 [==============================] - 0s 124us/step - loss: 1.2074 - accuracy: 0.5143 - val_loss: 1.6182 - val_accuracy: 0.4033\n",
            "Epoch 82/3000\n",
            "700/700 [==============================] - 0s 124us/step - loss: 1.2046 - accuracy: 0.5086 - val_loss: 1.6299 - val_accuracy: 0.4100\n",
            "Epoch 83/3000\n",
            "700/700 [==============================] - 0s 134us/step - loss: 1.2020 - accuracy: 0.5200 - val_loss: 1.6286 - val_accuracy: 0.4100\n",
            "Epoch 84/3000\n",
            "700/700 [==============================] - 0s 125us/step - loss: 1.1978 - accuracy: 0.5229 - val_loss: 1.6188 - val_accuracy: 0.4067\n",
            "Epoch 85/3000\n",
            "700/700 [==============================] - 0s 137us/step - loss: 1.1963 - accuracy: 0.5186 - val_loss: 1.6230 - val_accuracy: 0.4000\n",
            "Epoch 86/3000\n",
            "700/700 [==============================] - 0s 126us/step - loss: 1.1925 - accuracy: 0.5214 - val_loss: 1.6352 - val_accuracy: 0.4000\n",
            "Epoch 87/3000\n",
            "700/700 [==============================] - 0s 129us/step - loss: 1.1905 - accuracy: 0.5286 - val_loss: 1.6215 - val_accuracy: 0.4000\n",
            "Epoch 88/3000\n",
            "700/700 [==============================] - 0s 133us/step - loss: 1.1880 - accuracy: 0.5243 - val_loss: 1.6203 - val_accuracy: 0.4067\n",
            "Epoch 89/3000\n",
            "700/700 [==============================] - 0s 125us/step - loss: 1.1855 - accuracy: 0.5257 - val_loss: 1.6329 - val_accuracy: 0.4033\n"
          ],
          "name": "stdout"
        }
      ]
    },
    {
      "cell_type": "code",
      "metadata": {
        "id": "Mc0q5zyPX2fO",
        "colab_type": "code",
        "colab": {}
      },
      "source": [
        ""
      ],
      "execution_count": 0,
      "outputs": []
    }
  ]
}