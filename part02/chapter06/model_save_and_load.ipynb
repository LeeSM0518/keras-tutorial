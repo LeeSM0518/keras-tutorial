{
  "nbformat": 4,
  "nbformat_minor": 0,
  "metadata": {
    "colab": {
      "name": "model_save_and_load.ipynb",
      "provenance": []
    },
    "kernelspec": {
      "name": "python3",
      "display_name": "Python 3"
    }
  },
  "cells": [
    {
      "cell_type": "code",
      "metadata": {
        "id": "UWA2HXXqEDjv",
        "colab_type": "code",
        "colab": {}
      },
      "source": [
        "# 0. 사용할 패키지 불러오기\n",
        "from keras.utils import np_utils\n",
        "from keras.datasets import mnist\n",
        "from keras.models import Sequential\n",
        "from keras.layers import Dense, Activation\n",
        "import numpy as np\n",
        "from numpy import argmax"
      ],
      "execution_count": 0,
      "outputs": []
    },
    {
      "cell_type": "code",
      "metadata": {
        "id": "V0GngK0HEajw",
        "colab_type": "code",
        "colab": {}
      },
      "source": [
        "# 1. 데이터셋 생성하기\n",
        "\n",
        "# 훈련셋과 시험셋 불러오기\n",
        "(x_train, y_train), (x_test, y_test) = mnist.load_data()\n",
        "\n",
        "# 데이터셋 전처리\n",
        "x_train = x_train.reshape(60000, 784).astype('float32') / 255.0\n",
        "x_test = x_test.reshape(10000, 784).astype('float32') / 255.0\n",
        "\n",
        "# 원핫인코딩 (one-hot encoding) 처리\n",
        "y_train = np_utils.to_categorical(y_train)\n",
        "y_test = np_utils.to_categorical(y_test)\n",
        "\n",
        "# 훈련셋과 검증셋 분리\n",
        "x_val = x_train[:42000]   # 훈련셋의 30%를 검증셋으로 사용\n",
        "x_train = x_train[42000:]\n",
        "y_val = y_train[:42000]   # 훈련셋의 30%를 검증셋으로 사용\n",
        "y_train = y_train[42000:] "
      ],
      "execution_count": 0,
      "outputs": []
    },
    {
      "cell_type": "code",
      "metadata": {
        "id": "x4juDra1FDI3",
        "colab_type": "code",
        "colab": {}
      },
      "source": [
        "# 2. 모델 구성하기\n",
        "model = Sequential()\n",
        "model.add(Dense(units=64, input_dim=28*28, activation='relu'))\n",
        "model.add(Dense(units=10, activation='softmax'))"
      ],
      "execution_count": 0,
      "outputs": []
    },
    {
      "cell_type": "code",
      "metadata": {
        "id": "PVf1ZTXXFXHz",
        "colab_type": "code",
        "colab": {}
      },
      "source": [
        "# 3. 모델 학습과정 설정하기\n",
        "model.compile(loss='categorical_crossentropy', optimizer='sgd', metrics=['accuracy'])"
      ],
      "execution_count": 0,
      "outputs": []
    },
    {
      "cell_type": "code",
      "metadata": {
        "id": "4TyXK7iCFgbA",
        "colab_type": "code",
        "colab": {
          "base_uri": "https://localhost:8080/",
          "height": 241
        },
        "outputId": "47545a40-8413-4624-ee7c-2c9f2107f095"
      },
      "source": [
        "# 4. 모델 학습시키기\n",
        "model.fit(x_train, y_train, epochs=5, batch_size=32, validation_data=(x_val, y_val))"
      ],
      "execution_count": 14,
      "outputs": [
        {
          "output_type": "stream",
          "text": [
            "Train on 18000 samples, validate on 42000 samples\n",
            "Epoch 1/5\n",
            "18000/18000 [==============================] - 2s 113us/step - loss: 1.1352 - accuracy: 0.7170 - val_loss: 0.6646 - val_accuracy: 0.8363\n",
            "Epoch 2/5\n",
            "18000/18000 [==============================] - 2s 110us/step - loss: 0.5190 - accuracy: 0.8687 - val_loss: 0.4834 - val_accuracy: 0.8705\n",
            "Epoch 3/5\n",
            "18000/18000 [==============================] - 2s 110us/step - loss: 0.4159 - accuracy: 0.8863 - val_loss: 0.4189 - val_accuracy: 0.8846\n",
            "Epoch 4/5\n",
            "18000/18000 [==============================] - 2s 109us/step - loss: 0.3699 - accuracy: 0.8976 - val_loss: 0.3854 - val_accuracy: 0.8928\n",
            "Epoch 5/5\n",
            "18000/18000 [==============================] - 2s 109us/step - loss: 0.3428 - accuracy: 0.9044 - val_loss: 0.3642 - val_accuracy: 0.8975\n"
          ],
          "name": "stdout"
        },
        {
          "output_type": "execute_result",
          "data": {
            "text/plain": [
              "<keras.callbacks.callbacks.History at 0x7efe5cdeaf60>"
            ]
          },
          "metadata": {
            "tags": []
          },
          "execution_count": 14
        }
      ]
    },
    {
      "cell_type": "code",
      "metadata": {
        "id": "9nX1LjsHFm1y",
        "colab_type": "code",
        "colab": {
          "base_uri": "https://localhost:8080/",
          "height": 68
        },
        "outputId": "32d6377e-54bb-4f69-9957-f3bdb9654d58"
      },
      "source": [
        "# 5. 모델 평가하기\n",
        "loss_and_metrics = model.evaluate(x_test, y_test, batch_size=32)\n",
        "print('')\n",
        "print('loss_and_metrics : ' + str(loss_and_metrics))"
      ],
      "execution_count": 15,
      "outputs": [
        {
          "output_type": "stream",
          "text": [
            "10000/10000 [==============================] - 0s 22us/step\n",
            "\n",
            "loss_and_metrics : [0.33625239115357397, 0.90420001745224]\n"
          ],
          "name": "stdout"
        }
      ]
    },
    {
      "cell_type": "code",
      "metadata": {
        "id": "VR5uyFU4FzHu",
        "colab_type": "code",
        "colab": {}
      },
      "source": [
        "# 6. 모델 저장하기\n",
        "from keras.models import load_model\n",
        "model.save('mnist_mlp_model.h5')"
      ],
      "execution_count": 0,
      "outputs": []
    },
    {
      "cell_type": "code",
      "metadata": {
        "id": "q9NIS-moF63F",
        "colab_type": "code",
        "colab": {
          "base_uri": "https://localhost:8080/",
          "height": 414
        },
        "outputId": "5404c0a5-d8a6-441b-e7fc-ac9942cb613e"
      },
      "source": [
        "from IPython.display import SVG\n",
        "from keras.utils.vis_utils import model_to_dot\n",
        "\n",
        "%matplotlib inline\n",
        "SVG(model_to_dot(model, show_shapes=True).create(prog='dot', format='svg'))"
      ],
      "execution_count": 17,
      "outputs": [
        {
          "output_type": "execute_result",
          "data": {
            "text/plain": [
              "<IPython.core.display.SVG object>"
            ],
            "image/svg+xml": "<svg height=\"295pt\" viewBox=\"0.00 0.00 326.00 221.00\" width=\"435pt\" xmlns=\"http://www.w3.org/2000/svg\" xmlns:xlink=\"http://www.w3.org/1999/xlink\">\n<g class=\"graph\" id=\"graph0\" transform=\"scale(1.3333 1.3333) rotate(0) translate(4 217)\">\n<title>G</title>\n<polygon fill=\"#ffffff\" points=\"-4,4 -4,-217 322,-217 322,4 -4,4\" stroke=\"transparent\"/>\n<!-- 139630944962992 -->\n<g class=\"node\" id=\"node1\">\n<title>139630944962992</title>\n<polygon fill=\"none\" points=\"0,-166.5 0,-212.5 318,-212.5 318,-166.5 0,-166.5\" stroke=\"#000000\"/>\n<text fill=\"#000000\" font-family=\"Times,serif\" font-size=\"14.00\" text-anchor=\"middle\" x=\"86.5\" y=\"-185.8\">dense_3_input: InputLayer</text>\n<polyline fill=\"none\" points=\"173,-166.5 173,-212.5 \" stroke=\"#000000\"/>\n<text fill=\"#000000\" font-family=\"Times,serif\" font-size=\"14.00\" text-anchor=\"middle\" x=\"202\" y=\"-197.3\">input:</text>\n<polyline fill=\"none\" points=\"173,-189.5 231,-189.5 \" stroke=\"#000000\"/>\n<text fill=\"#000000\" font-family=\"Times,serif\" font-size=\"14.00\" text-anchor=\"middle\" x=\"202\" y=\"-174.3\">output:</text>\n<polyline fill=\"none\" points=\"231,-166.5 231,-212.5 \" stroke=\"#000000\"/>\n<text fill=\"#000000\" font-family=\"Times,serif\" font-size=\"14.00\" text-anchor=\"middle\" x=\"274.5\" y=\"-197.3\">(None, 784)</text>\n<polyline fill=\"none\" points=\"231,-189.5 318,-189.5 \" stroke=\"#000000\"/>\n<text fill=\"#000000\" font-family=\"Times,serif\" font-size=\"14.00\" text-anchor=\"middle\" x=\"274.5\" y=\"-174.3\">(None, 784)</text>\n</g>\n<!-- 139630945041992 -->\n<g class=\"node\" id=\"node2\">\n<title>139630945041992</title>\n<polygon fill=\"none\" points=\"33,-83.5 33,-129.5 285,-129.5 285,-83.5 33,-83.5\" stroke=\"#000000\"/>\n<text fill=\"#000000\" font-family=\"Times,serif\" font-size=\"14.00\" text-anchor=\"middle\" x=\"86.5\" y=\"-102.8\">dense_3: Dense</text>\n<polyline fill=\"none\" points=\"140,-83.5 140,-129.5 \" stroke=\"#000000\"/>\n<text fill=\"#000000\" font-family=\"Times,serif\" font-size=\"14.00\" text-anchor=\"middle\" x=\"169\" y=\"-114.3\">input:</text>\n<polyline fill=\"none\" points=\"140,-106.5 198,-106.5 \" stroke=\"#000000\"/>\n<text fill=\"#000000\" font-family=\"Times,serif\" font-size=\"14.00\" text-anchor=\"middle\" x=\"169\" y=\"-91.3\">output:</text>\n<polyline fill=\"none\" points=\"198,-83.5 198,-129.5 \" stroke=\"#000000\"/>\n<text fill=\"#000000\" font-family=\"Times,serif\" font-size=\"14.00\" text-anchor=\"middle\" x=\"241.5\" y=\"-114.3\">(None, 784)</text>\n<polyline fill=\"none\" points=\"198,-106.5 285,-106.5 \" stroke=\"#000000\"/>\n<text fill=\"#000000\" font-family=\"Times,serif\" font-size=\"14.00\" text-anchor=\"middle\" x=\"241.5\" y=\"-91.3\">(None, 64)</text>\n</g>\n<!-- 139630944962992&#45;&gt;139630945041992 -->\n<g class=\"edge\" id=\"edge1\">\n<title>139630944962992-&gt;139630945041992</title>\n<path d=\"M159,-166.3799C159,-158.1745 159,-148.7679 159,-139.8786\" fill=\"none\" stroke=\"#000000\"/>\n<polygon fill=\"#000000\" points=\"162.5001,-139.784 159,-129.784 155.5001,-139.784 162.5001,-139.784\" stroke=\"#000000\"/>\n</g>\n<!-- 139630945041824 -->\n<g class=\"node\" id=\"node3\">\n<title>139630945041824</title>\n<polygon fill=\"none\" points=\"36.5,-.5 36.5,-46.5 281.5,-46.5 281.5,-.5 36.5,-.5\" stroke=\"#000000\"/>\n<text fill=\"#000000\" font-family=\"Times,serif\" font-size=\"14.00\" text-anchor=\"middle\" x=\"90\" y=\"-19.8\">dense_4: Dense</text>\n<polyline fill=\"none\" points=\"143.5,-.5 143.5,-46.5 \" stroke=\"#000000\"/>\n<text fill=\"#000000\" font-family=\"Times,serif\" font-size=\"14.00\" text-anchor=\"middle\" x=\"172.5\" y=\"-31.3\">input:</text>\n<polyline fill=\"none\" points=\"143.5,-23.5 201.5,-23.5 \" stroke=\"#000000\"/>\n<text fill=\"#000000\" font-family=\"Times,serif\" font-size=\"14.00\" text-anchor=\"middle\" x=\"172.5\" y=\"-8.3\">output:</text>\n<polyline fill=\"none\" points=\"201.5,-.5 201.5,-46.5 \" stroke=\"#000000\"/>\n<text fill=\"#000000\" font-family=\"Times,serif\" font-size=\"14.00\" text-anchor=\"middle\" x=\"241.5\" y=\"-31.3\">(None, 64)</text>\n<polyline fill=\"none\" points=\"201.5,-23.5 281.5,-23.5 \" stroke=\"#000000\"/>\n<text fill=\"#000000\" font-family=\"Times,serif\" font-size=\"14.00\" text-anchor=\"middle\" x=\"241.5\" y=\"-8.3\">(None, 10)</text>\n</g>\n<!-- 139630945041992&#45;&gt;139630945041824 -->\n<g class=\"edge\" id=\"edge2\">\n<title>139630945041992-&gt;139630945041824</title>\n<path d=\"M159,-83.3799C159,-75.1745 159,-65.7679 159,-56.8786\" fill=\"none\" stroke=\"#000000\"/>\n<polygon fill=\"#000000\" points=\"162.5001,-56.784 159,-46.784 155.5001,-56.784 162.5001,-56.784\" stroke=\"#000000\"/>\n</g>\n</g>\n</svg>"
          },
          "metadata": {
            "tags": []
          },
          "execution_count": 17
        }
      ]
    },
    {
      "cell_type": "code",
      "metadata": {
        "id": "ALopQszHGris",
        "colab_type": "code",
        "colab": {}
      },
      "source": [
        "# 1. 실무에 사용할 데이터 준비하기\n",
        "(x_train, y_train), (x_test, y_test) = mnist.load_data()\n",
        "x_test = x_test.reshape(10000, 784).astype('float32') / 255.0\n",
        "y_test = np_utils.to_categorical(y_test)\n",
        "xhat_idx = np.random.choice(x_test.shape[0], 5)\n",
        "xhat = x_test[xhat_idx]"
      ],
      "execution_count": 0,
      "outputs": []
    },
    {
      "cell_type": "code",
      "metadata": {
        "id": "Wqi66bU-IJhm",
        "colab_type": "code",
        "colab": {}
      },
      "source": [
        "# 2. 모델 불러오기\n",
        "from keras.models import load_model\n",
        "model = load_model('mnist_mlp_model.h5')"
      ],
      "execution_count": 0,
      "outputs": []
    },
    {
      "cell_type": "code",
      "metadata": {
        "id": "R_Bkby6WIQap",
        "colab_type": "code",
        "colab": {
          "base_uri": "https://localhost:8080/",
          "height": 102
        },
        "outputId": "7f400bec-1d88-4b0e-eab4-6c8031361533"
      },
      "source": [
        "# 3. 모델 사용하기\n",
        "yhat = model.predict_classes(xhat)\n",
        "\n",
        "for i in range(5):\n",
        "  print('True : ' + str(argmax(y_test[xhat_idx[i]])) + ', Predict : ' + str(yhat[i]))"
      ],
      "execution_count": 22,
      "outputs": [
        {
          "output_type": "stream",
          "text": [
            "True : 9, Predict : 4\n",
            "True : 7, Predict : 7\n",
            "True : 7, Predict : 2\n",
            "True : 8, Predict : 8\n",
            "True : 0, Predict : 0\n"
          ],
          "name": "stdout"
        }
      ]
    },
    {
      "cell_type": "code",
      "metadata": {
        "id": "20e-DAf9IdX-",
        "colab_type": "code",
        "colab": {}
      },
      "source": [
        ""
      ],
      "execution_count": 0,
      "outputs": []
    }
  ]
}