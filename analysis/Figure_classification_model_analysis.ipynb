{
  "nbformat": 4,
  "nbformat_minor": 0,
  "metadata": {
    "colab": {
      "name": "Figure_classification_model_analysis.ipynb",
      "provenance": []
    },
    "kernelspec": {
      "name": "python3",
      "display_name": "Python 3"
    }
  },
  "cells": [
    {
      "cell_type": "code",
      "metadata": {
        "id": "bnXr8qFwjC9S",
        "colab_type": "code",
        "colab": {}
      },
      "source": [
        "import numpy as np\n",
        "from keras.models import Sequential\n",
        "from keras.layers import Dense\n",
        "from keras.layers import Flatten\n",
        "from keras.layers.convolutional import Conv2D\n",
        "from keras.layers.convolutional import MaxPooling2D\n",
        "from keras.preprocessing.image import ImageDataGenerator\n",
        "\n",
        "# 랜덤시드 고정시키기\n",
        "np.random.seed(3)"
      ],
      "execution_count": 0,
      "outputs": []
    },
    {
      "cell_type": "code",
      "metadata": {
        "id": "OBsg27KmjEv4",
        "colab_type": "code",
        "colab": {
          "base_uri": "https://localhost:8080/",
          "height": 51
        },
        "outputId": "dd21e9c1-a911-4cf7-d142-319a138fcd37"
      },
      "source": [
        "# 1. 데이터 생성하기\n",
        "\n",
        "# ImageDataGenerator : 이미지에 임의 변형 및 정규화 적용을 한다.\n",
        "# rescale: 원본 영상이 0~255의 RGB 계수로 구성되는데 이를 1/255로 스케일링하여\n",
        "#  0~1 범위로 변환시켜준다.\n",
        "train_datagen = ImageDataGenerator(rescale=1./255)\n",
        "\n",
        "# flow_from_directory()를 통해 제너레이터 생성\n",
        "train_generator = train_datagen.flow_from_directory(\n",
        "    '/content/drive/My Drive/Colab Notebooks/handwriting_shape/train',\n",
        "    # target_size : 이미지 크기를 지정하고 조절한다.\n",
        "    target_size=(24, 24),\n",
        "    # batch_size : 배치 크기를 지정한다.\n",
        "    batch_size=3,\n",
        "    # categorical: 2D one-hot 부호화된 라벨이 반환된다.\n",
        "    class_mode='categorical')\n",
        "\n",
        "test_datagen = ImageDataGenerator(rescale=1./255)\n",
        "\n",
        "test_generator = test_datagen.flow_from_directory(\n",
        "    '/content/drive/My Drive/Colab Notebooks/handwriting_shape/test',\n",
        "    target_size=(24, 24),\n",
        "    batch_size=3,\n",
        "    class_mode='categorical')"
      ],
      "execution_count": 7,
      "outputs": [
        {
          "output_type": "stream",
          "text": [
            "Found 45 images belonging to 3 classes.\n",
            "Found 15 images belonging to 3 classes.\n"
          ],
          "name": "stdout"
        }
      ]
    },
    {
      "cell_type": "code",
      "metadata": {
        "id": "ks5AeuLij729",
        "colab_type": "code",
        "colab": {}
      },
      "source": [
        "# 2. 모델 구성하기\n",
        "model = Sequential()\n",
        "# 첫 번째 인자(32): 컨볼루션 필터의 수\n",
        "model.add(Conv2D(32, \n",
        "                 # 두 번째 인자((3, 3)): 컨볼루션 커널의 (행, 열)\n",
        "                 kernel_size=(3, 3),\n",
        "\n",
        "                 # padding: 경계 처리 방법. 디폴트 값이 valid인데\n",
        "                 #  valid는 유효한 영역만 출력한다. 따라서 출력 이미지 사이즈가 입력 이미지 사이즈보다 작다.\n",
        "\n",
        "                 # activation: 활성화 함수. relu는 은닉층에 주로 쓰인다.\n",
        "                 activation='relu',\n",
        "                 # input_shape: 샘플 수를 제외한 입력 형태(행, 열, 채널수)\n",
        "                 input_shape=(24, 24, 3)))\n",
        "model.add(Conv2D(64, (3, 3), activation='relu'))\n",
        "# pool_size: 수직, 수평 축소 비율을 지정한다.\n",
        "model.add(MaxPooling2D(pool_size=(2, 2)))\n",
        "# Flatten: 이전 레이어의 2차원 출력 정보를 1차원 자료로 바꿔준다.\n",
        "model.add(Flatten())\n",
        "model.add(Dense(128, activation='relu'))\n",
        "model.add(Dense(3, activation='softmax'))"
      ],
      "execution_count": 0,
      "outputs": []
    },
    {
      "cell_type": "code",
      "metadata": {
        "id": "vi1niFItlrn0",
        "colab_type": "code",
        "colab": {
          "base_uri": "https://localhost:8080/",
          "height": 686
        },
        "outputId": "3ff171f1-31a4-47de-8e90-4ebbbf18e704"
      },
      "source": [
        "# 딥러닝 모델 가시화\n",
        "from IPython.display import SVG\n",
        "from keras.utils.vis_utils import model_to_dot\n",
        "\n",
        "%matplotlib inline\n",
        "SVG(model_to_dot(model, show_shapes=True, dpi=65).create(prog='dot', format='svg'))"
      ],
      "execution_count": 9,
      "outputs": [
        {
          "output_type": "execute_result",
          "data": {
            "text/plain": [
              "<IPython.core.display.SVG object>"
            ],
            "image/svg+xml": "<svg height=\"499pt\" viewBox=\"0.00 0.00 412.00 553.00\" width=\"372pt\" xmlns=\"http://www.w3.org/2000/svg\" xmlns:xlink=\"http://www.w3.org/1999/xlink\">\n<g class=\"graph\" id=\"graph0\" transform=\"scale(.9028 .9028) rotate(0) translate(4 549)\">\n<title>G</title>\n<polygon fill=\"#ffffff\" points=\"-4,4 -4,-549 408,-549 408,4 -4,4\" stroke=\"transparent\"/>\n<!-- 140049468225688 -->\n<g class=\"node\" id=\"node1\">\n<title>140049468225688</title>\n<polygon fill=\"none\" points=\"22.5,-498.5 22.5,-544.5 381.5,-544.5 381.5,-498.5 22.5,-498.5\" stroke=\"#000000\"/>\n<text fill=\"#000000\" font-family=\"Times,serif\" font-size=\"14.00\" text-anchor=\"middle\" x=\"114.5\" y=\"-517.8\">conv2d_3_input: InputLayer</text>\n<polyline fill=\"none\" points=\"206.5,-498.5 206.5,-544.5 \" stroke=\"#000000\"/>\n<text fill=\"#000000\" font-family=\"Times,serif\" font-size=\"14.00\" text-anchor=\"middle\" x=\"235.5\" y=\"-529.3\">input:</text>\n<polyline fill=\"none\" points=\"206.5,-521.5 264.5,-521.5 \" stroke=\"#000000\"/>\n<text fill=\"#000000\" font-family=\"Times,serif\" font-size=\"14.00\" text-anchor=\"middle\" x=\"235.5\" y=\"-506.3\">output:</text>\n<polyline fill=\"none\" points=\"264.5,-498.5 264.5,-544.5 \" stroke=\"#000000\"/>\n<text fill=\"#000000\" font-family=\"Times,serif\" font-size=\"14.00\" text-anchor=\"middle\" x=\"323\" y=\"-529.3\">(None, 24, 24, 3)</text>\n<polyline fill=\"none\" points=\"264.5,-521.5 381.5,-521.5 \" stroke=\"#000000\"/>\n<text fill=\"#000000\" font-family=\"Times,serif\" font-size=\"14.00\" text-anchor=\"middle\" x=\"323\" y=\"-506.3\">(None, 24, 24, 3)</text>\n</g>\n<!-- 140049468225016 -->\n<g class=\"node\" id=\"node2\">\n<title>140049468225016</title>\n<polygon fill=\"none\" points=\"44,-415.5 44,-461.5 360,-461.5 360,-415.5 44,-415.5\" stroke=\"#000000\"/>\n<text fill=\"#000000\" font-family=\"Times,serif\" font-size=\"14.00\" text-anchor=\"middle\" x=\"110.5\" y=\"-434.8\">conv2d_3: Conv2D</text>\n<polyline fill=\"none\" points=\"177,-415.5 177,-461.5 \" stroke=\"#000000\"/>\n<text fill=\"#000000\" font-family=\"Times,serif\" font-size=\"14.00\" text-anchor=\"middle\" x=\"206\" y=\"-446.3\">input:</text>\n<polyline fill=\"none\" points=\"177,-438.5 235,-438.5 \" stroke=\"#000000\"/>\n<text fill=\"#000000\" font-family=\"Times,serif\" font-size=\"14.00\" text-anchor=\"middle\" x=\"206\" y=\"-423.3\">output:</text>\n<polyline fill=\"none\" points=\"235,-415.5 235,-461.5 \" stroke=\"#000000\"/>\n<text fill=\"#000000\" font-family=\"Times,serif\" font-size=\"14.00\" text-anchor=\"middle\" x=\"297.5\" y=\"-446.3\">(None, 24, 24, 3)</text>\n<polyline fill=\"none\" points=\"235,-438.5 360,-438.5 \" stroke=\"#000000\"/>\n<text fill=\"#000000\" font-family=\"Times,serif\" font-size=\"14.00\" text-anchor=\"middle\" x=\"297.5\" y=\"-423.3\">(None, 22, 22, 32)</text>\n</g>\n<!-- 140049468225688&#45;&gt;140049468225016 -->\n<g class=\"edge\" id=\"edge1\">\n<title>140049468225688-&gt;140049468225016</title>\n<path d=\"M202,-498.3799C202,-490.1745 202,-480.7679 202,-471.8786\" fill=\"none\" stroke=\"#000000\"/>\n<polygon fill=\"#000000\" points=\"205.5001,-471.784 202,-461.784 198.5001,-471.784 205.5001,-471.784\" stroke=\"#000000\"/>\n</g>\n<!-- 140049468408552 -->\n<g class=\"node\" id=\"node3\">\n<title>140049468408552</title>\n<polygon fill=\"none\" points=\"44,-332.5 44,-378.5 360,-378.5 360,-332.5 44,-332.5\" stroke=\"#000000\"/>\n<text fill=\"#000000\" font-family=\"Times,serif\" font-size=\"14.00\" text-anchor=\"middle\" x=\"110.5\" y=\"-351.8\">conv2d_4: Conv2D</text>\n<polyline fill=\"none\" points=\"177,-332.5 177,-378.5 \" stroke=\"#000000\"/>\n<text fill=\"#000000\" font-family=\"Times,serif\" font-size=\"14.00\" text-anchor=\"middle\" x=\"206\" y=\"-363.3\">input:</text>\n<polyline fill=\"none\" points=\"177,-355.5 235,-355.5 \" stroke=\"#000000\"/>\n<text fill=\"#000000\" font-family=\"Times,serif\" font-size=\"14.00\" text-anchor=\"middle\" x=\"206\" y=\"-340.3\">output:</text>\n<polyline fill=\"none\" points=\"235,-332.5 235,-378.5 \" stroke=\"#000000\"/>\n<text fill=\"#000000\" font-family=\"Times,serif\" font-size=\"14.00\" text-anchor=\"middle\" x=\"297.5\" y=\"-363.3\">(None, 22, 22, 32)</text>\n<polyline fill=\"none\" points=\"235,-355.5 360,-355.5 \" stroke=\"#000000\"/>\n<text fill=\"#000000\" font-family=\"Times,serif\" font-size=\"14.00\" text-anchor=\"middle\" x=\"297.5\" y=\"-340.3\">(None, 20, 20, 64)</text>\n</g>\n<!-- 140049468225016&#45;&gt;140049468408552 -->\n<g class=\"edge\" id=\"edge2\">\n<title>140049468225016-&gt;140049468408552</title>\n<path d=\"M202,-415.3799C202,-407.1745 202,-397.7679 202,-388.8786\" fill=\"none\" stroke=\"#000000\"/>\n<polygon fill=\"#000000\" points=\"205.5001,-388.784 202,-378.784 198.5001,-388.784 205.5001,-388.784\" stroke=\"#000000\"/>\n</g>\n<!-- 140049468223952 -->\n<g class=\"node\" id=\"node4\">\n<title>140049468223952</title>\n<polygon fill=\"none\" points=\"0,-249.5 0,-295.5 404,-295.5 404,-249.5 0,-249.5\" stroke=\"#000000\"/>\n<text fill=\"#000000\" font-family=\"Times,serif\" font-size=\"14.00\" text-anchor=\"middle\" x=\"110.5\" y=\"-268.8\">max_pooling2d_2: MaxPooling2D</text>\n<polyline fill=\"none\" points=\"221,-249.5 221,-295.5 \" stroke=\"#000000\"/>\n<text fill=\"#000000\" font-family=\"Times,serif\" font-size=\"14.00\" text-anchor=\"middle\" x=\"250\" y=\"-280.3\">input:</text>\n<polyline fill=\"none\" points=\"221,-272.5 279,-272.5 \" stroke=\"#000000\"/>\n<text fill=\"#000000\" font-family=\"Times,serif\" font-size=\"14.00\" text-anchor=\"middle\" x=\"250\" y=\"-257.3\">output:</text>\n<polyline fill=\"none\" points=\"279,-249.5 279,-295.5 \" stroke=\"#000000\"/>\n<text fill=\"#000000\" font-family=\"Times,serif\" font-size=\"14.00\" text-anchor=\"middle\" x=\"341.5\" y=\"-280.3\">(None, 20, 20, 64)</text>\n<polyline fill=\"none\" points=\"279,-272.5 404,-272.5 \" stroke=\"#000000\"/>\n<text fill=\"#000000\" font-family=\"Times,serif\" font-size=\"14.00\" text-anchor=\"middle\" x=\"341.5\" y=\"-257.3\">(None, 10, 10, 64)</text>\n</g>\n<!-- 140049468408552&#45;&gt;140049468223952 -->\n<g class=\"edge\" id=\"edge3\">\n<title>140049468408552-&gt;140049468223952</title>\n<path d=\"M202,-332.3799C202,-324.1745 202,-314.7679 202,-305.8786\" fill=\"none\" stroke=\"#000000\"/>\n<polygon fill=\"#000000\" points=\"205.5001,-305.784 202,-295.784 198.5001,-305.784 205.5001,-305.784\" stroke=\"#000000\"/>\n</g>\n<!-- 140050850295256 -->\n<g class=\"node\" id=\"node5\">\n<title>140050850295256</title>\n<polygon fill=\"none\" points=\"54,-166.5 54,-212.5 350,-212.5 350,-166.5 54,-166.5\" stroke=\"#000000\"/>\n<text fill=\"#000000\" font-family=\"Times,serif\" font-size=\"14.00\" text-anchor=\"middle\" x=\"110.5\" y=\"-185.8\">flatten_2: Flatten</text>\n<polyline fill=\"none\" points=\"167,-166.5 167,-212.5 \" stroke=\"#000000\"/>\n<text fill=\"#000000\" font-family=\"Times,serif\" font-size=\"14.00\" text-anchor=\"middle\" x=\"196\" y=\"-197.3\">input:</text>\n<polyline fill=\"none\" points=\"167,-189.5 225,-189.5 \" stroke=\"#000000\"/>\n<text fill=\"#000000\" font-family=\"Times,serif\" font-size=\"14.00\" text-anchor=\"middle\" x=\"196\" y=\"-174.3\">output:</text>\n<polyline fill=\"none\" points=\"225,-166.5 225,-212.5 \" stroke=\"#000000\"/>\n<text fill=\"#000000\" font-family=\"Times,serif\" font-size=\"14.00\" text-anchor=\"middle\" x=\"287.5\" y=\"-197.3\">(None, 10, 10, 64)</text>\n<polyline fill=\"none\" points=\"225,-189.5 350,-189.5 \" stroke=\"#000000\"/>\n<text fill=\"#000000\" font-family=\"Times,serif\" font-size=\"14.00\" text-anchor=\"middle\" x=\"287.5\" y=\"-174.3\">(None, 6400)</text>\n</g>\n<!-- 140049468223952&#45;&gt;140050850295256 -->\n<g class=\"edge\" id=\"edge4\">\n<title>140049468223952-&gt;140050850295256</title>\n<path d=\"M202,-249.3799C202,-241.1745 202,-231.7679 202,-222.8786\" fill=\"none\" stroke=\"#000000\"/>\n<polygon fill=\"#000000\" points=\"205.5001,-222.784 202,-212.784 198.5001,-222.784 205.5001,-222.784\" stroke=\"#000000\"/>\n</g>\n<!-- 140049468224568 -->\n<g class=\"node\" id=\"node6\">\n<title>140049468224568</title>\n<polygon fill=\"none\" points=\"72,-83.5 72,-129.5 332,-129.5 332,-83.5 72,-83.5\" stroke=\"#000000\"/>\n<text fill=\"#000000\" font-family=\"Times,serif\" font-size=\"14.00\" text-anchor=\"middle\" x=\"125.5\" y=\"-102.8\">dense_3: Dense</text>\n<polyline fill=\"none\" points=\"179,-83.5 179,-129.5 \" stroke=\"#000000\"/>\n<text fill=\"#000000\" font-family=\"Times,serif\" font-size=\"14.00\" text-anchor=\"middle\" x=\"208\" y=\"-114.3\">input:</text>\n<polyline fill=\"none\" points=\"179,-106.5 237,-106.5 \" stroke=\"#000000\"/>\n<text fill=\"#000000\" font-family=\"Times,serif\" font-size=\"14.00\" text-anchor=\"middle\" x=\"208\" y=\"-91.3\">output:</text>\n<polyline fill=\"none\" points=\"237,-83.5 237,-129.5 \" stroke=\"#000000\"/>\n<text fill=\"#000000\" font-family=\"Times,serif\" font-size=\"14.00\" text-anchor=\"middle\" x=\"284.5\" y=\"-114.3\">(None, 6400)</text>\n<polyline fill=\"none\" points=\"237,-106.5 332,-106.5 \" stroke=\"#000000\"/>\n<text fill=\"#000000\" font-family=\"Times,serif\" font-size=\"14.00\" text-anchor=\"middle\" x=\"284.5\" y=\"-91.3\">(None, 128)</text>\n</g>\n<!-- 140050850295256&#45;&gt;140049468224568 -->\n<g class=\"edge\" id=\"edge5\">\n<title>140050850295256-&gt;140049468224568</title>\n<path d=\"M202,-166.3799C202,-158.1745 202,-148.7679 202,-139.8786\" fill=\"none\" stroke=\"#000000\"/>\n<polygon fill=\"#000000\" points=\"205.5001,-139.784 202,-129.784 198.5001,-139.784 205.5001,-139.784\" stroke=\"#000000\"/>\n</g>\n<!-- 140050691285736 -->\n<g class=\"node\" id=\"node7\">\n<title>140050691285736</title>\n<polygon fill=\"none\" points=\"76,-.5 76,-46.5 328,-46.5 328,-.5 76,-.5\" stroke=\"#000000\"/>\n<text fill=\"#000000\" font-family=\"Times,serif\" font-size=\"14.00\" text-anchor=\"middle\" x=\"129.5\" y=\"-19.8\">dense_4: Dense</text>\n<polyline fill=\"none\" points=\"183,-.5 183,-46.5 \" stroke=\"#000000\"/>\n<text fill=\"#000000\" font-family=\"Times,serif\" font-size=\"14.00\" text-anchor=\"middle\" x=\"212\" y=\"-31.3\">input:</text>\n<polyline fill=\"none\" points=\"183,-23.5 241,-23.5 \" stroke=\"#000000\"/>\n<text fill=\"#000000\" font-family=\"Times,serif\" font-size=\"14.00\" text-anchor=\"middle\" x=\"212\" y=\"-8.3\">output:</text>\n<polyline fill=\"none\" points=\"241,-.5 241,-46.5 \" stroke=\"#000000\"/>\n<text fill=\"#000000\" font-family=\"Times,serif\" font-size=\"14.00\" text-anchor=\"middle\" x=\"284.5\" y=\"-31.3\">(None, 128)</text>\n<polyline fill=\"none\" points=\"241,-23.5 328,-23.5 \" stroke=\"#000000\"/>\n<text fill=\"#000000\" font-family=\"Times,serif\" font-size=\"14.00\" text-anchor=\"middle\" x=\"284.5\" y=\"-8.3\">(None, 3)</text>\n</g>\n<!-- 140049468224568&#45;&gt;140050691285736 -->\n<g class=\"edge\" id=\"edge6\">\n<title>140049468224568-&gt;140050691285736</title>\n<path d=\"M202,-83.3799C202,-75.1745 202,-65.7679 202,-56.8786\" fill=\"none\" stroke=\"#000000\"/>\n<polygon fill=\"#000000\" points=\"205.5001,-56.784 202,-46.784 198.5001,-56.784 205.5001,-56.784\" stroke=\"#000000\"/>\n</g>\n</g>\n</svg>"
          },
          "metadata": {
            "tags": []
          },
          "execution_count": 9
        }
      ]
    },
    {
      "cell_type": "code",
      "metadata": {
        "id": "EydxvKTumF2d",
        "colab_type": "code",
        "colab": {}
      },
      "source": [
        "# 3. 모델 학습과정 설정하기\n",
        "model.compile(loss='categorical_crossentropy', optimizer='adam', metrics=['accuracy'])"
      ],
      "execution_count": 0,
      "outputs": []
    },
    {
      "cell_type": "code",
      "metadata": {
        "id": "tSrzu2rpCcSE",
        "colab_type": "code",
        "colab": {
          "base_uri": "https://localhost:8080/",
          "height": 1000
        },
        "outputId": "5e0a3cf9-69f8-4a30-801d-d18b12fcb42f"
      },
      "source": [
        "# 4. 모델 학습시키기\n",
        "hist = model.fit_generator(\n",
        "    # 첫 번째 인자: 훈련 데이터셋을 제공할 제너레이터 지정\n",
        "    train_generator,\n",
        "    # steps_per_epoch: 한 epoch에 사용할 스텝 수를 지정\n",
        "    steps_per_epoch=15,\n",
        "    # epochs: 학습 반복 횟수\n",
        "    epochs=50,\n",
        "    # validation_data: 검증 데이터셋을 제공할 제너레이터 지정\n",
        "    validation_data=test_generator,\n",
        "    # validation_steps: 한 epoch 종료 시마다 검증할 때 사용되는 검증 스탭 수\n",
        "    validation_steps=5)"
      ],
      "execution_count": 12,
      "outputs": [
        {
          "output_type": "stream",
          "text": [
            "Epoch 1/50\n",
            "15/15 [==============================] - 0s 25ms/step - loss: 6.4108e-07 - accuracy: 1.0000 - val_loss: 1.5497e-06 - val_accuracy: 1.0000\n",
            "Epoch 2/50\n",
            "15/15 [==============================] - 0s 29ms/step - loss: 6.0399e-07 - accuracy: 1.0000 - val_loss: 3.8942e-06 - val_accuracy: 1.0000\n",
            "Epoch 3/50\n",
            "15/15 [==============================] - 0s 24ms/step - loss: 5.5896e-07 - accuracy: 1.0000 - val_loss: 4.3313e-06 - val_accuracy: 1.0000\n",
            "Epoch 4/50\n",
            "15/15 [==============================] - 0s 29ms/step - loss: 5.1657e-07 - accuracy: 1.0000 - val_loss: 0.0319 - val_accuracy: 1.0000\n",
            "Epoch 5/50\n",
            "15/15 [==============================] - 0s 23ms/step - loss: 4.2650e-07 - accuracy: 1.0000 - val_loss: 0.2201 - val_accuracy: 1.0000\n",
            "Epoch 6/50\n",
            "15/15 [==============================] - 0s 28ms/step - loss: 4.0266e-07 - accuracy: 1.0000 - val_loss: 3.7352e-06 - val_accuracy: 1.0000\n",
            "Epoch 7/50\n",
            "15/15 [==============================] - 0s 24ms/step - loss: 3.6822e-07 - accuracy: 1.0000 - val_loss: 7.5499e-07 - val_accuracy: 1.0000\n",
            "Epoch 8/50\n",
            "15/15 [==============================] - 0s 29ms/step - loss: 3.3114e-07 - accuracy: 1.0000 - val_loss: 0.2551 - val_accuracy: 1.0000\n",
            "Epoch 9/50\n",
            "15/15 [==============================] - 0s 24ms/step - loss: 3.1789e-07 - accuracy: 1.0000 - val_loss: 8.3446e-07 - val_accuracy: 1.0000\n",
            "Epoch 10/50\n",
            "15/15 [==============================] - 0s 25ms/step - loss: 2.9140e-07 - accuracy: 1.0000 - val_loss: 0.0013 - val_accuracy: 0.9333\n",
            "Epoch 11/50\n",
            "15/15 [==============================] - 0s 27ms/step - loss: 2.8345e-07 - accuracy: 1.0000 - val_loss: 0.0398 - val_accuracy: 1.0000\n",
            "Epoch 12/50\n",
            "15/15 [==============================] - 0s 24ms/step - loss: 2.6756e-07 - accuracy: 1.0000 - val_loss: 0.2439 - val_accuracy: 1.0000\n",
            "Epoch 13/50\n",
            "15/15 [==============================] - 0s 24ms/step - loss: 2.3842e-07 - accuracy: 1.0000 - val_loss: 9.5367e-07 - val_accuracy: 0.9333\n",
            "Epoch 14/50\n",
            "15/15 [==============================] - 0s 24ms/step - loss: 2.3842e-07 - accuracy: 1.0000 - val_loss: 0.2489 - val_accuracy: 1.0000\n",
            "Epoch 15/50\n",
            "15/15 [==============================] - 0s 24ms/step - loss: 2.1458e-07 - accuracy: 1.0000 - val_loss: 0.0368 - val_accuracy: 1.0000\n",
            "Epoch 16/50\n",
            "15/15 [==============================] - 0s 23ms/step - loss: 2.0398e-07 - accuracy: 1.0000 - val_loss: 2.1610e-04 - val_accuracy: 0.9333\n",
            "Epoch 17/50\n",
            "15/15 [==============================] - 0s 28ms/step - loss: 1.9073e-07 - accuracy: 1.0000 - val_loss: 3.9736e-07 - val_accuracy: 1.0000\n",
            "Epoch 18/50\n",
            "15/15 [==============================] - 0s 24ms/step - loss: 1.7484e-07 - accuracy: 1.0000 - val_loss: 0.0333 - val_accuracy: 0.9333\n",
            "Epoch 19/50\n",
            "15/15 [==============================] - 0s 27ms/step - loss: 1.6689e-07 - accuracy: 1.0000 - val_loss: 3.9736e-07 - val_accuracy: 0.9333\n",
            "Epoch 20/50\n",
            "15/15 [==============================] - 0s 28ms/step - loss: 1.7749e-07 - accuracy: 1.0000 - val_loss: 4.6889e-06 - val_accuracy: 1.0000\n",
            "Epoch 21/50\n",
            "15/15 [==============================] - 0s 23ms/step - loss: 1.5630e-07 - accuracy: 1.0000 - val_loss: 0.0015 - val_accuracy: 0.9333\n",
            "Epoch 22/50\n",
            "15/15 [==============================] - 0s 29ms/step - loss: 1.4835e-07 - accuracy: 1.0000 - val_loss: 0.0332 - val_accuracy: 0.9333\n",
            "Epoch 23/50\n",
            "15/15 [==============================] - 0s 28ms/step - loss: 1.3775e-07 - accuracy: 1.0000 - val_loss: 2.0732e-04 - val_accuracy: 0.9333\n",
            "Epoch 24/50\n",
            "15/15 [==============================] - 0s 26ms/step - loss: 1.3245e-07 - accuracy: 1.0000 - val_loss: 0.0015 - val_accuracy: 0.9333\n",
            "Epoch 25/50\n",
            "15/15 [==============================] - 0s 24ms/step - loss: 1.2981e-07 - accuracy: 1.0000 - val_loss: 3.1789e-07 - val_accuracy: 0.9333\n",
            "Epoch 26/50\n",
            "15/15 [==============================] - 0s 24ms/step - loss: 1.2451e-07 - accuracy: 1.0000 - val_loss: 2.3842e-07 - val_accuracy: 0.9333\n",
            "Epoch 27/50\n",
            "15/15 [==============================] - 0s 27ms/step - loss: 1.2186e-07 - accuracy: 1.0000 - val_loss: 0.0016 - val_accuracy: 0.9333\n",
            "Epoch 28/50\n",
            "15/15 [==============================] - 0s 26ms/step - loss: 1.0861e-07 - accuracy: 1.0000 - val_loss: 1.9382e-04 - val_accuracy: 0.9333\n",
            "Epoch 29/50\n",
            "15/15 [==============================] - 0s 24ms/step - loss: 1.0596e-07 - accuracy: 1.0000 - val_loss: 0.3671 - val_accuracy: 0.9333\n",
            "Epoch 30/50\n",
            "15/15 [==============================] - 0s 30ms/step - loss: 1.0331e-07 - accuracy: 1.0000 - val_loss: 2.5034e-06 - val_accuracy: 0.9333\n",
            "Epoch 31/50\n",
            "15/15 [==============================] - 0s 28ms/step - loss: 1.0067e-07 - accuracy: 1.0000 - val_loss: 0.4020 - val_accuracy: 0.9333\n",
            "Epoch 32/50\n",
            "15/15 [==============================] - 0s 26ms/step - loss: 1.0331e-07 - accuracy: 1.0000 - val_loss: 0.0353 - val_accuracy: 0.9333\n",
            "Epoch 33/50\n",
            "15/15 [==============================] - 0s 24ms/step - loss: 9.8017e-08 - accuracy: 1.0000 - val_loss: 0.3687 - val_accuracy: 0.9333\n",
            "Epoch 34/50\n",
            "15/15 [==============================] - 0s 28ms/step - loss: 9.2718e-08 - accuracy: 1.0000 - val_loss: 0.0016 - val_accuracy: 0.9333\n",
            "Epoch 35/50\n",
            "15/15 [==============================] - 0s 28ms/step - loss: 8.7420e-08 - accuracy: 1.0000 - val_loss: 0.0016 - val_accuracy: 0.9333\n",
            "Epoch 36/50\n",
            "15/15 [==============================] - 0s 26ms/step - loss: 7.9473e-08 - accuracy: 1.0000 - val_loss: 1.1524e-06 - val_accuracy: 0.9333\n",
            "Epoch 37/50\n",
            "15/15 [==============================] - 0s 25ms/step - loss: 8.4771e-08 - accuracy: 1.0000 - val_loss: 0.0019 - val_accuracy: 0.9333\n",
            "Epoch 38/50\n",
            "15/15 [==============================] - 0s 25ms/step - loss: 7.9473e-08 - accuracy: 1.0000 - val_loss: 3.2186e-06 - val_accuracy: 0.9333\n",
            "Epoch 39/50\n",
            "15/15 [==============================] - 0s 28ms/step - loss: 7.4175e-08 - accuracy: 1.0000 - val_loss: 1.6641e-04 - val_accuracy: 0.9333\n",
            "Epoch 40/50\n",
            "15/15 [==============================] - 0s 29ms/step - loss: 7.1526e-08 - accuracy: 1.0000 - val_loss: 0.0349 - val_accuracy: 0.9333\n",
            "Epoch 41/50\n",
            "15/15 [==============================] - 0s 28ms/step - loss: 6.6227e-08 - accuracy: 1.0000 - val_loss: 0.3986 - val_accuracy: 0.9333\n",
            "Epoch 42/50\n",
            "15/15 [==============================] - 0s 28ms/step - loss: 6.3578e-08 - accuracy: 1.0000 - val_loss: 0.3792 - val_accuracy: 0.9333\n",
            "Epoch 43/50\n",
            "15/15 [==============================] - 0s 24ms/step - loss: 6.3578e-08 - accuracy: 1.0000 - val_loss: 1.5895e-07 - val_accuracy: 0.9333\n",
            "Epoch 44/50\n",
            "15/15 [==============================] - 0s 28ms/step - loss: 5.5631e-08 - accuracy: 1.0000 - val_loss: 0.0347 - val_accuracy: 0.9333\n",
            "Epoch 45/50\n",
            "15/15 [==============================] - 0s 29ms/step - loss: 6.0929e-08 - accuracy: 1.0000 - val_loss: 0.0016 - val_accuracy: 0.9333\n",
            "Epoch 46/50\n",
            "15/15 [==============================] - 0s 25ms/step - loss: 5.8280e-08 - accuracy: 1.0000 - val_loss: 0.0339 - val_accuracy: 0.9333\n",
            "Epoch 47/50\n",
            "15/15 [==============================] - 0s 24ms/step - loss: 5.5631e-08 - accuracy: 1.0000 - val_loss: 1.8676e-06 - val_accuracy: 0.9333\n",
            "Epoch 48/50\n",
            "15/15 [==============================] - 0s 27ms/step - loss: 6.0929e-08 - accuracy: 1.0000 - val_loss: 0.3985 - val_accuracy: 0.9333\n",
            "Epoch 49/50\n",
            "15/15 [==============================] - 0s 25ms/step - loss: 5.0333e-08 - accuracy: 1.0000 - val_loss: 0.0015 - val_accuracy: 0.9333\n",
            "Epoch 50/50\n",
            "15/15 [==============================] - 0s 28ms/step - loss: 4.7684e-08 - accuracy: 1.0000 - val_loss: 1.8676e-06 - val_accuracy: 0.9333\n"
          ],
          "name": "stdout"
        }
      ]
    },
    {
      "cell_type": "code",
      "metadata": {
        "id": "HbCSQrzbCewP",
        "colab_type": "code",
        "colab": {
          "base_uri": "https://localhost:8080/",
          "height": 34
        },
        "outputId": "dab4daf1-0868-4a66-e171-a7e2005ee41f"
      },
      "source": [
        "print(hist.history.keys())"
      ],
      "execution_count": 15,
      "outputs": [
        {
          "output_type": "stream",
          "text": [
            "dict_keys(['val_loss', 'val_accuracy', 'loss', 'accuracy'])\n"
          ],
          "name": "stdout"
        }
      ]
    },
    {
      "cell_type": "code",
      "metadata": {
        "id": "wcRE257qDOsA",
        "colab_type": "code",
        "colab": {
          "base_uri": "https://localhost:8080/",
          "height": 307
        },
        "outputId": "b8f3053b-cae8-4323-b548-aa2affeaed84"
      },
      "source": [
        "%matplotlib inline\n",
        "import matplotlib.pyplot as plt\n",
        "\n",
        "fig, loss_ax = plt.subplots()\n",
        "\n",
        "acc_ax = loss_ax.twinx()\n",
        "\n",
        "loss_ax.plot(hist.history['loss'], 'y', label='train loss')\n",
        "# loss_ax.plot(hist.history['val_loss'], 'r', label='val loss')\n",
        "\n",
        "acc_ax.plot(hist.history['accuracy'], 'b', label='train acc')\n",
        "# acc_ax.plot(hist.history['val_accuracy'], 'g', label='val acc')\n",
        "\n",
        "loss_ax.set_xlabel('epoch')\n",
        "loss_ax.set_ylabel('loss')\n",
        "acc_ax.set_ylabel('accuracy')\n",
        "\n",
        "loss_ax.legend(loc='upper left')\n",
        "acc_ax.legend(loc='lower left')"
      ],
      "execution_count": 18,
      "outputs": [
        {
          "output_type": "execute_result",
          "data": {
            "text/plain": [
              "<matplotlib.legend.Legend at 0x7f5fce5566d8>"
            ]
          },
          "metadata": {
            "tags": []
          },
          "execution_count": 18
        },
        {
          "output_type": "display_data",
          "data": {
            "image/png": "[encoded data removed]",
            "text/plain": [
              "<Figure size 432x288 with 2 Axes>"
            ]
          },
          "metadata": {
            "tags": [],
            "needs_background": "light"
          }
        }
      ]
    },
    {
      "cell_type": "code",
      "metadata": {
        "id": "qQ6haxzyEWmH",
        "colab_type": "code",
        "colab": {
          "base_uri": "https://localhost:8080/",
          "height": 296
        },
        "outputId": "9df7cae5-d43f-42dc-8eb1-dc92e39091fc"
      },
      "source": [
        "fig, loss_ax = plt.subplots()\n",
        "\n",
        "acc_ax = loss_ax.twinx()\n",
        "\n",
        "loss_ax.plot(hist.history['val_loss'], 'r', label='val loss')\n",
        "\n",
        "acc_ax.plot(hist.history['val_accuracy'], 'g', label='val acc')\n",
        "\n",
        "loss_ax.set_xlabel('epoch')\n",
        "loss_ax.set_ylabel('loss')\n",
        "acc_ax.set_ylabel('accuracy')\n",
        "\n",
        "loss_ax.legend(loc='upper left')\n",
        "acc_ax.legend(loc='lower left')"
      ],
      "execution_count": 19,
      "outputs": [
        {
          "output_type": "execute_result",
          "data": {
            "text/plain": [
              "<matplotlib.legend.Legend at 0x7f5fce48fa58>"
            ]
          },
          "metadata": {
            "tags": []
          },
          "execution_count": 19
        },
        {
          "output_type": "display_data",
          "data": {
            "image/png": "[encoded data removed]",
            "text/plain": [
              "<Figure size 432x288 with 2 Axes>"
            ]
          },
          "metadata": {
            "tags": [],
            "needs_background": "light"
          }
        }
      ]
    },
    {
      "cell_type": "code",
      "metadata": {
        "id": "xLjMwutdE78E",
        "colab_type": "code",
        "colab": {
          "base_uri": "https://localhost:8080/",
          "height": 51
        },
        "outputId": "fffef676-482b-4d33-9ac9-ece2abbea6d2"
      },
      "source": [
        "# 6. 모델 평가하기\n",
        "print('-- Evaluate --')\n",
        "scores = model.evaluate_generator(test_generator, steps=5)\n",
        "print('%s: %.2f%%' %(model.metrics_names[1], scores[1] * 100))"
      ],
      "execution_count": 20,
      "outputs": [
        {
          "output_type": "stream",
          "text": [
            "-- Evaluate --\n",
            "accuracy: 93.33%\n"
          ],
          "name": "stdout"
        }
      ]
    },
    {
      "cell_type": "code",
      "metadata": {
        "id": "lEeHiRl2FMzN",
        "colab_type": "code",
        "colab": {
          "base_uri": "https://localhost:8080/",
          "height": 306
        },
        "outputId": "4642926f-e7cd-44ca-92e7-91bba319b8b1"
      },
      "source": [
        "# 7. 모델 사용하기\n",
        "print('-- Predict --')\n",
        "output = model.predict_generator(test_generator, steps=5)\n",
        "np.set_printoptions(formatter={'float': lambda x: '{0:0.3f}' .format(x)})\n",
        "print(test_generator.class_indices)\n",
        "print(output)"
      ],
      "execution_count": 21,
      "outputs": [
        {
          "output_type": "stream",
          "text": [
            "-- Predict --\n",
            "{'circle': 0, 'rectangle': 1, 'triangle': 2}\n",
            "[[1.000 0.000 0.000]\n",
            " [0.000 1.000 0.000]\n",
            " [0.999 0.000 0.001]\n",
            " [1.000 0.000 0.000]\n",
            " [0.000 0.097 0.903]\n",
            " [0.000 0.000 1.000]\n",
            " [1.000 0.000 0.000]\n",
            " [0.132 0.282 0.586]\n",
            " [0.000 0.000 1.000]\n",
            " [0.000 0.004 0.996]\n",
            " [0.000 1.000 0.000]\n",
            " [1.000 0.000 0.000]\n",
            " [0.000 0.000 1.000]\n",
            " [0.000 1.000 0.000]\n",
            " [0.000 1.000 0.000]]\n"
          ],
          "name": "stdout"
        }
      ]
    },
    {
      "cell_type": "code",
      "metadata": {
        "id": "q4bi8zkPFPjA",
        "colab_type": "code",
        "colab": {
          "base_uri": "https://localhost:8080/",
          "height": 34
        },
        "outputId": "0a1590e2-1f85-43c8-971e-6f9987c227a2"
      },
      "source": [
        "test_generator = test_datagen.flow_from_directory(\n",
        "    '/content/drive/My Drive/Colab Notebooks/handwriting_shape/preview',\n",
        "    target_size=(24, 24),\n",
        "    batch_size=3,\n",
        "    class_mode='categorical')"
      ],
      "execution_count": 24,
      "outputs": [
        {
          "output_type": "stream",
          "text": [
            "Found 30 images belonging to 1 classes.\n"
          ],
          "name": "stdout"
        }
      ]
    },
    {
      "cell_type": "code",
      "metadata": {
        "id": "pWorqnX_GBKC",
        "colab_type": "code",
        "colab": {
          "base_uri": "https://localhost:8080/",
          "height": 34
        },
        "outputId": "71dc3522-85b8-4942-eb67-2118c5581f9c"
      },
      "source": [
        "print(test_generator.class_indices)"
      ],
      "execution_count": 25,
      "outputs": [
        {
          "output_type": "stream",
          "text": [
            "{'triangle': 0}\n"
          ],
          "name": "stdout"
        }
      ]
    },
    {
      "cell_type": "code",
      "metadata": {
        "id": "GJAKBUcQGeoM",
        "colab_type": "code",
        "colab": {
          "base_uri": "https://localhost:8080/",
          "height": 306
        },
        "outputId": "7b5aecdc-3c69-4d52-9a3b-bba4e846ee5b"
      },
      "source": [
        "print('-- Predict --')\n",
        "output = model.predict_generator(test_generator, steps=5)\n",
        "np.set_printoptions(formatter={'float': lambda x: '{0:0.3f}' .format(x)})\n",
        "print(\"{'circle': 0, 'rectangle': 1, 'triangle': 2}\")\n",
        "print(output)"
      ],
      "execution_count": 29,
      "outputs": [
        {
          "output_type": "stream",
          "text": [
            "-- Predict --\n",
            "{'circle': 0, 'rectangle': 1, 'triangle': 2}\n",
            "[[0.000 0.000 1.000]\n",
            " [0.001 0.000 0.999]\n",
            " [0.000 0.000 1.000]\n",
            " [0.000 0.002 0.998]\n",
            " [0.000 0.045 0.954]\n",
            " [0.014 0.128 0.858]\n",
            " [0.028 0.003 0.970]\n",
            " [0.000 0.000 1.000]\n",
            " [0.000 0.000 1.000]\n",
            " [0.000 0.000 1.000]\n",
            " [0.000 0.091 0.909]\n",
            " [0.001 0.001 0.998]\n",
            " [0.000 0.000 1.000]\n",
            " [0.000 0.000 1.000]\n",
            " [0.007 0.000 0.993]]\n"
          ],
          "name": "stdout"
        }
      ]
    },
    {
      "cell_type": "code",
      "metadata": {
        "id": "z_oEbWI4GhQQ",
        "colab_type": "code",
        "colab": {}
      },
      "source": [
        ""
      ],
      "execution_count": 0,
      "outputs": []
    }
  ]
}